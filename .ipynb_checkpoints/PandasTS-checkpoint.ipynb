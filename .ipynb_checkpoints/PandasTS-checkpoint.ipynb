{
 "cells": [
  {
   "cell_type": "code",
   "execution_count": 4,
   "id": "portuguese-gates",
   "metadata": {},
   "outputs": [],
   "source": [
    "import datetime\n",
    "import pandas as pd\n",
    "import numpy as np"
   ]
  },
  {
   "cell_type": "code",
   "execution_count": 2,
   "id": "moved-reform",
   "metadata": {},
   "outputs": [],
   "source": [
    "# Time Series information can be parsed from various sources and formates"
   ]
  },
  {
   "cell_type": "code",
   "execution_count": 5,
   "id": "indonesian-starter",
   "metadata": {},
   "outputs": [],
   "source": [
    "dti = pd.to_datetime(\n",
    "[\"1/1/2018\", np.datetime64(\"2018-01-01\"), datetime.datetime(2018,1,1)])"
   ]
  },
  {
   "cell_type": "code",
   "execution_count": 6,
   "id": "occupied-october",
   "metadata": {},
   "outputs": [
    {
     "data": {
      "text/plain": [
       "DatetimeIndex(['2018-01-01', '2018-01-01', '2018-01-01'], dtype='datetime64[ns]', freq=None)"
      ]
     },
     "execution_count": 6,
     "metadata": {},
     "output_type": "execute_result"
    }
   ],
   "source": [
    "dti"
   ]
  },
  {
   "cell_type": "code",
   "execution_count": 7,
   "id": "recreational-friday",
   "metadata": {},
   "outputs": [],
   "source": [
    "# Generating sequencees of fixed-frequebcy dates and time spans #"
   ]
  },
  {
   "cell_type": "code",
   "execution_count": 10,
   "id": "liquid-coordinator",
   "metadata": {},
   "outputs": [],
   "source": [
    "fixed_frq_dates = pd.date_range(\"2018-01-01\", periods=6, freq=\"H\")"
   ]
  },
  {
   "cell_type": "code",
   "execution_count": 11,
   "id": "funky-plaintiff",
   "metadata": {},
   "outputs": [
    {
     "data": {
      "text/plain": [
       "DatetimeIndex(['2018-01-01 00:00:00', '2018-01-01 01:00:00',\n",
       "               '2018-01-01 02:00:00', '2018-01-01 03:00:00',\n",
       "               '2018-01-01 04:00:00', '2018-01-01 05:00:00'],\n",
       "              dtype='datetime64[ns]', freq='H')"
      ]
     },
     "execution_count": 11,
     "metadata": {},
     "output_type": "execute_result"
    }
   ],
   "source": [
    "fixed_frq_dates"
   ]
  },
  {
   "cell_type": "code",
   "execution_count": 13,
   "id": "coastal-blake",
   "metadata": {},
   "outputs": [],
   "source": [
    "# Converting to UTC time #"
   ]
  },
  {
   "cell_type": "code",
   "execution_count": 12,
   "id": "imposed-redhead",
   "metadata": {},
   "outputs": [
    {
     "data": {
      "text/plain": [
       "DatetimeIndex(['2018-01-01 00:00:00+00:00', '2018-01-01 01:00:00+00:00',\n",
       "               '2018-01-01 02:00:00+00:00', '2018-01-01 03:00:00+00:00',\n",
       "               '2018-01-01 04:00:00+00:00', '2018-01-01 05:00:00+00:00'],\n",
       "              dtype='datetime64[ns, UTC]', freq='H')"
      ]
     },
     "execution_count": 12,
     "metadata": {},
     "output_type": "execute_result"
    }
   ],
   "source": [
    "fixed_frq_dates.tz_localize(\"UTC\")"
   ]
  },
  {
   "cell_type": "code",
   "execution_count": 14,
   "id": "experienced-migration",
   "metadata": {},
   "outputs": [],
   "source": [
    "# Converting to local time zone #"
   ]
  },
  {
   "cell_type": "code",
   "execution_count": 16,
   "id": "handed-gender",
   "metadata": {},
   "outputs": [
    {
     "data": {
      "text/plain": [
       "DatetimeIndex(['2017-12-31 16:00:00-08:00', '2017-12-31 17:00:00-08:00',\n",
       "               '2017-12-31 18:00:00-08:00', '2017-12-31 19:00:00-08:00',\n",
       "               '2017-12-31 20:00:00-08:00', '2017-12-31 21:00:00-08:00'],\n",
       "              dtype='datetime64[ns, US/Pacific]', freq='H')"
      ]
     },
     "execution_count": 16,
     "metadata": {},
     "output_type": "execute_result"
    }
   ],
   "source": [
    "fixed_frq_dates.tz_localize(\"UTC\").tz_convert(\"US/Pacific\")"
   ]
  },
  {
   "cell_type": "code",
   "execution_count": 17,
   "id": "ranging-blade",
   "metadata": {},
   "outputs": [],
   "source": [
    "# Resampling or converting a time series to a particular frequency"
   ]
  },
  {
   "cell_type": "code",
   "execution_count": 19,
   "id": "faced-chance",
   "metadata": {},
   "outputs": [],
   "source": [
    "idx = pd.date_range(start=\"2018-01-01\", periods=5, freq=\"H\")"
   ]
  },
  {
   "cell_type": "code",
   "execution_count": 22,
   "id": "virgin-tsunami",
   "metadata": {},
   "outputs": [],
   "source": [
    "ts = pd.Series(range(len(idx)), index=idx)"
   ]
  },
  {
   "cell_type": "code",
   "execution_count": 49,
   "id": "persistent-mailing",
   "metadata": {},
   "outputs": [],
   "source": [
    "# ts obj. is sampled with hourly frequency\n",
    "# let's resampled/downsample it with 2 Hour freq, and calc. mean\n",
    "# Resampling is akin to groupBy with indices on index\n",
    "# ts.resample(\"2H\").groups will provide group key"
   ]
  },
  {
   "cell_type": "code",
   "execution_count": 42,
   "id": "vital-colon",
   "metadata": {},
   "outputs": [
    {
     "data": {
      "text/plain": [
       "2018-01-01 00:00:00    0.5\n",
       "2018-01-01 02:00:00    2.5\n",
       "2018-01-01 04:00:00    4.0\n",
       "Freq: 2H, dtype: float64"
      ]
     },
     "execution_count": 42,
     "metadata": {},
     "output_type": "execute_result"
    }
   ],
   "source": [
    "ts.resample(\"2H\").mean()"
   ]
  },
  {
   "cell_type": "code",
   "execution_count": 47,
   "id": "smooth-necklace",
   "metadata": {},
   "outputs": [
    {
     "data": {
      "text/plain": [
       "2018-01-01 00:00:00    0\n",
       "2018-01-01 01:00:00    1\n",
       "2018-01-01 02:00:00    2\n",
       "2018-01-01 03:00:00    3\n",
       "2018-01-01 04:00:00    4\n",
       "Freq: H, dtype: int64"
      ]
     },
     "execution_count": 47,
     "metadata": {},
     "output_type": "execute_result"
    }
   ],
   "source": [
    "ts"
   ]
  },
  {
   "cell_type": "code",
   "execution_count": 46,
   "id": "sorted-architecture",
   "metadata": {},
   "outputs": [
    {
     "data": {
      "text/plain": [
       "{Timestamp('2018-01-01 00:00:00', freq='2H'): 2,\n",
       " Timestamp('2018-01-01 02:00:00', freq='2H'): 4,\n",
       " Timestamp('2018-01-01 04:00:00', freq='2H'): 5}"
      ]
     },
     "execution_count": 46,
     "metadata": {},
     "output_type": "execute_result"
    }
   ],
   "source": [
    "ts.resample(\"2H\").groups"
   ]
  },
  {
   "cell_type": "code",
   "execution_count": 37,
   "id": "experienced-leader",
   "metadata": {},
   "outputs": [
    {
     "data": {
      "text/plain": [
       "2018-01-01 00:00:00    0\n",
       "2018-01-01 01:00:00    1\n",
       "Freq: H, dtype: int64"
      ]
     },
     "execution_count": 37,
     "metadata": {},
     "output_type": "execute_result"
    }
   ],
   "source": [
    "ts.resample(\"2H\").get_group(name='2018-01-01 00:00:00')"
   ]
  },
  {
   "cell_type": "code",
   "execution_count": 39,
   "id": "different-laugh",
   "metadata": {},
   "outputs": [
    {
     "data": {
      "text/plain": [
       "2018-01-01 02:00:00    2\n",
       "2018-01-01 03:00:00    3\n",
       "Freq: H, dtype: int64"
      ]
     },
     "execution_count": 39,
     "metadata": {},
     "output_type": "execute_result"
    }
   ],
   "source": [
    "ts.resample(\"2H\").get_group(name='2018-01-01 02:00:00')"
   ]
  },
  {
   "cell_type": "code",
   "execution_count": 40,
   "id": "interior-wholesale",
   "metadata": {},
   "outputs": [
    {
     "data": {
      "text/plain": [
       "2018-01-01 04:00:00    4\n",
       "Freq: H, dtype: int64"
      ]
     },
     "execution_count": 40,
     "metadata": {},
     "output_type": "execute_result"
    }
   ],
   "source": [
    "ts.resample(\"2H\").get_group(name='2018-01-01 04:00:00')"
   ]
  },
  {
   "cell_type": "code",
   "execution_count": 51,
   "id": "front-shelf",
   "metadata": {},
   "outputs": [],
   "source": [
    "# Doing Date and Time Arithemetic with abs or relative time increments #"
   ]
  },
  {
   "cell_type": "code",
   "execution_count": 64,
   "id": "falling-header",
   "metadata": {},
   "outputs": [],
   "source": [
    "friday = pd.Timestamp(\"2018-01-05\")"
   ]
  },
  {
   "cell_type": "code",
   "execution_count": 65,
   "id": "nonprofit-nowhere",
   "metadata": {},
   "outputs": [
    {
     "data": {
      "text/plain": [
       "'Friday'"
      ]
     },
     "execution_count": 65,
     "metadata": {},
     "output_type": "execute_result"
    }
   ],
   "source": [
    "friday.day_name()"
   ]
  },
  {
   "cell_type": "code",
   "execution_count": 66,
   "id": "religious-architect",
   "metadata": {},
   "outputs": [],
   "source": [
    "saturday = friday + pd.Timedelta(\"1 day\")"
   ]
  },
  {
   "cell_type": "code",
   "execution_count": 67,
   "id": "greek-butter",
   "metadata": {},
   "outputs": [
    {
     "data": {
      "text/plain": [
       "'Saturday'"
      ]
     },
     "execution_count": 67,
     "metadata": {},
     "output_type": "execute_result"
    }
   ],
   "source": [
    "saturday.day_name()"
   ]
  },
  {
   "cell_type": "code",
   "execution_count": 68,
   "id": "piano-glossary",
   "metadata": {},
   "outputs": [
    {
     "data": {
      "text/plain": [
       "Timestamp('2018-01-05 00:00:00')"
      ]
     },
     "execution_count": 68,
     "metadata": {},
     "output_type": "execute_result"
    }
   ],
   "source": [
    "friday"
   ]
  },
  {
   "cell_type": "code",
   "execution_count": 69,
   "id": "rational-choir",
   "metadata": {},
   "outputs": [],
   "source": [
    "monday = friday + pd.offsets.BDay()"
   ]
  },
  {
   "cell_type": "code",
   "execution_count": 70,
   "id": "frozen-kazakhstan",
   "metadata": {},
   "outputs": [
    {
     "data": {
      "text/plain": [
       "'Monday'"
      ]
     },
     "execution_count": 70,
     "metadata": {},
     "output_type": "execute_result"
    }
   ],
   "source": [
    "monday.day_name()"
   ]
  },
  {
   "cell_type": "markdown",
   "id": "large-chassis",
   "metadata": {},
   "source": [
    "## Overview\n",
    "\n",
    "1. Date times: Similar to `datetime.datetime` from the standard library\n",
    "2. Time delta: Similar to `datetime.timedelta`from python\n",
    "3. Time spans: A span of time defined with req. frequency\n"
   ]
  },
  {
   "cell_type": "code",
   "execution_count": 73,
   "id": "absolute-visibility",
   "metadata": {},
   "outputs": [
    {
     "data": {
      "text/plain": [
       "2000-01-01    0\n",
       "2000-01-02    1\n",
       "2000-01-03    2\n",
       "2000-01-04    3\n",
       "Freq: D, dtype: int64"
      ]
     },
     "execution_count": 73,
     "metadata": {},
     "output_type": "execute_result"
    }
   ],
   "source": [
    "# Series with time component in index #\n",
    "pd.Series(range(4), index=pd.date_range(start=\"2000\",\n",
    "                                        freq=\"D\", periods=4))"
   ]
  },
  {
   "cell_type": "code",
   "execution_count": 74,
   "id": "vocational-groove",
   "metadata": {},
   "outputs": [
    {
     "data": {
      "text/plain": [
       "0   2000-01-01\n",
       "1   2000-01-02\n",
       "2   2000-01-03\n",
       "3   2000-01-04\n",
       "dtype: datetime64[ns]"
      ]
     },
     "execution_count": 74,
     "metadata": {},
     "output_type": "execute_result"
    }
   ],
   "source": [
    "pd.Series(pd.date_range(start=\"2000\",freq=\"D\", periods=4))"
   ]
  },
  {
   "cell_type": "code",
   "execution_count": 75,
   "id": "dirty-advocacy",
   "metadata": {},
   "outputs": [
    {
     "data": {
      "text/plain": [
       "0    2000-01-01\n",
       "1    2000-01-02\n",
       "2    2000-01-03\n",
       "3    2000-01-04\n",
       "dtype: period[D]"
      ]
     },
     "execution_count": 75,
     "metadata": {},
     "output_type": "execute_result"
    }
   ],
   "source": [
    "pd.Series(pd.period_range(start=\"2000\",freq=\"D\", periods=4))"
   ]
  },
  {
   "cell_type": "code",
   "execution_count": 76,
   "id": "northern-parameter",
   "metadata": {},
   "outputs": [],
   "source": [
    "# Null date times, time deltas and time spans as NAT\n",
    "# can be usefull representing missing or null date like "
   ]
  },
  {
   "cell_type": "code",
   "execution_count": 78,
   "id": "acceptable-shape",
   "metadata": {},
   "outputs": [
    {
     "data": {
      "text/plain": [
       "NaT"
      ]
     },
     "execution_count": 78,
     "metadata": {},
     "output_type": "execute_result"
    }
   ],
   "source": [
    "pd.Timestamp(pd.NaT)"
   ]
  },
  {
   "cell_type": "code",
   "execution_count": 80,
   "id": "opponent-heater",
   "metadata": {},
   "outputs": [
    {
     "data": {
      "text/plain": [
       "NaT"
      ]
     },
     "execution_count": 80,
     "metadata": {},
     "output_type": "execute_result"
    }
   ],
   "source": [
    "pd.Timedelta(pd.NaT)"
   ]
  },
  {
   "cell_type": "code",
   "execution_count": 81,
   "id": "still-arrangement",
   "metadata": {},
   "outputs": [
    {
     "data": {
      "text/plain": [
       "NaT"
      ]
     },
     "execution_count": 81,
     "metadata": {},
     "output_type": "execute_result"
    }
   ],
   "source": [
    "pd.Period(pd.NaT)"
   ]
  },
  {
   "cell_type": "code",
   "execution_count": 82,
   "id": "compatible-structure",
   "metadata": {},
   "outputs": [
    {
     "data": {
      "text/plain": [
       "False"
      ]
     },
     "execution_count": 82,
     "metadata": {},
     "output_type": "execute_result"
    }
   ],
   "source": [
    "pd.NaT == pd.NaT"
   ]
  },
  {
   "cell_type": "code",
   "execution_count": 83,
   "id": "disturbed-ability",
   "metadata": {},
   "outputs": [
    {
     "data": {
      "text/plain": [
       "False"
      ]
     },
     "execution_count": 83,
     "metadata": {},
     "output_type": "execute_result"
    }
   ],
   "source": [
    "np.nan == np.nan"
   ]
  },
  {
   "cell_type": "markdown",
   "id": "printable-idaho",
   "metadata": {},
   "source": [
    "## Timestamps vs. time spans\n",
    "\n",
    "**Timestamp:**\n",
    "When values are associated with time:\n",
    "> Like a graph between: `Temperature vs Time`\n",
    "\n",
    "**timespans:**\n",
    "Change in variables can be associated with a time span"
   ]
  },
  {
   "cell_type": "code",
   "execution_count": 85,
   "id": "dimensional-sierra",
   "metadata": {},
   "outputs": [
    {
     "data": {
      "text/plain": [
       "Timestamp('2012-05-01 00:00:00')"
      ]
     },
     "execution_count": 85,
     "metadata": {},
     "output_type": "execute_result"
    }
   ],
   "source": [
    "pd.Timestamp(datetime.datetime(2012, 5, 1))"
   ]
  },
  {
   "cell_type": "code",
   "execution_count": 86,
   "id": "republican-superintendent",
   "metadata": {},
   "outputs": [
    {
     "data": {
      "text/plain": [
       "Timestamp('2012-05-01 00:00:00')"
      ]
     },
     "execution_count": 86,
     "metadata": {},
     "output_type": "execute_result"
    }
   ],
   "source": [
    "pd.Timestamp(\"2012-05-01\")"
   ]
  },
  {
   "cell_type": "code",
   "execution_count": 87,
   "id": "magnetic-nirvana",
   "metadata": {},
   "outputs": [
    {
     "data": {
      "text/plain": [
       "Timestamp('2012-05-01 00:00:00')"
      ]
     },
     "execution_count": 87,
     "metadata": {},
     "output_type": "execute_result"
    }
   ],
   "source": [
    "pd.Timestamp(2012, 5, 1)"
   ]
  },
  {
   "cell_type": "code",
   "execution_count": 88,
   "id": "eligible-brush",
   "metadata": {},
   "outputs": [
    {
     "data": {
      "text/plain": [
       "Period('2011-01', 'M')"
      ]
     },
     "execution_count": 88,
     "metadata": {},
     "output_type": "execute_result"
    }
   ],
   "source": [
    "pd.Period(\"2011-01\")"
   ]
  },
  {
   "cell_type": "code",
   "execution_count": 89,
   "id": "unique-climate",
   "metadata": {},
   "outputs": [
    {
     "data": {
      "text/plain": [
       "Period('2012-05-01', 'D')"
      ]
     },
     "execution_count": 89,
     "metadata": {},
     "output_type": "execute_result"
    }
   ],
   "source": [
    "pd.Period(\"2012-05\", freq=\"D\")"
   ]
  },
  {
   "cell_type": "code",
   "execution_count": 91,
   "id": "norman-collectible",
   "metadata": {},
   "outputs": [],
   "source": [
    "# Both timestamp and period can serve as an index #\n",
    "date = [pd.Timestamp(\"2012-05-01\"),\n",
    "        pd.Timestamp(\"2012-05-02\"),\n",
    "        pd.Timestamp(\"2012-05-03\")]"
   ]
  },
  {
   "cell_type": "code",
   "execution_count": 93,
   "id": "noble-prayer",
   "metadata": {},
   "outputs": [],
   "source": [
    "ts = pd.Series(np.random.randn(3), date)"
   ]
  },
  {
   "cell_type": "code",
   "execution_count": 94,
   "id": "posted-effectiveness",
   "metadata": {},
   "outputs": [
    {
     "data": {
      "text/plain": [
       "2012-05-01   -0.350305\n",
       "2012-05-02   -0.224016\n",
       "2012-05-03   -1.233673\n",
       "dtype: float64"
      ]
     },
     "execution_count": 94,
     "metadata": {},
     "output_type": "execute_result"
    }
   ],
   "source": [
    "ts"
   ]
  },
  {
   "cell_type": "code",
   "execution_count": 95,
   "id": "humanitarian-stations",
   "metadata": {},
   "outputs": [
    {
     "data": {
      "text/plain": [
       "pandas.core.indexes.datetimes.DatetimeIndex"
      ]
     },
     "execution_count": 95,
     "metadata": {},
     "output_type": "execute_result"
    }
   ],
   "source": [
    "type(ts.index)"
   ]
  },
  {
   "cell_type": "code",
   "execution_count": null,
   "id": "ordered-vatican",
   "metadata": {},
   "outputs": [],
   "source": []
  }
 ],
 "metadata": {
  "kernelspec": {
   "display_name": "Python 3",
   "language": "python",
   "name": "python3"
  },
  "language_info": {
   "codemirror_mode": {
    "name": "ipython",
    "version": 3
   },
   "file_extension": ".py",
   "mimetype": "text/x-python",
   "name": "python",
   "nbconvert_exporter": "python",
   "pygments_lexer": "ipython3",
   "version": "3.9.2"
  }
 },
 "nbformat": 4,
 "nbformat_minor": 5
}
