{
 "cells": [
  {
   "cell_type": "code",
   "execution_count": 1,
   "id": "worthy-andorra",
   "metadata": {},
   "outputs": [],
   "source": [
    "import datetime\n",
    "import pandas as pd\n",
    "import numpy as np"
   ]
  },
  {
   "cell_type": "code",
   "execution_count": 2,
   "id": "simplified-bottle",
   "metadata": {},
   "outputs": [],
   "source": [
    "# Time Series information can be parsed from various sources and formates"
   ]
  },
  {
   "cell_type": "code",
   "execution_count": 3,
   "id": "demanding-price",
   "metadata": {},
   "outputs": [],
   "source": [
    "dti = pd.to_datetime(\n",
    "[\"1/1/2018\", np.datetime64(\"2018-01-01\"), datetime.datetime(2018,1,1)])"
   ]
  },
  {
   "cell_type": "code",
   "execution_count": 4,
   "id": "nasty-islam",
   "metadata": {},
   "outputs": [
    {
     "data": {
      "text/plain": [
       "DatetimeIndex(['2018-01-01', '2018-01-01', '2018-01-01'], dtype='datetime64[ns]', freq=None)"
      ]
     },
     "execution_count": 4,
     "metadata": {},
     "output_type": "execute_result"
    }
   ],
   "source": [
    "dti"
   ]
  },
  {
   "cell_type": "code",
   "execution_count": 5,
   "id": "composed-trinidad",
   "metadata": {},
   "outputs": [],
   "source": [
    "# Generating sequencees of fixed-frequebcy dates and time spans #"
   ]
  },
  {
   "cell_type": "code",
   "execution_count": 6,
   "id": "planned-industry",
   "metadata": {},
   "outputs": [],
   "source": [
    "fixed_frq_dates = pd.date_range(\"2018-01-01\", periods=6, freq=\"H\")"
   ]
  },
  {
   "cell_type": "code",
   "execution_count": 7,
   "id": "sealed-project",
   "metadata": {},
   "outputs": [
    {
     "data": {
      "text/plain": [
       "DatetimeIndex(['2018-01-01 00:00:00', '2018-01-01 01:00:00',\n",
       "               '2018-01-01 02:00:00', '2018-01-01 03:00:00',\n",
       "               '2018-01-01 04:00:00', '2018-01-01 05:00:00'],\n",
       "              dtype='datetime64[ns]', freq='H')"
      ]
     },
     "execution_count": 7,
     "metadata": {},
     "output_type": "execute_result"
    }
   ],
   "source": [
    "fixed_frq_dates"
   ]
  },
  {
   "cell_type": "code",
   "execution_count": 8,
   "id": "cosmetic-saver",
   "metadata": {},
   "outputs": [],
   "source": [
    "# Converting to UTC time #"
   ]
  },
  {
   "cell_type": "code",
   "execution_count": 9,
   "id": "overhead-banks",
   "metadata": {},
   "outputs": [
    {
     "data": {
      "text/plain": [
       "DatetimeIndex(['2018-01-01 00:00:00+00:00', '2018-01-01 01:00:00+00:00',\n",
       "               '2018-01-01 02:00:00+00:00', '2018-01-01 03:00:00+00:00',\n",
       "               '2018-01-01 04:00:00+00:00', '2018-01-01 05:00:00+00:00'],\n",
       "              dtype='datetime64[ns, UTC]', freq='H')"
      ]
     },
     "execution_count": 9,
     "metadata": {},
     "output_type": "execute_result"
    }
   ],
   "source": [
    "fixed_frq_dates.tz_localize(\"UTC\")"
   ]
  },
  {
   "cell_type": "code",
   "execution_count": 10,
   "id": "sporting-vertical",
   "metadata": {},
   "outputs": [],
   "source": [
    "# Converting to local time zone #"
   ]
  },
  {
   "cell_type": "code",
   "execution_count": 11,
   "id": "placed-overhead",
   "metadata": {},
   "outputs": [
    {
     "data": {
      "text/plain": [
       "DatetimeIndex(['2017-12-31 16:00:00-08:00', '2017-12-31 17:00:00-08:00',\n",
       "               '2017-12-31 18:00:00-08:00', '2017-12-31 19:00:00-08:00',\n",
       "               '2017-12-31 20:00:00-08:00', '2017-12-31 21:00:00-08:00'],\n",
       "              dtype='datetime64[ns, US/Pacific]', freq='H')"
      ]
     },
     "execution_count": 11,
     "metadata": {},
     "output_type": "execute_result"
    }
   ],
   "source": [
    "fixed_frq_dates.tz_localize(\"UTC\").tz_convert(\"US/Pacific\")"
   ]
  },
  {
   "cell_type": "code",
   "execution_count": 12,
   "id": "union-manitoba",
   "metadata": {},
   "outputs": [],
   "source": [
    "# Resampling or converting a time series to a particular frequency"
   ]
  },
  {
   "cell_type": "code",
   "execution_count": 13,
   "id": "macro-agent",
   "metadata": {},
   "outputs": [],
   "source": [
    "idx = pd.date_range(start=\"2018-01-01\", periods=5, freq=\"H\")"
   ]
  },
  {
   "cell_type": "code",
   "execution_count": 14,
   "id": "russian-flooring",
   "metadata": {},
   "outputs": [],
   "source": [
    "ts = pd.Series(range(len(idx)), index=idx)"
   ]
  },
  {
   "cell_type": "code",
   "execution_count": 49,
   "id": "dense-fossil",
   "metadata": {},
   "outputs": [],
   "source": [
    "# ts obj. is sampled with hourly frequency\n",
    "# let's resampled/downsample it with 2 Hour freq, and calc. mean\n",
    "# Resampling is akin to groupBy with indices on index\n",
    "# ts.resample(\"2H\").groups will provide group key"
   ]
  },
  {
   "cell_type": "code",
   "execution_count": 15,
   "id": "partial-thomas",
   "metadata": {},
   "outputs": [
    {
     "data": {
      "text/plain": [
       "2018-01-01 00:00:00    0.5\n",
       "2018-01-01 02:00:00    2.5\n",
       "2018-01-01 04:00:00    4.0\n",
       "Freq: 2H, dtype: float64"
      ]
     },
     "execution_count": 15,
     "metadata": {},
     "output_type": "execute_result"
    }
   ],
   "source": [
    "ts.resample(\"2H\").mean()"
   ]
  },
  {
   "cell_type": "code",
   "execution_count": 16,
   "id": "posted-violence",
   "metadata": {},
   "outputs": [
    {
     "data": {
      "text/plain": [
       "2018-01-01 00:00:00    0\n",
       "2018-01-01 01:00:00    1\n",
       "2018-01-01 02:00:00    2\n",
       "2018-01-01 03:00:00    3\n",
       "2018-01-01 04:00:00    4\n",
       "Freq: H, dtype: int64"
      ]
     },
     "execution_count": 16,
     "metadata": {},
     "output_type": "execute_result"
    }
   ],
   "source": [
    "ts"
   ]
  },
  {
   "cell_type": "code",
   "execution_count": 17,
   "id": "sacred-hybrid",
   "metadata": {},
   "outputs": [
    {
     "data": {
      "text/plain": [
       "{Timestamp('2018-01-01 00:00:00', freq='2H'): 2,\n",
       " Timestamp('2018-01-01 02:00:00', freq='2H'): 4,\n",
       " Timestamp('2018-01-01 04:00:00', freq='2H'): 5}"
      ]
     },
     "execution_count": 17,
     "metadata": {},
     "output_type": "execute_result"
    }
   ],
   "source": [
    "ts.resample(\"2H\").groups"
   ]
  },
  {
   "cell_type": "code",
   "execution_count": 21,
   "id": "continuing-corpus",
   "metadata": {},
   "outputs": [
    {
     "data": {
      "text/plain": [
       "2018-01-01 00:00:00    0\n",
       "2018-01-01 01:00:00    1\n",
       "Freq: H, dtype: int64"
      ]
     },
     "execution_count": 21,
     "metadata": {},
     "output_type": "execute_result"
    }
   ],
   "source": [
    "ts.resample(\"2H\").get_group(name='2018-01-01 00:00:00')"
   ]
  },
  {
   "cell_type": "code",
   "execution_count": 22,
   "id": "opponent-shoot",
   "metadata": {},
   "outputs": [
    {
     "data": {
      "text/plain": [
       "2018-01-01 02:00:00    2\n",
       "2018-01-01 03:00:00    3\n",
       "Freq: H, dtype: int64"
      ]
     },
     "execution_count": 22,
     "metadata": {},
     "output_type": "execute_result"
    }
   ],
   "source": [
    "ts.resample(\"2H\").get_group(name='2018-01-01 02:00:00')"
   ]
  },
  {
   "cell_type": "code",
   "execution_count": 23,
   "id": "placed-cotton",
   "metadata": {},
   "outputs": [
    {
     "data": {
      "text/plain": [
       "2018-01-01 04:00:00    4\n",
       "Freq: H, dtype: int64"
      ]
     },
     "execution_count": 23,
     "metadata": {},
     "output_type": "execute_result"
    }
   ],
   "source": [
    "ts.resample(\"2H\").get_group(name='2018-01-01 04:00:00')"
   ]
  },
  {
   "cell_type": "code",
   "execution_count": 24,
   "id": "serial-review",
   "metadata": {},
   "outputs": [],
   "source": [
    "# Doing Date and Time Arithemetic with abs or relative time increments #"
   ]
  },
  {
   "cell_type": "code",
   "execution_count": 25,
   "id": "senior-rwanda",
   "metadata": {},
   "outputs": [],
   "source": [
    "friday = pd.Timestamp(\"2018-01-05\")"
   ]
  },
  {
   "cell_type": "code",
   "execution_count": 26,
   "id": "choice-liabilities",
   "metadata": {},
   "outputs": [
    {
     "data": {
      "text/plain": [
       "'Friday'"
      ]
     },
     "execution_count": 26,
     "metadata": {},
     "output_type": "execute_result"
    }
   ],
   "source": [
    "friday.day_name()"
   ]
  },
  {
   "cell_type": "code",
   "execution_count": 27,
   "id": "otherwise-constitutional",
   "metadata": {},
   "outputs": [],
   "source": [
    "saturday = friday + pd.Timedelta(\"1 day\")"
   ]
  },
  {
   "cell_type": "code",
   "execution_count": 28,
   "id": "bottom-connection",
   "metadata": {},
   "outputs": [
    {
     "data": {
      "text/plain": [
       "'Saturday'"
      ]
     },
     "execution_count": 28,
     "metadata": {},
     "output_type": "execute_result"
    }
   ],
   "source": [
    "saturday.day_name()"
   ]
  },
  {
   "cell_type": "code",
   "execution_count": 29,
   "id": "graduate-panel",
   "metadata": {},
   "outputs": [
    {
     "data": {
      "text/plain": [
       "Timestamp('2018-01-05 00:00:00')"
      ]
     },
     "execution_count": 29,
     "metadata": {},
     "output_type": "execute_result"
    }
   ],
   "source": [
    "friday"
   ]
  },
  {
   "cell_type": "code",
   "execution_count": 30,
   "id": "intensive-amplifier",
   "metadata": {},
   "outputs": [],
   "source": [
    "monday = friday + pd.offsets.BDay()"
   ]
  },
  {
   "cell_type": "code",
   "execution_count": 31,
   "id": "aerial-columbia",
   "metadata": {},
   "outputs": [
    {
     "data": {
      "text/plain": [
       "'Monday'"
      ]
     },
     "execution_count": 31,
     "metadata": {},
     "output_type": "execute_result"
    }
   ],
   "source": [
    "monday.day_name()"
   ]
  },
  {
   "cell_type": "markdown",
   "id": "behavioral-dollar",
   "metadata": {},
   "source": [
    "## Overview\n",
    "\n",
    "1. Date times: Similar to `datetime.datetime` from the standard library\n",
    "2. Time delta: Similar to `datetime.timedelta`from python\n",
    "3. Time spans: A span of time defined with req. frequency\n"
   ]
  },
  {
   "cell_type": "code",
   "execution_count": 32,
   "id": "otherwise-assumption",
   "metadata": {},
   "outputs": [
    {
     "data": {
      "text/plain": [
       "2000-01-01    0\n",
       "2000-01-02    1\n",
       "2000-01-03    2\n",
       "2000-01-04    3\n",
       "Freq: D, dtype: int64"
      ]
     },
     "execution_count": 32,
     "metadata": {},
     "output_type": "execute_result"
    }
   ],
   "source": [
    "# Series with time component in index #\n",
    "pd.Series(range(4), index=pd.date_range(start=\"2000\",\n",
    "                                        freq=\"D\", periods=4))"
   ]
  },
  {
   "cell_type": "code",
   "execution_count": 33,
   "id": "compressed-infection",
   "metadata": {},
   "outputs": [
    {
     "data": {
      "text/plain": [
       "0   2000-01-01\n",
       "1   2000-01-02\n",
       "2   2000-01-03\n",
       "3   2000-01-04\n",
       "dtype: datetime64[ns]"
      ]
     },
     "execution_count": 33,
     "metadata": {},
     "output_type": "execute_result"
    }
   ],
   "source": [
    "pd.Series(pd.date_range(start=\"2000\",freq=\"D\", periods=4))"
   ]
  },
  {
   "cell_type": "code",
   "execution_count": 34,
   "id": "australian-concrete",
   "metadata": {},
   "outputs": [
    {
     "data": {
      "text/plain": [
       "0    2000-01-01\n",
       "1    2000-01-02\n",
       "2    2000-01-03\n",
       "3    2000-01-04\n",
       "dtype: period[D]"
      ]
     },
     "execution_count": 34,
     "metadata": {},
     "output_type": "execute_result"
    }
   ],
   "source": [
    "pd.Series(pd.period_range(start=\"2000\",freq=\"D\", periods=4))"
   ]
  },
  {
   "cell_type": "code",
   "execution_count": 35,
   "id": "boring-possible",
   "metadata": {},
   "outputs": [],
   "source": [
    "# Null date times, time deltas and time spans as NAT\n",
    "# can be usefull representing missing or null date like "
   ]
  },
  {
   "cell_type": "code",
   "execution_count": 36,
   "id": "smaller-sociology",
   "metadata": {},
   "outputs": [
    {
     "data": {
      "text/plain": [
       "NaT"
      ]
     },
     "execution_count": 36,
     "metadata": {},
     "output_type": "execute_result"
    }
   ],
   "source": [
    "pd.Timestamp(pd.NaT)"
   ]
  },
  {
   "cell_type": "code",
   "execution_count": 37,
   "id": "increased-generation",
   "metadata": {},
   "outputs": [
    {
     "data": {
      "text/plain": [
       "NaT"
      ]
     },
     "execution_count": 37,
     "metadata": {},
     "output_type": "execute_result"
    }
   ],
   "source": [
    "pd.Timedelta(pd.NaT)"
   ]
  },
  {
   "cell_type": "code",
   "execution_count": 38,
   "id": "bigger-madonna",
   "metadata": {},
   "outputs": [
    {
     "data": {
      "text/plain": [
       "NaT"
      ]
     },
     "execution_count": 38,
     "metadata": {},
     "output_type": "execute_result"
    }
   ],
   "source": [
    "pd.Period(pd.NaT)"
   ]
  },
  {
   "cell_type": "code",
   "execution_count": 39,
   "id": "canadian-criminal",
   "metadata": {},
   "outputs": [
    {
     "data": {
      "text/plain": [
       "False"
      ]
     },
     "execution_count": 39,
     "metadata": {},
     "output_type": "execute_result"
    }
   ],
   "source": [
    "pd.NaT == pd.NaT"
   ]
  },
  {
   "cell_type": "code",
   "execution_count": 40,
   "id": "laughing-armor",
   "metadata": {},
   "outputs": [
    {
     "data": {
      "text/plain": [
       "False"
      ]
     },
     "execution_count": 40,
     "metadata": {},
     "output_type": "execute_result"
    }
   ],
   "source": [
    "np.nan == np.nan"
   ]
  },
  {
   "cell_type": "markdown",
   "id": "herbal-cholesterol",
   "metadata": {},
   "source": [
    "## Timestamps vs. time spans\n",
    "\n",
    "**Timestamp:**\n",
    "When values are associated with time:\n",
    "> Like a graph between: `Temperature vs Time`\n",
    "\n",
    "**timespans:**\n",
    "Change in variables can be associated with a time span"
   ]
  },
  {
   "cell_type": "code",
   "execution_count": 41,
   "id": "mineral-verification",
   "metadata": {},
   "outputs": [
    {
     "data": {
      "text/plain": [
       "Timestamp('2012-05-01 00:00:00')"
      ]
     },
     "execution_count": 41,
     "metadata": {},
     "output_type": "execute_result"
    }
   ],
   "source": [
    "pd.Timestamp(datetime.datetime(2012, 5, 1))"
   ]
  },
  {
   "cell_type": "code",
   "execution_count": 42,
   "id": "instructional-lawrence",
   "metadata": {},
   "outputs": [
    {
     "data": {
      "text/plain": [
       "Timestamp('2012-05-01 00:00:00')"
      ]
     },
     "execution_count": 42,
     "metadata": {},
     "output_type": "execute_result"
    }
   ],
   "source": [
    "pd.Timestamp(\"2012-05-01\")"
   ]
  },
  {
   "cell_type": "code",
   "execution_count": 43,
   "id": "statewide-flashing",
   "metadata": {},
   "outputs": [
    {
     "data": {
      "text/plain": [
       "Timestamp('2012-05-01 00:00:00')"
      ]
     },
     "execution_count": 43,
     "metadata": {},
     "output_type": "execute_result"
    }
   ],
   "source": [
    "pd.Timestamp(2012, 5, 1)"
   ]
  },
  {
   "cell_type": "code",
   "execution_count": 44,
   "id": "recreational-doubt",
   "metadata": {},
   "outputs": [
    {
     "data": {
      "text/plain": [
       "Period('2011-01', 'M')"
      ]
     },
     "execution_count": 44,
     "metadata": {},
     "output_type": "execute_result"
    }
   ],
   "source": [
    "pd.Period(\"2011-01\")"
   ]
  },
  {
   "cell_type": "code",
   "execution_count": 45,
   "id": "attractive-indonesian",
   "metadata": {},
   "outputs": [
    {
     "data": {
      "text/plain": [
       "Period('2012-05-01', 'D')"
      ]
     },
     "execution_count": 45,
     "metadata": {},
     "output_type": "execute_result"
    }
   ],
   "source": [
    "pd.Period(\"2012-05\", freq=\"D\")"
   ]
  },
  {
   "cell_type": "code",
   "execution_count": 46,
   "id": "random-block",
   "metadata": {},
   "outputs": [],
   "source": [
    "# Both timestamp and period can serve as an index #\n",
    "date = [pd.Timestamp(\"2012-05-01\"),\n",
    "        pd.Timestamp(\"2012-05-02\"),\n",
    "        pd.Timestamp(\"2012-05-03\")]"
   ]
  },
  {
   "cell_type": "code",
   "execution_count": 47,
   "id": "unexpected-patio",
   "metadata": {},
   "outputs": [],
   "source": [
    "ts = pd.Series(np.random.randn(3), date)"
   ]
  },
  {
   "cell_type": "code",
   "execution_count": 48,
   "id": "horizontal-memphis",
   "metadata": {},
   "outputs": [
    {
     "data": {
      "text/plain": [
       "2012-05-01    1.114197\n",
       "2012-05-02    0.951200\n",
       "2012-05-03   -0.331257\n",
       "dtype: float64"
      ]
     },
     "execution_count": 48,
     "metadata": {},
     "output_type": "execute_result"
    }
   ],
   "source": [
    "ts"
   ]
  },
  {
   "cell_type": "code",
   "execution_count": 49,
   "id": "suspended-princeton",
   "metadata": {},
   "outputs": [
    {
     "data": {
      "text/plain": [
       "pandas.core.indexes.datetimes.DatetimeIndex"
      ]
     },
     "execution_count": 49,
     "metadata": {},
     "output_type": "execute_result"
    }
   ],
   "source": [
    "type(ts.index)"
   ]
  },
  {
   "cell_type": "code",
   "execution_count": 50,
   "id": "favorite-hostel",
   "metadata": {},
   "outputs": [
    {
     "data": {
      "text/plain": [
       "DatetimeIndex(['2012-05-01', '2012-05-02', '2012-05-03'], dtype='datetime64[ns]', freq=None)"
      ]
     },
     "execution_count": 50,
     "metadata": {},
     "output_type": "execute_result"
    }
   ],
   "source": [
    "ts.index"
   ]
  },
  {
   "cell_type": "code",
   "execution_count": 51,
   "id": "rough-skill",
   "metadata": {},
   "outputs": [],
   "source": [
    "# Using Periods #\n",
    "periods = [pd.Period(\"2012-01\"),\n",
    "           pd.Period(\"2012-02\"),\n",
    "           pd.Period(\"2012-03\")]"
   ]
  },
  {
   "cell_type": "code",
   "execution_count": 52,
   "id": "saved-tension",
   "metadata": {},
   "outputs": [],
   "source": [
    "ts_2 = pd.Series(np.random.randint(3), periods)"
   ]
  },
  {
   "cell_type": "code",
   "execution_count": 53,
   "id": "bearing-dimension",
   "metadata": {},
   "outputs": [
    {
     "data": {
      "text/plain": [
       "2012-01    0\n",
       "2012-02    0\n",
       "2012-03    0\n",
       "Freq: M, dtype: int64"
      ]
     },
     "execution_count": 53,
     "metadata": {},
     "output_type": "execute_result"
    }
   ],
   "source": [
    "ts_2"
   ]
  },
  {
   "cell_type": "code",
   "execution_count": 54,
   "id": "prepared-giving",
   "metadata": {},
   "outputs": [
    {
     "data": {
      "text/plain": [
       "pandas.core.indexes.period.PeriodIndex"
      ]
     },
     "execution_count": 54,
     "metadata": {},
     "output_type": "execute_result"
    }
   ],
   "source": [
    "type(ts_2.index)"
   ]
  },
  {
   "cell_type": "code",
   "execution_count": 55,
   "id": "collective-devices",
   "metadata": {},
   "outputs": [
    {
     "data": {
      "text/plain": [
       "PeriodIndex(['2012-01', '2012-02', '2012-03'], dtype='period[M]', freq='M')"
      ]
     },
     "execution_count": 55,
     "metadata": {},
     "output_type": "execute_result"
    }
   ],
   "source": [
    "ts_2.index"
   ]
  },
  {
   "cell_type": "code",
   "execution_count": 56,
   "id": "viral-railway",
   "metadata": {},
   "outputs": [],
   "source": [
    "## Converting to timestamps ##\n",
    "## Series obj gets converted to dateime with index unchanged\n",
    "## list argument becomes datetimeIndex"
   ]
  },
  {
   "cell_type": "code",
   "execution_count": 57,
   "id": "advisory-jimmy",
   "metadata": {},
   "outputs": [
    {
     "data": {
      "text/plain": [
       "0   2009-07-31\n",
       "1   2010-01-10\n",
       "2          NaT\n",
       "dtype: datetime64[ns]"
      ]
     },
     "execution_count": 57,
     "metadata": {},
     "output_type": "execute_result"
    }
   ],
   "source": [
    "pd.to_datetime(pd.Series([\"Jul 31, 2009\",\n",
    "                          \"2010-01-10\", None]))"
   ]
  },
  {
   "cell_type": "code",
   "execution_count": 58,
   "id": "potential-myanmar",
   "metadata": {},
   "outputs": [
    {
     "data": {
      "text/plain": [
       "DatetimeIndex(['2005-11-23', '2010-12-31'], dtype='datetime64[ns]', freq=None)"
      ]
     },
     "execution_count": 58,
     "metadata": {},
     "output_type": "execute_result"
    }
   ],
   "source": [
    "# List of strings ->pd.to_datetime -> DateTimeIndex\n",
    "pd.to_datetime([\"2005/11/23\", \"2010.12.31\"])"
   ]
  },
  {
   "cell_type": "code",
   "execution_count": 59,
   "id": "technological-cancer",
   "metadata": {},
   "outputs": [
    {
     "data": {
      "text/plain": [
       "Timestamp('2020-11-12 00:00:00')"
      ]
     },
     "execution_count": 59,
     "metadata": {},
     "output_type": "execute_result"
    }
   ],
   "source": [
    "# Str -> pd.to_datetime -> Timestamp\n",
    "pd.to_datetime(\"2020/11/12\")"
   ]
  },
  {
   "cell_type": "code",
   "execution_count": 60,
   "id": "treated-closing",
   "metadata": {},
   "outputs": [],
   "source": [
    "# format argument can be passed to pd.to_datetime()\n",
    "# ensures specific parsing\n",
    "# can speed up the conservation considerably"
   ]
  },
  {
   "cell_type": "code",
   "execution_count": 61,
   "id": "irish-steering",
   "metadata": {},
   "outputs": [
    {
     "data": {
      "text/plain": [
       "Timestamp('2010-11-12 00:00:00')"
      ]
     },
     "execution_count": 61,
     "metadata": {},
     "output_type": "execute_result"
    }
   ],
   "source": [
    "pd.to_datetime(\"2010/11/12\")"
   ]
  },
  {
   "cell_type": "code",
   "execution_count": 62,
   "id": "smart-livestock",
   "metadata": {},
   "outputs": [
    {
     "data": {
      "text/plain": [
       "Timestamp('2010-11-12 00:00:00')"
      ]
     },
     "execution_count": 62,
     "metadata": {},
     "output_type": "execute_result"
    }
   ],
   "source": [
    "# Now providing format args #\n",
    "pd.to_datetime(\"2010/11/12\", format=\"%Y/%m/%d\")"
   ]
  },
  {
   "cell_type": "code",
   "execution_count": 63,
   "id": "metropolitan-blackjack",
   "metadata": {},
   "outputs": [
    {
     "data": {
      "text/plain": [
       "Timestamp('2010-11-12 00:00:00')"
      ]
     },
     "execution_count": 63,
     "metadata": {},
     "output_type": "execute_result"
    }
   ],
   "source": [
    "pd.to_datetime(\"12-11-2010\", format=\"%d-%m-%Y\")"
   ]
  },
  {
   "cell_type": "code",
   "execution_count": 64,
   "id": "refined-reasoning",
   "metadata": {},
   "outputs": [
    {
     "data": {
      "text/plain": [
       "Timestamp('2020-11-12 00:00:00')"
      ]
     },
     "execution_count": 64,
     "metadata": {},
     "output_type": "execute_result"
    }
   ],
   "source": [
    "pd.Timestamp(\"2020/11/12\")"
   ]
  },
  {
   "cell_type": "code",
   "execution_count": 65,
   "id": "orange-anger",
   "metadata": {},
   "outputs": [
    {
     "data": {
      "text/plain": [
       "DatetimeIndex(['2018-01-01', '2018-01-03', '2018-01-05'], dtype='datetime64[ns]', freq=None)"
      ]
     },
     "execution_count": 65,
     "metadata": {},
     "output_type": "execute_result"
    }
   ],
   "source": [
    "# DatetimeIndex constructor can be called directly #\n",
    "pd.DatetimeIndex([\"2018-01-01\", \n",
    "                  \"2018-01-03\", \n",
    "                  \"2018/01/05\"])"
   ]
  },
  {
   "cell_type": "code",
   "execution_count": 115,
   "id": "public-mountain",
   "metadata": {},
   "outputs": [],
   "source": [
    "# Assembling datetime from multiple DataFrame Columns"
   ]
  },
  {
   "cell_type": "code",
   "execution_count": 66,
   "id": "cloudy-arthritis",
   "metadata": {},
   "outputs": [],
   "source": [
    "df = pd.DataFrame(\n",
    "{\n",
    "    \"year\": [2015,2016],\n",
    "    \"month\": [2,3],\n",
    "    \"day\": [4,5],\n",
    "    \"hour\":[2,3]\n",
    "})"
   ]
  },
  {
   "cell_type": "code",
   "execution_count": 67,
   "id": "intensive-destination",
   "metadata": {},
   "outputs": [
    {
     "data": {
      "text/html": [
       "<div>\n",
       "<style scoped>\n",
       "    .dataframe tbody tr th:only-of-type {\n",
       "        vertical-align: middle;\n",
       "    }\n",
       "\n",
       "    .dataframe tbody tr th {\n",
       "        vertical-align: top;\n",
       "    }\n",
       "\n",
       "    .dataframe thead th {\n",
       "        text-align: right;\n",
       "    }\n",
       "</style>\n",
       "<table border=\"1\" class=\"dataframe\">\n",
       "  <thead>\n",
       "    <tr style=\"text-align: right;\">\n",
       "      <th></th>\n",
       "      <th>year</th>\n",
       "      <th>month</th>\n",
       "      <th>day</th>\n",
       "      <th>hour</th>\n",
       "    </tr>\n",
       "  </thead>\n",
       "  <tbody>\n",
       "    <tr>\n",
       "      <th>0</th>\n",
       "      <td>2015</td>\n",
       "      <td>2</td>\n",
       "      <td>4</td>\n",
       "      <td>2</td>\n",
       "    </tr>\n",
       "    <tr>\n",
       "      <th>1</th>\n",
       "      <td>2016</td>\n",
       "      <td>3</td>\n",
       "      <td>5</td>\n",
       "      <td>3</td>\n",
       "    </tr>\n",
       "  </tbody>\n",
       "</table>\n",
       "</div>"
      ],
      "text/plain": [
       "   year  month  day  hour\n",
       "0  2015      2    4     2\n",
       "1  2016      3    5     3"
      ]
     },
     "execution_count": 67,
     "metadata": {},
     "output_type": "execute_result"
    }
   ],
   "source": [
    "df"
   ]
  },
  {
   "cell_type": "code",
   "execution_count": 68,
   "id": "center-attendance",
   "metadata": {},
   "outputs": [
    {
     "data": {
      "text/plain": [
       "0   2015-02-04\n",
       "1   2016-03-05\n",
       "dtype: datetime64[ns]"
      ]
     },
     "execution_count": 68,
     "metadata": {},
     "output_type": "execute_result"
    }
   ],
   "source": [
    "pd.to_datetime(df[[\"year\",\"month\",\"day\"]])"
   ]
  },
  {
   "cell_type": "code",
   "execution_count": 69,
   "id": "authorized-organic",
   "metadata": {},
   "outputs": [],
   "source": [
    "# Epoch timestamps #"
   ]
  },
  {
   "cell_type": "code",
   "execution_count": 70,
   "id": "fiscal-clothing",
   "metadata": {},
   "outputs": [
    {
     "data": {
      "text/plain": [
       "DatetimeIndex(['2012-10-08 18:15:05', '2012-10-09 18:15:05'], dtype='datetime64[ns]', freq=None)"
      ]
     },
     "execution_count": 70,
     "metadata": {},
     "output_type": "execute_result"
    }
   ],
   "source": [
    "pd.to_datetime([1349720105, 1349806505], unit=\"s\")"
   ]
  },
  {
   "cell_type": "code",
   "execution_count": 71,
   "id": "exceptional-heating",
   "metadata": {},
   "outputs": [],
   "source": [
    "# Timestamps to epoch #\n",
    "stamps = pd.date_range(\"2012-10-08 18:15:05\",\n",
    "                       periods=4, freq=\"D\")"
   ]
  },
  {
   "cell_type": "code",
   "execution_count": 72,
   "id": "proof-hearts",
   "metadata": {},
   "outputs": [
    {
     "data": {
      "text/plain": [
       "DatetimeIndex(['2012-10-08 18:15:05', '2012-10-09 18:15:05',\n",
       "               '2012-10-10 18:15:05', '2012-10-11 18:15:05'],\n",
       "              dtype='datetime64[ns]', freq='D')"
      ]
     },
     "execution_count": 72,
     "metadata": {},
     "output_type": "execute_result"
    }
   ],
   "source": [
    "stamps"
   ]
  },
  {
   "cell_type": "code",
   "execution_count": 73,
   "id": "speaking-voltage",
   "metadata": {},
   "outputs": [
    {
     "data": {
      "text/plain": [
       "Int64Index([1349720105, 1349806505, 1349892905, 1349979305], dtype='int64')"
      ]
     },
     "execution_count": 73,
     "metadata": {},
     "output_type": "execute_result"
    }
   ],
   "source": [
    "(stamps-pd.Timestamp(\"1970-01-01\"))//pd.Timedelta(\"1s\")"
   ]
  },
  {
   "cell_type": "code",
   "execution_count": 74,
   "id": "monthly-spray",
   "metadata": {},
   "outputs": [
    {
     "data": {
      "text/plain": [
       "DatetimeIndex(['1970-01-02', '1970-01-03', '1970-01-04'], dtype='datetime64[ns]', freq=None)"
      ]
     },
     "execution_count": 74,
     "metadata": {},
     "output_type": "execute_result"
    }
   ],
   "source": [
    "pd.to_datetime([1,2,3], unit=\"D\")"
   ]
  },
  {
   "cell_type": "code",
   "execution_count": 75,
   "id": "resistant-inflation",
   "metadata": {},
   "outputs": [],
   "source": [
    "# Generating ranges of timestamps #"
   ]
  },
  {
   "cell_type": "code",
   "execution_count": 76,
   "id": "growing-editing",
   "metadata": {},
   "outputs": [],
   "source": [
    "dates = [datetime.datetime(2012,5,1),\n",
    "         datetime.datetime(2012,5,2),\n",
    "         datetime.datetime(2012,5,3)]"
   ]
  },
  {
   "cell_type": "code",
   "execution_count": 77,
   "id": "fresh-evaluation",
   "metadata": {},
   "outputs": [],
   "source": [
    "index= pd.DatetimeIndex(dates)"
   ]
  },
  {
   "cell_type": "code",
   "execution_count": 78,
   "id": "pressing-measurement",
   "metadata": {},
   "outputs": [
    {
     "data": {
      "text/plain": [
       "DatetimeIndex(['2012-05-01', '2012-05-02', '2012-05-03'], dtype='datetime64[ns]', freq=None)"
      ]
     },
     "execution_count": 78,
     "metadata": {},
     "output_type": "execute_result"
    }
   ],
   "source": [
    "index"
   ]
  },
  {
   "cell_type": "code",
   "execution_count": 79,
   "id": "excited-cameroon",
   "metadata": {},
   "outputs": [],
   "source": [
    "# Same as above #\n",
    "index = pd.Index(dates)"
   ]
  },
  {
   "cell_type": "code",
   "execution_count": 80,
   "id": "worth-carrier",
   "metadata": {},
   "outputs": [
    {
     "data": {
      "text/plain": [
       "DatetimeIndex(['2012-05-01', '2012-05-02', '2012-05-03'], dtype='datetime64[ns]', freq=None)"
      ]
     },
     "execution_count": 80,
     "metadata": {},
     "output_type": "execute_result"
    }
   ],
   "source": [
    "index"
   ]
  },
  {
   "cell_type": "code",
   "execution_count": 152,
   "id": "material-anger",
   "metadata": {},
   "outputs": [],
   "source": [
    "# Creating timestamps on a regular frequency #"
   ]
  },
  {
   "cell_type": "code",
   "execution_count": 81,
   "id": "compliant-prize",
   "metadata": {},
   "outputs": [],
   "source": [
    "start = pd.Timestamp(2011,1,1)"
   ]
  },
  {
   "cell_type": "code",
   "execution_count": 82,
   "id": "ordinary-channel",
   "metadata": {},
   "outputs": [],
   "source": [
    "end = pd.Timestamp(2012,1,1)"
   ]
  },
  {
   "cell_type": "code",
   "execution_count": 83,
   "id": "above-magazine",
   "metadata": {},
   "outputs": [],
   "source": [
    "index = pd.date_range(start,end)"
   ]
  },
  {
   "cell_type": "code",
   "execution_count": 84,
   "id": "moving-threat",
   "metadata": {},
   "outputs": [
    {
     "data": {
      "text/plain": [
       "DatetimeIndex(['2011-01-01', '2011-01-02', '2011-01-03', '2011-01-04',\n",
       "               '2011-01-05', '2011-01-06', '2011-01-07', '2011-01-08',\n",
       "               '2011-01-09', '2011-01-10',\n",
       "               ...\n",
       "               '2011-12-23', '2011-12-24', '2011-12-25', '2011-12-26',\n",
       "               '2011-12-27', '2011-12-28', '2011-12-29', '2011-12-30',\n",
       "               '2011-12-31', '2012-01-01'],\n",
       "              dtype='datetime64[ns]', length=366, freq='D')"
      ]
     },
     "execution_count": 84,
     "metadata": {},
     "output_type": "execute_result"
    }
   ],
   "source": [
    "index"
   ]
  },
  {
   "cell_type": "code",
   "execution_count": 85,
   "id": "developmental-alcohol",
   "metadata": {},
   "outputs": [
    {
     "data": {
      "text/plain": [
       "DatetimeIndex(['2011-01-03', '2011-01-04', '2011-01-05', '2011-01-06',\n",
       "               '2011-01-07', '2011-01-10', '2011-01-11', '2011-01-12',\n",
       "               '2011-01-13', '2011-01-14',\n",
       "               ...\n",
       "               '2011-12-19', '2011-12-20', '2011-12-21', '2011-12-22',\n",
       "               '2011-12-23', '2011-12-26', '2011-12-27', '2011-12-28',\n",
       "               '2011-12-29', '2011-12-30'],\n",
       "              dtype='datetime64[ns]', length=260, freq='B')"
      ]
     },
     "execution_count": 85,
     "metadata": {},
     "output_type": "execute_result"
    }
   ],
   "source": [
    "index = pd.bdate_range(start, end)\n",
    "index"
   ]
  },
  {
   "cell_type": "code",
   "execution_count": 86,
   "id": "artificial-aging",
   "metadata": {},
   "outputs": [
    {
     "data": {
      "text/plain": [
       "DatetimeIndex(['2011-01-31', '2011-02-28', '2011-03-31', '2011-04-30',\n",
       "               '2011-05-31', '2011-06-30', '2011-07-31', '2011-08-31',\n",
       "               '2011-09-30', '2011-10-31',\n",
       "               ...\n",
       "               '2093-07-31', '2093-08-31', '2093-09-30', '2093-10-31',\n",
       "               '2093-11-30', '2093-12-31', '2094-01-31', '2094-02-28',\n",
       "               '2094-03-31', '2094-04-30'],\n",
       "              dtype='datetime64[ns]', length=1000, freq='M')"
      ]
     },
     "execution_count": 86,
     "metadata": {},
     "output_type": "execute_result"
    }
   ],
   "source": [
    "pd.date_range(start, periods=1000, freq=\"M\")"
   ]
  },
  {
   "cell_type": "code",
   "execution_count": 87,
   "id": "registered-nevada",
   "metadata": {},
   "outputs": [
    {
     "data": {
      "text/plain": [
       "DatetimeIndex(['2011-01-02', '2011-01-09', '2011-01-16', '2011-01-23',\n",
       "               '2011-01-30', '2011-02-06', '2011-02-13', '2011-02-20',\n",
       "               '2011-02-27', '2011-03-06'],\n",
       "              dtype='datetime64[ns]', freq='W-SUN')"
      ]
     },
     "execution_count": 87,
     "metadata": {},
     "output_type": "execute_result"
    }
   ],
   "source": [
    "pd.date_range(start,freq=\"W\", periods=10)"
   ]
  },
  {
   "cell_type": "code",
   "execution_count": 88,
   "id": "widespread-yugoslavia",
   "metadata": {},
   "outputs": [
    {
     "data": {
      "text/plain": [
       "Timestamp('1677-09-21 00:12:43.145225')"
      ]
     },
     "execution_count": 88,
     "metadata": {},
     "output_type": "execute_result"
    }
   ],
   "source": [
    "pd.Timestamp.min"
   ]
  },
  {
   "cell_type": "code",
   "execution_count": 89,
   "id": "rubber-dancing",
   "metadata": {},
   "outputs": [
    {
     "data": {
      "text/plain": [
       "Timestamp('2262-04-11 23:47:16.854775807')"
      ]
     },
     "execution_count": 89,
     "metadata": {},
     "output_type": "execute_result"
    }
   ],
   "source": [
    "pd.Timestamp.max"
   ]
  },
  {
   "cell_type": "markdown",
   "id": "fitting-settle",
   "metadata": {},
   "source": [
    "## Indexing"
   ]
  },
  {
   "cell_type": "code",
   "execution_count": 91,
   "id": "beginning-sight",
   "metadata": {},
   "outputs": [],
   "source": [
    "date_rng = pd.date_range(start, end,freq=\"BM\")"
   ]
  },
  {
   "cell_type": "code",
   "execution_count": 92,
   "id": "popular-paraguay",
   "metadata": {},
   "outputs": [],
   "source": [
    "ts = pd.Series(np.random.randn(len(rng)), index=date_rng)"
   ]
  },
  {
   "cell_type": "code",
   "execution_count": 93,
   "id": "color-owner",
   "metadata": {},
   "outputs": [
    {
     "data": {
      "text/plain": [
       "2011-01-31   -1.478418\n",
       "2011-02-28   -0.078647\n",
       "2011-03-31   -0.345242\n",
       "2011-04-29   -2.735369\n",
       "2011-05-31   -0.171215\n",
       "2011-06-30   -0.466517\n",
       "2011-07-29   -0.265849\n",
       "2011-08-31    0.776598\n",
       "2011-09-30   -0.931294\n",
       "2011-10-31   -0.000718\n",
       "2011-11-30    1.881259\n",
       "2011-12-30   -0.612161\n",
       "Freq: BM, dtype: float64"
      ]
     },
     "execution_count": 93,
     "metadata": {},
     "output_type": "execute_result"
    }
   ],
   "source": [
    "ts"
   ]
  },
  {
   "cell_type": "code",
   "execution_count": 94,
   "id": "grand-appeal",
   "metadata": {},
   "outputs": [],
   "source": [
    "## Partial String Indexing"
   ]
  },
  {
   "cell_type": "code",
   "execution_count": 95,
   "id": "dedicated-jenny",
   "metadata": {},
   "outputs": [
    {
     "data": {
      "text/plain": [
       "-1.4784180868384413"
      ]
     },
     "execution_count": 95,
     "metadata": {},
     "output_type": "execute_result"
    }
   ],
   "source": [
    "ts.loc[\"1/31/2011\"]"
   ]
  },
  {
   "cell_type": "code",
   "execution_count": 96,
   "id": "reduced-oriental",
   "metadata": {},
   "outputs": [
    {
     "data": {
      "text/plain": [
       "2011-12-30   -0.612161\n",
       "Freq: BM, dtype: float64"
      ]
     },
     "execution_count": 96,
     "metadata": {},
     "output_type": "execute_result"
    }
   ],
   "source": [
    "ts.loc[datetime.datetime(2011,12,25):]"
   ]
  },
  {
   "cell_type": "code",
   "execution_count": 97,
   "id": "pleased-batch",
   "metadata": {},
   "outputs": [
    {
     "data": {
      "text/plain": [
       "2011-10-31   -0.000718\n",
       "2011-11-30    1.881259\n",
       "2011-12-30   -0.612161\n",
       "Freq: BM, dtype: float64"
      ]
     },
     "execution_count": 97,
     "metadata": {},
     "output_type": "execute_result"
    }
   ],
   "source": [
    "ts.loc[\"10/31/2011\":\"12/31/2011\"]"
   ]
  },
  {
   "cell_type": "code",
   "execution_count": 98,
   "id": "lyric-colombia",
   "metadata": {},
   "outputs": [
    {
     "data": {
      "text/plain": [
       "2011-01-31   -1.478418\n",
       "2011-02-28   -0.078647\n",
       "2011-03-31   -0.345242\n",
       "2011-04-29   -2.735369\n",
       "2011-05-31   -0.171215\n",
       "2011-06-30   -0.466517\n",
       "2011-07-29   -0.265849\n",
       "2011-08-31    0.776598\n",
       "2011-09-30   -0.931294\n",
       "2011-10-31   -0.000718\n",
       "2011-11-30    1.881259\n",
       "2011-12-30   -0.612161\n",
       "Freq: BM, dtype: float64"
      ]
     },
     "execution_count": 98,
     "metadata": {},
     "output_type": "execute_result"
    }
   ],
   "source": [
    "ts.loc[\"2011\"]"
   ]
  },
  {
   "cell_type": "code",
   "execution_count": 99,
   "id": "democratic-trustee",
   "metadata": {},
   "outputs": [
    {
     "data": {
      "text/plain": [
       "2011-06-30   -0.466517\n",
       "Freq: BM, dtype: float64"
      ]
     },
     "execution_count": 99,
     "metadata": {},
     "output_type": "execute_result"
    }
   ],
   "source": [
    "ts.loc[\"2011-6\"]"
   ]
  },
  {
   "cell_type": "code",
   "execution_count": 100,
   "id": "unlike-capture",
   "metadata": {},
   "outputs": [],
   "source": [
    "dft = pd.DataFrame(np.random.randn(10000,1 ),\n",
    "                   columns=[\"A\"],\n",
    "                   index=pd.date_range(\"20130101\",\n",
    "                                        periods=10000,\n",
    "                                        freq=\"T\"))"
   ]
  },
  {
   "cell_type": "code",
   "execution_count": 101,
   "id": "accessory-grant",
   "metadata": {},
   "outputs": [
    {
     "data": {
      "text/html": [
       "<div>\n",
       "<style scoped>\n",
       "    .dataframe tbody tr th:only-of-type {\n",
       "        vertical-align: middle;\n",
       "    }\n",
       "\n",
       "    .dataframe tbody tr th {\n",
       "        vertical-align: top;\n",
       "    }\n",
       "\n",
       "    .dataframe thead th {\n",
       "        text-align: right;\n",
       "    }\n",
       "</style>\n",
       "<table border=\"1\" class=\"dataframe\">\n",
       "  <thead>\n",
       "    <tr style=\"text-align: right;\">\n",
       "      <th></th>\n",
       "      <th>A</th>\n",
       "    </tr>\n",
       "  </thead>\n",
       "  <tbody>\n",
       "    <tr>\n",
       "      <th>2013-01-01 00:00:00</th>\n",
       "      <td>-0.424227</td>\n",
       "    </tr>\n",
       "    <tr>\n",
       "      <th>2013-01-01 00:01:00</th>\n",
       "      <td>0.489179</td>\n",
       "    </tr>\n",
       "    <tr>\n",
       "      <th>2013-01-01 00:02:00</th>\n",
       "      <td>-0.743281</td>\n",
       "    </tr>\n",
       "    <tr>\n",
       "      <th>2013-01-01 00:03:00</th>\n",
       "      <td>1.432859</td>\n",
       "    </tr>\n",
       "    <tr>\n",
       "      <th>2013-01-01 00:04:00</th>\n",
       "      <td>-1.216970</td>\n",
       "    </tr>\n",
       "    <tr>\n",
       "      <th>...</th>\n",
       "      <td>...</td>\n",
       "    </tr>\n",
       "    <tr>\n",
       "      <th>2013-01-07 22:35:00</th>\n",
       "      <td>0.539798</td>\n",
       "    </tr>\n",
       "    <tr>\n",
       "      <th>2013-01-07 22:36:00</th>\n",
       "      <td>-0.028756</td>\n",
       "    </tr>\n",
       "    <tr>\n",
       "      <th>2013-01-07 22:37:00</th>\n",
       "      <td>-0.196235</td>\n",
       "    </tr>\n",
       "    <tr>\n",
       "      <th>2013-01-07 22:38:00</th>\n",
       "      <td>0.709063</td>\n",
       "    </tr>\n",
       "    <tr>\n",
       "      <th>2013-01-07 22:39:00</th>\n",
       "      <td>0.723447</td>\n",
       "    </tr>\n",
       "  </tbody>\n",
       "</table>\n",
       "<p>10000 rows × 1 columns</p>\n",
       "</div>"
      ],
      "text/plain": [
       "                            A\n",
       "2013-01-01 00:00:00 -0.424227\n",
       "2013-01-01 00:01:00  0.489179\n",
       "2013-01-01 00:02:00 -0.743281\n",
       "2013-01-01 00:03:00  1.432859\n",
       "2013-01-01 00:04:00 -1.216970\n",
       "...                       ...\n",
       "2013-01-07 22:35:00  0.539798\n",
       "2013-01-07 22:36:00 -0.028756\n",
       "2013-01-07 22:37:00 -0.196235\n",
       "2013-01-07 22:38:00  0.709063\n",
       "2013-01-07 22:39:00  0.723447\n",
       "\n",
       "[10000 rows x 1 columns]"
      ]
     },
     "execution_count": 101,
     "metadata": {},
     "output_type": "execute_result"
    }
   ],
   "source": [
    "dft.loc[\"2013\"]"
   ]
  },
  {
   "cell_type": "code",
   "execution_count": 102,
   "id": "median-brown",
   "metadata": {},
   "outputs": [
    {
     "data": {
      "text/html": [
       "<div>\n",
       "<style scoped>\n",
       "    .dataframe tbody tr th:only-of-type {\n",
       "        vertical-align: middle;\n",
       "    }\n",
       "\n",
       "    .dataframe tbody tr th {\n",
       "        vertical-align: top;\n",
       "    }\n",
       "\n",
       "    .dataframe thead th {\n",
       "        text-align: right;\n",
       "    }\n",
       "</style>\n",
       "<table border=\"1\" class=\"dataframe\">\n",
       "  <thead>\n",
       "    <tr style=\"text-align: right;\">\n",
       "      <th></th>\n",
       "      <th>A</th>\n",
       "    </tr>\n",
       "  </thead>\n",
       "  <tbody>\n",
       "    <tr>\n",
       "      <th>2013-01-01 00:00:00</th>\n",
       "      <td>-0.424227</td>\n",
       "    </tr>\n",
       "    <tr>\n",
       "      <th>2013-01-01 00:01:00</th>\n",
       "      <td>0.489179</td>\n",
       "    </tr>\n",
       "    <tr>\n",
       "      <th>2013-01-01 00:02:00</th>\n",
       "      <td>-0.743281</td>\n",
       "    </tr>\n",
       "    <tr>\n",
       "      <th>2013-01-01 00:03:00</th>\n",
       "      <td>1.432859</td>\n",
       "    </tr>\n",
       "    <tr>\n",
       "      <th>2013-01-01 00:04:00</th>\n",
       "      <td>-1.216970</td>\n",
       "    </tr>\n",
       "    <tr>\n",
       "      <th>...</th>\n",
       "      <td>...</td>\n",
       "    </tr>\n",
       "    <tr>\n",
       "      <th>2013-01-07 22:35:00</th>\n",
       "      <td>0.539798</td>\n",
       "    </tr>\n",
       "    <tr>\n",
       "      <th>2013-01-07 22:36:00</th>\n",
       "      <td>-0.028756</td>\n",
       "    </tr>\n",
       "    <tr>\n",
       "      <th>2013-01-07 22:37:00</th>\n",
       "      <td>-0.196235</td>\n",
       "    </tr>\n",
       "    <tr>\n",
       "      <th>2013-01-07 22:38:00</th>\n",
       "      <td>0.709063</td>\n",
       "    </tr>\n",
       "    <tr>\n",
       "      <th>2013-01-07 22:39:00</th>\n",
       "      <td>0.723447</td>\n",
       "    </tr>\n",
       "  </tbody>\n",
       "</table>\n",
       "<p>10000 rows × 1 columns</p>\n",
       "</div>"
      ],
      "text/plain": [
       "                            A\n",
       "2013-01-01 00:00:00 -0.424227\n",
       "2013-01-01 00:01:00  0.489179\n",
       "2013-01-01 00:02:00 -0.743281\n",
       "2013-01-01 00:03:00  1.432859\n",
       "2013-01-01 00:04:00 -1.216970\n",
       "...                       ...\n",
       "2013-01-07 22:35:00  0.539798\n",
       "2013-01-07 22:36:00 -0.028756\n",
       "2013-01-07 22:37:00 -0.196235\n",
       "2013-01-07 22:38:00  0.709063\n",
       "2013-01-07 22:39:00  0.723447\n",
       "\n",
       "[10000 rows x 1 columns]"
      ]
     },
     "execution_count": 102,
     "metadata": {},
     "output_type": "execute_result"
    }
   ],
   "source": [
    "dft.loc[\"2013-1\":\"2013-2\"]"
   ]
  },
  {
   "cell_type": "code",
   "execution_count": 103,
   "id": "published-jerusalem",
   "metadata": {},
   "outputs": [
    {
     "data": {
      "text/html": [
       "<div>\n",
       "<style scoped>\n",
       "    .dataframe tbody tr th:only-of-type {\n",
       "        vertical-align: middle;\n",
       "    }\n",
       "\n",
       "    .dataframe tbody tr th {\n",
       "        vertical-align: top;\n",
       "    }\n",
       "\n",
       "    .dataframe thead th {\n",
       "        text-align: right;\n",
       "    }\n",
       "</style>\n",
       "<table border=\"1\" class=\"dataframe\">\n",
       "  <thead>\n",
       "    <tr style=\"text-align: right;\">\n",
       "      <th></th>\n",
       "      <th>A</th>\n",
       "    </tr>\n",
       "  </thead>\n",
       "  <tbody>\n",
       "    <tr>\n",
       "      <th>2013-01-01 00:00:00</th>\n",
       "      <td>-0.424227</td>\n",
       "    </tr>\n",
       "    <tr>\n",
       "      <th>2013-01-01 00:01:00</th>\n",
       "      <td>0.489179</td>\n",
       "    </tr>\n",
       "    <tr>\n",
       "      <th>2013-01-01 00:02:00</th>\n",
       "      <td>-0.743281</td>\n",
       "    </tr>\n",
       "    <tr>\n",
       "      <th>2013-01-01 00:03:00</th>\n",
       "      <td>1.432859</td>\n",
       "    </tr>\n",
       "    <tr>\n",
       "      <th>2013-01-01 00:04:00</th>\n",
       "      <td>-1.216970</td>\n",
       "    </tr>\n",
       "    <tr>\n",
       "      <th>...</th>\n",
       "      <td>...</td>\n",
       "    </tr>\n",
       "    <tr>\n",
       "      <th>2013-01-07 22:35:00</th>\n",
       "      <td>0.539798</td>\n",
       "    </tr>\n",
       "    <tr>\n",
       "      <th>2013-01-07 22:36:00</th>\n",
       "      <td>-0.028756</td>\n",
       "    </tr>\n",
       "    <tr>\n",
       "      <th>2013-01-07 22:37:00</th>\n",
       "      <td>-0.196235</td>\n",
       "    </tr>\n",
       "    <tr>\n",
       "      <th>2013-01-07 22:38:00</th>\n",
       "      <td>0.709063</td>\n",
       "    </tr>\n",
       "    <tr>\n",
       "      <th>2013-01-07 22:39:00</th>\n",
       "      <td>0.723447</td>\n",
       "    </tr>\n",
       "  </tbody>\n",
       "</table>\n",
       "<p>10000 rows × 1 columns</p>\n",
       "</div>"
      ],
      "text/plain": [
       "                            A\n",
       "2013-01-01 00:00:00 -0.424227\n",
       "2013-01-01 00:01:00  0.489179\n",
       "2013-01-01 00:02:00 -0.743281\n",
       "2013-01-01 00:03:00  1.432859\n",
       "2013-01-01 00:04:00 -1.216970\n",
       "...                       ...\n",
       "2013-01-07 22:35:00  0.539798\n",
       "2013-01-07 22:36:00 -0.028756\n",
       "2013-01-07 22:37:00 -0.196235\n",
       "2013-01-07 22:38:00  0.709063\n",
       "2013-01-07 22:39:00  0.723447\n",
       "\n",
       "[10000 rows x 1 columns]"
      ]
     },
     "execution_count": 103,
     "metadata": {},
     "output_type": "execute_result"
    }
   ],
   "source": [
    "dft.loc[\"2013-1\":\"2013-2-28\"]"
   ]
  },
  {
   "cell_type": "code",
   "execution_count": 104,
   "id": "injured-frequency",
   "metadata": {},
   "outputs": [
    {
     "data": {
      "text/html": [
       "<div>\n",
       "<style scoped>\n",
       "    .dataframe tbody tr th:only-of-type {\n",
       "        vertical-align: middle;\n",
       "    }\n",
       "\n",
       "    .dataframe tbody tr th {\n",
       "        vertical-align: top;\n",
       "    }\n",
       "\n",
       "    .dataframe thead th {\n",
       "        text-align: right;\n",
       "    }\n",
       "</style>\n",
       "<table border=\"1\" class=\"dataframe\">\n",
       "  <thead>\n",
       "    <tr style=\"text-align: right;\">\n",
       "      <th></th>\n",
       "      <th>A</th>\n",
       "    </tr>\n",
       "  </thead>\n",
       "  <tbody>\n",
       "  </tbody>\n",
       "</table>\n",
       "</div>"
      ],
      "text/plain": [
       "Empty DataFrame\n",
       "Columns: [A]\n",
       "Index: []"
      ]
     },
     "execution_count": 104,
     "metadata": {},
     "output_type": "execute_result"
    }
   ],
   "source": [
    "dft.loc[\"2013-1-15\":\"2013-1-15 12:30:00\"]"
   ]
  },
  {
   "cell_type": "code",
   "execution_count": 105,
   "id": "minor-davis",
   "metadata": {},
   "outputs": [
    {
     "data": {
      "text/html": [
       "<div>\n",
       "<style scoped>\n",
       "    .dataframe tbody tr th:only-of-type {\n",
       "        vertical-align: middle;\n",
       "    }\n",
       "\n",
       "    .dataframe tbody tr th {\n",
       "        vertical-align: top;\n",
       "    }\n",
       "\n",
       "    .dataframe thead th {\n",
       "        text-align: right;\n",
       "    }\n",
       "</style>\n",
       "<table border=\"1\" class=\"dataframe\">\n",
       "  <thead>\n",
       "    <tr style=\"text-align: right;\">\n",
       "      <th></th>\n",
       "      <th>A</th>\n",
       "    </tr>\n",
       "  </thead>\n",
       "  <tbody>\n",
       "    <tr>\n",
       "      <th>2013-01-01 00:00:00</th>\n",
       "      <td>-0.424227</td>\n",
       "    </tr>\n",
       "    <tr>\n",
       "      <th>2013-01-01 00:01:00</th>\n",
       "      <td>0.489179</td>\n",
       "    </tr>\n",
       "    <tr>\n",
       "      <th>2013-01-01 00:02:00</th>\n",
       "      <td>-0.743281</td>\n",
       "    </tr>\n",
       "    <tr>\n",
       "      <th>2013-01-01 00:03:00</th>\n",
       "      <td>1.432859</td>\n",
       "    </tr>\n",
       "    <tr>\n",
       "      <th>2013-01-01 00:04:00</th>\n",
       "      <td>-1.216970</td>\n",
       "    </tr>\n",
       "    <tr>\n",
       "      <th>...</th>\n",
       "      <td>...</td>\n",
       "    </tr>\n",
       "    <tr>\n",
       "      <th>2013-01-07 22:35:00</th>\n",
       "      <td>0.539798</td>\n",
       "    </tr>\n",
       "    <tr>\n",
       "      <th>2013-01-07 22:36:00</th>\n",
       "      <td>-0.028756</td>\n",
       "    </tr>\n",
       "    <tr>\n",
       "      <th>2013-01-07 22:37:00</th>\n",
       "      <td>-0.196235</td>\n",
       "    </tr>\n",
       "    <tr>\n",
       "      <th>2013-01-07 22:38:00</th>\n",
       "      <td>0.709063</td>\n",
       "    </tr>\n",
       "    <tr>\n",
       "      <th>2013-01-07 22:39:00</th>\n",
       "      <td>0.723447</td>\n",
       "    </tr>\n",
       "  </tbody>\n",
       "</table>\n",
       "<p>10000 rows × 1 columns</p>\n",
       "</div>"
      ],
      "text/plain": [
       "                            A\n",
       "2013-01-01 00:00:00 -0.424227\n",
       "2013-01-01 00:01:00  0.489179\n",
       "2013-01-01 00:02:00 -0.743281\n",
       "2013-01-01 00:03:00  1.432859\n",
       "2013-01-01 00:04:00 -1.216970\n",
       "...                       ...\n",
       "2013-01-07 22:35:00  0.539798\n",
       "2013-01-07 22:36:00 -0.028756\n",
       "2013-01-07 22:37:00 -0.196235\n",
       "2013-01-07 22:38:00  0.709063\n",
       "2013-01-07 22:39:00  0.723447\n",
       "\n",
       "[10000 rows x 1 columns]"
      ]
     },
     "execution_count": 105,
     "metadata": {},
     "output_type": "execute_result"
    }
   ],
   "source": [
    "dft.loc[\"2013-1\"]"
   ]
  },
  {
   "cell_type": "markdown",
   "id": "compatible-zimbabwe",
   "metadata": {},
   "source": [
    "## With MultiIndex "
   ]
  },
  {
   "cell_type": "code",
   "execution_count": 106,
   "id": "caroline-corrections",
   "metadata": {},
   "outputs": [],
   "source": [
    "dft2 = pd.DataFrame(np.random.randn(20,1),\n",
    "                    columns=[\"A\"],\n",
    "                    index=pd.MultiIndex.from_product(\n",
    "                    [pd.date_range(\"20130101\",\n",
    "                                   periods=10,\n",
    "                                   freq=\"12H\"), [\"a\",\"b\"]]))"
   ]
  },
  {
   "cell_type": "code",
   "execution_count": 107,
   "id": "traditional-paintball",
   "metadata": {},
   "outputs": [
    {
     "data": {
      "text/html": [
       "<div>\n",
       "<style scoped>\n",
       "    .dataframe tbody tr th:only-of-type {\n",
       "        vertical-align: middle;\n",
       "    }\n",
       "\n",
       "    .dataframe tbody tr th {\n",
       "        vertical-align: top;\n",
       "    }\n",
       "\n",
       "    .dataframe thead th {\n",
       "        text-align: right;\n",
       "    }\n",
       "</style>\n",
       "<table border=\"1\" class=\"dataframe\">\n",
       "  <thead>\n",
       "    <tr style=\"text-align: right;\">\n",
       "      <th></th>\n",
       "      <th></th>\n",
       "      <th>A</th>\n",
       "    </tr>\n",
       "  </thead>\n",
       "  <tbody>\n",
       "    <tr>\n",
       "      <th rowspan=\"2\" valign=\"top\">2013-01-01 00:00:00</th>\n",
       "      <th>a</th>\n",
       "      <td>0.051847</td>\n",
       "    </tr>\n",
       "    <tr>\n",
       "      <th>b</th>\n",
       "      <td>1.416442</td>\n",
       "    </tr>\n",
       "    <tr>\n",
       "      <th rowspan=\"2\" valign=\"top\">2013-01-01 12:00:00</th>\n",
       "      <th>a</th>\n",
       "      <td>0.328322</td>\n",
       "    </tr>\n",
       "    <tr>\n",
       "      <th>b</th>\n",
       "      <td>0.515969</td>\n",
       "    </tr>\n",
       "    <tr>\n",
       "      <th rowspan=\"2\" valign=\"top\">2013-01-02 00:00:00</th>\n",
       "      <th>a</th>\n",
       "      <td>0.080476</td>\n",
       "    </tr>\n",
       "    <tr>\n",
       "      <th>b</th>\n",
       "      <td>0.550581</td>\n",
       "    </tr>\n",
       "    <tr>\n",
       "      <th rowspan=\"2\" valign=\"top\">2013-01-02 12:00:00</th>\n",
       "      <th>a</th>\n",
       "      <td>-0.525652</td>\n",
       "    </tr>\n",
       "    <tr>\n",
       "      <th>b</th>\n",
       "      <td>0.932791</td>\n",
       "    </tr>\n",
       "    <tr>\n",
       "      <th rowspan=\"2\" valign=\"top\">2013-01-03 00:00:00</th>\n",
       "      <th>a</th>\n",
       "      <td>4.425213</td>\n",
       "    </tr>\n",
       "    <tr>\n",
       "      <th>b</th>\n",
       "      <td>1.148442</td>\n",
       "    </tr>\n",
       "    <tr>\n",
       "      <th rowspan=\"2\" valign=\"top\">2013-01-03 12:00:00</th>\n",
       "      <th>a</th>\n",
       "      <td>1.071000</td>\n",
       "    </tr>\n",
       "    <tr>\n",
       "      <th>b</th>\n",
       "      <td>-0.057108</td>\n",
       "    </tr>\n",
       "    <tr>\n",
       "      <th rowspan=\"2\" valign=\"top\">2013-01-04 00:00:00</th>\n",
       "      <th>a</th>\n",
       "      <td>-1.448323</td>\n",
       "    </tr>\n",
       "    <tr>\n",
       "      <th>b</th>\n",
       "      <td>-0.565424</td>\n",
       "    </tr>\n",
       "    <tr>\n",
       "      <th rowspan=\"2\" valign=\"top\">2013-01-04 12:00:00</th>\n",
       "      <th>a</th>\n",
       "      <td>2.154625</td>\n",
       "    </tr>\n",
       "    <tr>\n",
       "      <th>b</th>\n",
       "      <td>-0.898318</td>\n",
       "    </tr>\n",
       "    <tr>\n",
       "      <th rowspan=\"2\" valign=\"top\">2013-01-05 00:00:00</th>\n",
       "      <th>a</th>\n",
       "      <td>0.093552</td>\n",
       "    </tr>\n",
       "    <tr>\n",
       "      <th>b</th>\n",
       "      <td>-0.218473</td>\n",
       "    </tr>\n",
       "    <tr>\n",
       "      <th rowspan=\"2\" valign=\"top\">2013-01-05 12:00:00</th>\n",
       "      <th>a</th>\n",
       "      <td>0.808761</td>\n",
       "    </tr>\n",
       "    <tr>\n",
       "      <th>b</th>\n",
       "      <td>-0.139180</td>\n",
       "    </tr>\n",
       "  </tbody>\n",
       "</table>\n",
       "</div>"
      ],
      "text/plain": [
       "                              A\n",
       "2013-01-01 00:00:00 a  0.051847\n",
       "                    b  1.416442\n",
       "2013-01-01 12:00:00 a  0.328322\n",
       "                    b  0.515969\n",
       "2013-01-02 00:00:00 a  0.080476\n",
       "                    b  0.550581\n",
       "2013-01-02 12:00:00 a -0.525652\n",
       "                    b  0.932791\n",
       "2013-01-03 00:00:00 a  4.425213\n",
       "                    b  1.148442\n",
       "2013-01-03 12:00:00 a  1.071000\n",
       "                    b -0.057108\n",
       "2013-01-04 00:00:00 a -1.448323\n",
       "                    b -0.565424\n",
       "2013-01-04 12:00:00 a  2.154625\n",
       "                    b -0.898318\n",
       "2013-01-05 00:00:00 a  0.093552\n",
       "                    b -0.218473\n",
       "2013-01-05 12:00:00 a  0.808761\n",
       "                    b -0.139180"
      ]
     },
     "execution_count": 107,
     "metadata": {},
     "output_type": "execute_result"
    }
   ],
   "source": [
    "dft2"
   ]
  },
  {
   "cell_type": "code",
   "execution_count": 108,
   "id": "rational-appeal",
   "metadata": {},
   "outputs": [
    {
     "data": {
      "text/html": [
       "<div>\n",
       "<style scoped>\n",
       "    .dataframe tbody tr th:only-of-type {\n",
       "        vertical-align: middle;\n",
       "    }\n",
       "\n",
       "    .dataframe tbody tr th {\n",
       "        vertical-align: top;\n",
       "    }\n",
       "\n",
       "    .dataframe thead th {\n",
       "        text-align: right;\n",
       "    }\n",
       "</style>\n",
       "<table border=\"1\" class=\"dataframe\">\n",
       "  <thead>\n",
       "    <tr style=\"text-align: right;\">\n",
       "      <th></th>\n",
       "      <th></th>\n",
       "      <th>A</th>\n",
       "    </tr>\n",
       "  </thead>\n",
       "  <tbody>\n",
       "    <tr>\n",
       "      <th rowspan=\"2\" valign=\"top\">2013-01-05 00:00:00</th>\n",
       "      <th>a</th>\n",
       "      <td>0.093552</td>\n",
       "    </tr>\n",
       "    <tr>\n",
       "      <th>b</th>\n",
       "      <td>-0.218473</td>\n",
       "    </tr>\n",
       "    <tr>\n",
       "      <th rowspan=\"2\" valign=\"top\">2013-01-05 12:00:00</th>\n",
       "      <th>a</th>\n",
       "      <td>0.808761</td>\n",
       "    </tr>\n",
       "    <tr>\n",
       "      <th>b</th>\n",
       "      <td>-0.139180</td>\n",
       "    </tr>\n",
       "  </tbody>\n",
       "</table>\n",
       "</div>"
      ],
      "text/plain": [
       "                              A\n",
       "2013-01-05 00:00:00 a  0.093552\n",
       "                    b -0.218473\n",
       "2013-01-05 12:00:00 a  0.808761\n",
       "                    b -0.139180"
      ]
     },
     "execution_count": 108,
     "metadata": {},
     "output_type": "execute_result"
    }
   ],
   "source": [
    "dft2.loc[\"2013-01-05\"]"
   ]
  },
  {
   "cell_type": "code",
   "execution_count": 109,
   "id": "directed-implementation",
   "metadata": {},
   "outputs": [],
   "source": [
    "idx = pd.IndexSlice"
   ]
  },
  {
   "cell_type": "code",
   "execution_count": 110,
   "id": "actual-administration",
   "metadata": {},
   "outputs": [
    {
     "data": {
      "text/plain": [
       "<pandas.core.indexing._IndexSlice at 0x7ff8d57ead60>"
      ]
     },
     "execution_count": 110,
     "metadata": {},
     "output_type": "execute_result"
    }
   ],
   "source": [
    "idx"
   ]
  },
  {
   "cell_type": "code",
   "execution_count": 111,
   "id": "spanish-lambda",
   "metadata": {},
   "outputs": [],
   "source": [
    "dft2 = dft2.swaplevel(0,1).sort_index()"
   ]
  },
  {
   "cell_type": "code",
   "execution_count": 113,
   "id": "established-radical",
   "metadata": {},
   "outputs": [
    {
     "data": {
      "text/html": [
       "<div>\n",
       "<style scoped>\n",
       "    .dataframe tbody tr th:only-of-type {\n",
       "        vertical-align: middle;\n",
       "    }\n",
       "\n",
       "    .dataframe tbody tr th {\n",
       "        vertical-align: top;\n",
       "    }\n",
       "\n",
       "    .dataframe thead th {\n",
       "        text-align: right;\n",
       "    }\n",
       "</style>\n",
       "<table border=\"1\" class=\"dataframe\">\n",
       "  <thead>\n",
       "    <tr style=\"text-align: right;\">\n",
       "      <th></th>\n",
       "      <th></th>\n",
       "      <th>A</th>\n",
       "    </tr>\n",
       "  </thead>\n",
       "  <tbody>\n",
       "    <tr>\n",
       "      <th rowspan=\"2\" valign=\"top\">a</th>\n",
       "      <th>2013-01-05 00:00:00</th>\n",
       "      <td>0.093552</td>\n",
       "    </tr>\n",
       "    <tr>\n",
       "      <th>2013-01-05 12:00:00</th>\n",
       "      <td>0.808761</td>\n",
       "    </tr>\n",
       "  </tbody>\n",
       "</table>\n",
       "</div>"
      ],
      "text/plain": [
       "                              A\n",
       "a 2013-01-05 00:00:00  0.093552\n",
       "  2013-01-05 12:00:00  0.808761"
      ]
     },
     "execution_count": 113,
     "metadata": {},
     "output_type": "execute_result"
    }
   ],
   "source": [
    "dft2.loc[idx[\"a\",\"2013-01-05\"], :]"
   ]
  },
  {
   "cell_type": "code",
   "execution_count": 114,
   "id": "billion-indiana",
   "metadata": {},
   "outputs": [
    {
     "data": {
      "text/html": [
       "<div>\n",
       "<style scoped>\n",
       "    .dataframe tbody tr th:only-of-type {\n",
       "        vertical-align: middle;\n",
       "    }\n",
       "\n",
       "    .dataframe tbody tr th {\n",
       "        vertical-align: top;\n",
       "    }\n",
       "\n",
       "    .dataframe thead th {\n",
       "        text-align: right;\n",
       "    }\n",
       "</style>\n",
       "<table border=\"1\" class=\"dataframe\">\n",
       "  <thead>\n",
       "    <tr style=\"text-align: right;\">\n",
       "      <th></th>\n",
       "      <th></th>\n",
       "      <th>A</th>\n",
       "    </tr>\n",
       "  </thead>\n",
       "  <tbody>\n",
       "    <tr>\n",
       "      <th rowspan=\"10\" valign=\"top\">a</th>\n",
       "      <th>2013-01-01 00:00:00</th>\n",
       "      <td>0.051847</td>\n",
       "    </tr>\n",
       "    <tr>\n",
       "      <th>2013-01-01 12:00:00</th>\n",
       "      <td>0.328322</td>\n",
       "    </tr>\n",
       "    <tr>\n",
       "      <th>2013-01-02 00:00:00</th>\n",
       "      <td>0.080476</td>\n",
       "    </tr>\n",
       "    <tr>\n",
       "      <th>2013-01-02 12:00:00</th>\n",
       "      <td>-0.525652</td>\n",
       "    </tr>\n",
       "    <tr>\n",
       "      <th>2013-01-03 00:00:00</th>\n",
       "      <td>4.425213</td>\n",
       "    </tr>\n",
       "    <tr>\n",
       "      <th>2013-01-03 12:00:00</th>\n",
       "      <td>1.071000</td>\n",
       "    </tr>\n",
       "    <tr>\n",
       "      <th>2013-01-04 00:00:00</th>\n",
       "      <td>-1.448323</td>\n",
       "    </tr>\n",
       "    <tr>\n",
       "      <th>2013-01-04 12:00:00</th>\n",
       "      <td>2.154625</td>\n",
       "    </tr>\n",
       "    <tr>\n",
       "      <th>2013-01-05 00:00:00</th>\n",
       "      <td>0.093552</td>\n",
       "    </tr>\n",
       "    <tr>\n",
       "      <th>2013-01-05 12:00:00</th>\n",
       "      <td>0.808761</td>\n",
       "    </tr>\n",
       "    <tr>\n",
       "      <th rowspan=\"10\" valign=\"top\">b</th>\n",
       "      <th>2013-01-01 00:00:00</th>\n",
       "      <td>1.416442</td>\n",
       "    </tr>\n",
       "    <tr>\n",
       "      <th>2013-01-01 12:00:00</th>\n",
       "      <td>0.515969</td>\n",
       "    </tr>\n",
       "    <tr>\n",
       "      <th>2013-01-02 00:00:00</th>\n",
       "      <td>0.550581</td>\n",
       "    </tr>\n",
       "    <tr>\n",
       "      <th>2013-01-02 12:00:00</th>\n",
       "      <td>0.932791</td>\n",
       "    </tr>\n",
       "    <tr>\n",
       "      <th>2013-01-03 00:00:00</th>\n",
       "      <td>1.148442</td>\n",
       "    </tr>\n",
       "    <tr>\n",
       "      <th>2013-01-03 12:00:00</th>\n",
       "      <td>-0.057108</td>\n",
       "    </tr>\n",
       "    <tr>\n",
       "      <th>2013-01-04 00:00:00</th>\n",
       "      <td>-0.565424</td>\n",
       "    </tr>\n",
       "    <tr>\n",
       "      <th>2013-01-04 12:00:00</th>\n",
       "      <td>-0.898318</td>\n",
       "    </tr>\n",
       "    <tr>\n",
       "      <th>2013-01-05 00:00:00</th>\n",
       "      <td>-0.218473</td>\n",
       "    </tr>\n",
       "    <tr>\n",
       "      <th>2013-01-05 12:00:00</th>\n",
       "      <td>-0.139180</td>\n",
       "    </tr>\n",
       "  </tbody>\n",
       "</table>\n",
       "</div>"
      ],
      "text/plain": [
       "                              A\n",
       "a 2013-01-01 00:00:00  0.051847\n",
       "  2013-01-01 12:00:00  0.328322\n",
       "  2013-01-02 00:00:00  0.080476\n",
       "  2013-01-02 12:00:00 -0.525652\n",
       "  2013-01-03 00:00:00  4.425213\n",
       "  2013-01-03 12:00:00  1.071000\n",
       "  2013-01-04 00:00:00 -1.448323\n",
       "  2013-01-04 12:00:00  2.154625\n",
       "  2013-01-05 00:00:00  0.093552\n",
       "  2013-01-05 12:00:00  0.808761\n",
       "b 2013-01-01 00:00:00  1.416442\n",
       "  2013-01-01 12:00:00  0.515969\n",
       "  2013-01-02 00:00:00  0.550581\n",
       "  2013-01-02 12:00:00  0.932791\n",
       "  2013-01-03 00:00:00  1.148442\n",
       "  2013-01-03 12:00:00 -0.057108\n",
       "  2013-01-04 00:00:00 -0.565424\n",
       "  2013-01-04 12:00:00 -0.898318\n",
       "  2013-01-05 00:00:00 -0.218473\n",
       "  2013-01-05 12:00:00 -0.139180"
      ]
     },
     "execution_count": 114,
     "metadata": {},
     "output_type": "execute_result"
    }
   ],
   "source": [
    "dft2"
   ]
  },
  {
   "cell_type": "code",
   "execution_count": 115,
   "id": "genetic-fifty",
   "metadata": {},
   "outputs": [],
   "source": [
    "## Slice vs. Exact Match"
   ]
  },
  {
   "cell_type": "markdown",
   "id": "complete-sympathy",
   "metadata": {},
   "source": []
  },
  {
   "cell_type": "code",
   "execution_count": 116,
   "id": "complimentary-mainstream",
   "metadata": {},
   "outputs": [],
   "source": [
    "series_minute = pd.Series([1,2,3],\n",
    "                          pd.DatetimeIndex(\n",
    "                              [\"2011-12-31 23:59:00\", \n",
    "                               \"2012-01-01 00:00:00\", \n",
    "                               \"2012-01-01 00:02:00\"]\n",
    "                          ))"
   ]
  },
  {
   "cell_type": "code",
   "execution_count": 117,
   "id": "human-enterprise",
   "metadata": {},
   "outputs": [
    {
     "data": {
      "text/plain": [
       "'minute'"
      ]
     },
     "execution_count": 117,
     "metadata": {},
     "output_type": "execute_result"
    }
   ],
   "source": [
    "series_minute.index.resolution\n"
   ]
  },
  {
   "cell_type": "code",
   "execution_count": 118,
   "id": "combined-amendment",
   "metadata": {},
   "outputs": [
    {
     "data": {
      "text/plain": [
       "2011-12-31 23:59:00    1\n",
       "dtype: int64"
      ]
     },
     "execution_count": 118,
     "metadata": {},
     "output_type": "execute_result"
    }
   ],
   "source": [
    "series_minute.loc[\"2011-12-31 23\"]"
   ]
  },
  {
   "cell_type": "code",
   "execution_count": 119,
   "id": "disciplinary-thompson",
   "metadata": {},
   "outputs": [
    {
     "data": {
      "text/plain": [
       "1"
      ]
     },
     "execution_count": 119,
     "metadata": {},
     "output_type": "execute_result"
    }
   ],
   "source": [
    "series_minute.loc[\"2011-12-31 23:59\"]"
   ]
  },
  {
   "cell_type": "code",
   "execution_count": 121,
   "id": "viral-apparatus",
   "metadata": {},
   "outputs": [
    {
     "data": {
      "text/plain": [
       "1"
      ]
     },
     "execution_count": 121,
     "metadata": {},
     "output_type": "execute_result"
    }
   ],
   "source": [
    "series_minute.loc[\"2011-12-31 23:59:00\"]"
   ]
  },
  {
   "cell_type": "code",
   "execution_count": 122,
   "id": "downtown-cover",
   "metadata": {},
   "outputs": [],
   "source": [
    "dft_minute = pd.DataFrame(\n",
    "                 {\"a\": [1,2,3], \"b\": [4,5,6]},\n",
    "                 index=series_minute.index)"
   ]
  },
  {
   "cell_type": "code",
   "execution_count": 123,
   "id": "severe-seafood",
   "metadata": {},
   "outputs": [
    {
     "data": {
      "text/html": [
       "<div>\n",
       "<style scoped>\n",
       "    .dataframe tbody tr th:only-of-type {\n",
       "        vertical-align: middle;\n",
       "    }\n",
       "\n",
       "    .dataframe tbody tr th {\n",
       "        vertical-align: top;\n",
       "    }\n",
       "\n",
       "    .dataframe thead th {\n",
       "        text-align: right;\n",
       "    }\n",
       "</style>\n",
       "<table border=\"1\" class=\"dataframe\">\n",
       "  <thead>\n",
       "    <tr style=\"text-align: right;\">\n",
       "      <th></th>\n",
       "      <th>a</th>\n",
       "      <th>b</th>\n",
       "    </tr>\n",
       "  </thead>\n",
       "  <tbody>\n",
       "    <tr>\n",
       "      <th>2011-12-31 23:59:00</th>\n",
       "      <td>1</td>\n",
       "      <td>4</td>\n",
       "    </tr>\n",
       "  </tbody>\n",
       "</table>\n",
       "</div>"
      ],
      "text/plain": [
       "                     a  b\n",
       "2011-12-31 23:59:00  1  4"
      ]
     },
     "execution_count": 123,
     "metadata": {},
     "output_type": "execute_result"
    }
   ],
   "source": [
    "dft_minute.loc[\"2011-12-31 23\"]"
   ]
  },
  {
   "cell_type": "code",
   "execution_count": 124,
   "id": "bound-bacteria",
   "metadata": {},
   "outputs": [
    {
     "data": {
      "text/plain": [
       "a    1\n",
       "b    4\n",
       "Name: 2011-12-31 23:59:00, dtype: int64"
      ]
     },
     "execution_count": 124,
     "metadata": {},
     "output_type": "execute_result"
    }
   ],
   "source": [
    "dft_minute.loc[\"2011-12-31 23:59\"]"
   ]
  },
  {
   "cell_type": "code",
   "execution_count": 125,
   "id": "sufficient-despite",
   "metadata": {},
   "outputs": [],
   "source": [
    "series  = pd.Series([1,2],\n",
    "                    index=[pd.Timestamp(\"2011-12-30\"),\n",
    "                           pd.Timestamp(\"2011-12-31\")])"
   ]
  },
  {
   "cell_type": "code",
   "execution_count": 126,
   "id": "detected-particular",
   "metadata": {},
   "outputs": [
    {
     "data": {
      "text/plain": [
       "2011-12-30    1\n",
       "2011-12-31    2\n",
       "dtype: int64"
      ]
     },
     "execution_count": 126,
     "metadata": {},
     "output_type": "execute_result"
    }
   ],
   "source": [
    "series.loc['2011-12']"
   ]
  },
  {
   "cell_type": "code",
   "execution_count": 127,
   "id": "governing-inquiry",
   "metadata": {},
   "outputs": [],
   "source": [
    "rng2 = pd.date_range(\"2011-01-01\", \"2012-01-01\", freq=\"W\")\n",
    "ts2 = pd.Series(np.random.randn(len(rng2)), index=rng2)"
   ]
  },
  {
   "cell_type": "code",
   "execution_count": 128,
   "id": "affected-interference",
   "metadata": {},
   "outputs": [
    {
     "data": {
      "text/plain": [
       "2011-01-02    0.550030\n",
       "2011-01-09   -0.311032\n",
       "2011-01-16    0.953672\n",
       "2011-01-23    1.048111\n",
       "2011-01-30   -0.244340\n",
       "2011-02-06   -1.826332\n",
       "2011-02-13   -0.067182\n",
       "2011-02-20    1.414358\n",
       "2011-02-27    0.301401\n",
       "2011-03-06    0.432416\n",
       "2011-03-13    0.667743\n",
       "2011-03-20    0.781783\n",
       "2011-03-27   -1.559794\n",
       "2011-04-03    0.116675\n",
       "2011-04-10    0.700855\n",
       "2011-04-17   -1.392390\n",
       "2011-04-24   -0.318910\n",
       "2011-05-01    0.718111\n",
       "2011-05-08   -0.040762\n",
       "2011-05-15   -1.833310\n",
       "2011-05-22    2.309092\n",
       "2011-05-29    0.150083\n",
       "2011-06-05    1.892053\n",
       "2011-06-12    0.808864\n",
       "2011-06-19   -0.466188\n",
       "2011-06-26   -0.816529\n",
       "2011-07-03   -0.613350\n",
       "2011-07-10   -0.225102\n",
       "2011-07-17    1.281230\n",
       "2011-07-24    0.934265\n",
       "2011-07-31    2.486815\n",
       "2011-08-07   -0.394443\n",
       "2011-08-14   -0.349499\n",
       "2011-08-21   -0.645671\n",
       "2011-08-28   -2.131232\n",
       "2011-09-04    0.765557\n",
       "2011-09-11   -0.160688\n",
       "2011-09-18   -0.923591\n",
       "2011-09-25   -0.279974\n",
       "2011-10-02    0.871515\n",
       "2011-10-09   -1.492652\n",
       "2011-10-16    1.208499\n",
       "2011-10-23   -1.224539\n",
       "2011-10-30    0.243037\n",
       "2011-11-06   -0.225522\n",
       "2011-11-13    0.065185\n",
       "2011-11-20   -0.716544\n",
       "2011-11-27    1.113235\n",
       "2011-12-04    1.122675\n",
       "2011-12-11    0.177745\n",
       "2011-12-18    0.860394\n",
       "2011-12-25    1.990432\n",
       "2012-01-01   -0.934476\n",
       "Freq: W-SUN, dtype: float64"
      ]
     },
     "execution_count": 128,
     "metadata": {},
     "output_type": "execute_result"
    }
   ],
   "source": [
    "ts2"
   ]
  },
  {
   "cell_type": "code",
   "execution_count": 129,
   "id": "ambient-reaction",
   "metadata": {},
   "outputs": [
    {
     "data": {
      "text/plain": [
       "2011-11-06   -0.225522\n",
       "2011-11-13    0.065185\n",
       "2011-11-20   -0.716544\n",
       "2011-11-27    1.113235\n",
       "Freq: W-SUN, dtype: float64"
      ]
     },
     "execution_count": 129,
     "metadata": {},
     "output_type": "execute_result"
    }
   ],
   "source": [
    "ts2.truncate(before=\"2011-11\", after=\"2011-12\")"
   ]
  },
  {
   "cell_type": "code",
   "execution_count": 130,
   "id": "sticky-newsletter",
   "metadata": {},
   "outputs": [
    {
     "data": {
      "text/plain": [
       "2011-11-06   -0.225522\n",
       "2011-11-13    0.065185\n",
       "2011-11-20   -0.716544\n",
       "2011-11-27    1.113235\n",
       "Freq: W-SUN, dtype: float64"
      ]
     },
     "execution_count": 130,
     "metadata": {},
     "output_type": "execute_result"
    }
   ],
   "source": [
    "ts2.loc[\"2011-11\"]"
   ]
  },
  {
   "cell_type": "code",
   "execution_count": 131,
   "id": "signal-playing",
   "metadata": {},
   "outputs": [
    {
     "data": {
      "text/plain": [
       "DatetimeIndex(['2011-01-02', '2011-01-16', '2011-02-13'], dtype='datetime64[ns]', freq=None)"
      ]
     },
     "execution_count": 131,
     "metadata": {},
     "output_type": "execute_result"
    }
   ],
   "source": [
    "ts2.iloc[[0,2,6]].index"
   ]
  },
  {
   "cell_type": "markdown",
   "id": "favorite-emperor",
   "metadata": {},
   "source": [
    "## Time Series-related instance Methods"
   ]
  },
  {
   "cell_type": "markdown",
   "id": "generous-destination",
   "metadata": {},
   "source": [
    "**Loading AirQuality Data**\n",
    "\n",
    "1. ts.shift() can be used to creating, lead or lagged variables\n",
    "2. ts.shift(5, freq='D'): This will shift datetime index, instead of values"
   ]
  },
  {
   "cell_type": "code",
   "execution_count": 132,
   "id": "circular-jesus",
   "metadata": {},
   "outputs": [],
   "source": [
    "data = pd.read_csv(\"Data/AirQuality.csv\", parse_dates=['Date'], index_col='Date')"
   ]
  },
  {
   "cell_type": "code",
   "execution_count": 133,
   "id": "monetary-director",
   "metadata": {},
   "outputs": [],
   "source": [
    "train_ts = ['2004-03-11', '2004-03-17']\n",
    "test_ts = ['2004-03-18', '2004-03-24']"
   ]
  },
  {
   "cell_type": "code",
   "execution_count": 134,
   "id": "sitting-technique",
   "metadata": {},
   "outputs": [],
   "source": [
    "train = data.loc[train_ts[0]:train_ts[1]]\n",
    "test = data.loc[test_ts[0]:test_ts[1]]"
   ]
  },
  {
   "cell_type": "code",
   "execution_count": 135,
   "id": "pressed-workshop",
   "metadata": {},
   "outputs": [
    {
     "name": "stderr",
     "output_type": "stream",
     "text": [
      "/Library/Frameworks/Python.framework/Versions/3.9/lib/python3.9/site-packages/pandas/core/series.py:4509: SettingWithCopyWarning: \n",
      "A value is trying to be set on a copy of a slice from a DataFrame\n",
      "\n",
      "See the caveats in the documentation: https://pandas.pydata.org/pandas-docs/stable/user_guide/indexing.html#returning-a-view-versus-a-copy\n",
      "  return super().replace(\n"
     ]
    }
   ],
   "source": [
    "train['CO(GT)'].replace({-200: np.nan}, inplace=True)"
   ]
  },
  {
   "cell_type": "code",
   "execution_count": 148,
   "id": "british-coast",
   "metadata": {},
   "outputs": [
    {
     "name": "stderr",
     "output_type": "stream",
     "text": [
      "<ipython-input-148-0e5d82f00004>:1: SettingWithCopyWarning:\n",
      "\n",
      "\n",
      "A value is trying to be set on a copy of a slice from a DataFrame.\n",
      "Try using .loc[row_indexer,col_indexer] = value instead\n",
      "\n",
      "See the caveats in the documentation: https://pandas.pydata.org/pandas-docs/stable/user_guide/indexing.html#returning-a-view-versus-a-copy\n",
      "\n"
     ]
    }
   ],
   "source": [
    "train['del_T'] = train['T'].shift(-1) - train['T']"
   ]
  },
  {
   "cell_type": "code",
   "execution_count": 137,
   "id": "former-drill",
   "metadata": {},
   "outputs": [],
   "source": [
    "import plotly.express as px"
   ]
  },
  {
   "cell_type": "code",
   "execution_count": 149,
   "id": "photographic-polish",
   "metadata": {},
   "outputs": [
    {
     "data": {
      "application/vnd.plotly.v1+json": {
       "config": {
        "plotlyServerURL": "https://plot.ly"
       },
       "data": [
        {
         "hovertemplate": "variable=T<br>Date=%{x}<br>value=%{y}<extra></extra>",
         "legendgroup": "T",
         "line": {
          "color": "#636efa",
          "dash": "solid"
         },
         "mode": "lines",
         "name": "T",
         "orientation": "v",
         "showlegend": true,
         "type": "scatter",
         "x": [
          "2004-03-11T00:00:00",
          "2004-03-11T01:00:00",
          "2004-03-11T02:00:00",
          "2004-03-11T03:00:00",
          "2004-03-11T04:00:00",
          "2004-03-11T05:00:00",
          "2004-03-11T06:00:00",
          "2004-03-11T07:00:00",
          "2004-03-11T08:00:00",
          "2004-03-11T09:00:00",
          "2004-03-11T10:00:00",
          "2004-03-11T11:00:00",
          "2004-03-11T12:00:00",
          "2004-03-11T13:00:00",
          "2004-03-11T14:00:00",
          "2004-03-11T15:00:00",
          "2004-03-11T16:00:00",
          "2004-03-11T17:00:00",
          "2004-03-11T18:00:00",
          "2004-03-11T19:00:00",
          "2004-03-11T20:00:00",
          "2004-03-11T21:00:00",
          "2004-03-11T22:00:00",
          "2004-03-11T23:00:00",
          "2004-03-12T00:00:00",
          "2004-03-12T01:00:00",
          "2004-03-12T02:00:00",
          "2004-03-12T03:00:00",
          "2004-03-12T04:00:00",
          "2004-03-12T05:00:00",
          "2004-03-12T06:00:00",
          "2004-03-12T07:00:00",
          "2004-03-12T08:00:00",
          "2004-03-12T09:00:00",
          "2004-03-12T10:00:00",
          "2004-03-12T11:00:00",
          "2004-03-12T12:00:00",
          "2004-03-12T13:00:00",
          "2004-03-12T14:00:00",
          "2004-03-12T15:00:00",
          "2004-03-12T16:00:00",
          "2004-03-12T17:00:00",
          "2004-03-12T18:00:00",
          "2004-03-12T19:00:00",
          "2004-03-12T20:00:00",
          "2004-03-12T21:00:00",
          "2004-03-12T22:00:00",
          "2004-03-12T23:00:00",
          "2004-03-13T00:00:00",
          "2004-03-13T01:00:00",
          "2004-03-13T02:00:00",
          "2004-03-13T03:00:00",
          "2004-03-13T04:00:00",
          "2004-03-13T05:00:00",
          "2004-03-13T06:00:00",
          "2004-03-13T07:00:00",
          "2004-03-13T08:00:00",
          "2004-03-13T09:00:00",
          "2004-03-13T10:00:00",
          "2004-03-13T11:00:00",
          "2004-03-13T12:00:00",
          "2004-03-13T13:00:00",
          "2004-03-13T14:00:00",
          "2004-03-13T15:00:00",
          "2004-03-13T16:00:00",
          "2004-03-13T17:00:00",
          "2004-03-13T18:00:00",
          "2004-03-13T19:00:00",
          "2004-03-13T20:00:00",
          "2004-03-13T21:00:00",
          "2004-03-13T22:00:00",
          "2004-03-13T23:00:00",
          "2004-03-14T00:00:00",
          "2004-03-14T01:00:00",
          "2004-03-14T02:00:00",
          "2004-03-14T03:00:00",
          "2004-03-14T04:00:00",
          "2004-03-14T05:00:00",
          "2004-03-14T06:00:00",
          "2004-03-14T07:00:00",
          "2004-03-14T08:00:00",
          "2004-03-14T09:00:00",
          "2004-03-14T10:00:00",
          "2004-03-14T11:00:00",
          "2004-03-14T12:00:00",
          "2004-03-14T13:00:00",
          "2004-03-14T14:00:00",
          "2004-03-14T15:00:00",
          "2004-03-14T16:00:00",
          "2004-03-14T17:00:00",
          "2004-03-14T18:00:00",
          "2004-03-14T19:00:00",
          "2004-03-14T20:00:00",
          "2004-03-14T21:00:00",
          "2004-03-14T22:00:00",
          "2004-03-14T23:00:00",
          "2004-03-15T00:00:00",
          "2004-03-15T01:00:00",
          "2004-03-15T02:00:00",
          "2004-03-15T03:00:00",
          "2004-03-15T04:00:00",
          "2004-03-15T05:00:00",
          "2004-03-15T06:00:00",
          "2004-03-15T07:00:00",
          "2004-03-15T08:00:00",
          "2004-03-15T09:00:00",
          "2004-03-15T10:00:00",
          "2004-03-15T11:00:00",
          "2004-03-15T12:00:00",
          "2004-03-15T13:00:00",
          "2004-03-15T14:00:00",
          "2004-03-15T15:00:00",
          "2004-03-15T16:00:00",
          "2004-03-15T17:00:00",
          "2004-03-15T18:00:00",
          "2004-03-15T19:00:00",
          "2004-03-15T20:00:00",
          "2004-03-15T21:00:00",
          "2004-03-15T22:00:00",
          "2004-03-15T23:00:00",
          "2004-03-16T00:00:00",
          "2004-03-16T01:00:00",
          "2004-03-16T02:00:00",
          "2004-03-16T03:00:00",
          "2004-03-16T04:00:00",
          "2004-03-16T05:00:00",
          "2004-03-16T06:00:00",
          "2004-03-16T07:00:00",
          "2004-03-16T08:00:00",
          "2004-03-16T09:00:00",
          "2004-03-16T10:00:00",
          "2004-03-16T11:00:00",
          "2004-03-16T12:00:00",
          "2004-03-16T13:00:00",
          "2004-03-16T14:00:00",
          "2004-03-16T15:00:00",
          "2004-03-16T16:00:00",
          "2004-03-16T17:00:00",
          "2004-03-16T18:00:00",
          "2004-03-16T19:00:00",
          "2004-03-16T20:00:00",
          "2004-03-16T21:00:00",
          "2004-03-16T22:00:00",
          "2004-03-16T23:00:00",
          "2004-03-17T00:00:00",
          "2004-03-17T01:00:00",
          "2004-03-17T02:00:00",
          "2004-03-17T03:00:00",
          "2004-03-17T04:00:00",
          "2004-03-17T05:00:00",
          "2004-03-17T06:00:00",
          "2004-03-17T07:00:00",
          "2004-03-17T08:00:00",
          "2004-03-17T09:00:00",
          "2004-03-17T10:00:00",
          "2004-03-17T11:00:00",
          "2004-03-17T12:00:00",
          "2004-03-17T13:00:00",
          "2004-03-17T14:00:00",
          "2004-03-17T15:00:00",
          "2004-03-17T16:00:00",
          "2004-03-17T17:00:00",
          "2004-03-17T18:00:00",
          "2004-03-17T19:00:00",
          "2004-03-17T20:00:00",
          "2004-03-17T21:00:00",
          "2004-03-17T22:00:00",
          "2004-03-17T23:00:00"
         ],
         "xaxis": "x",
         "y": [
          11.324999809265,
          10.674999952316,
          10.650000095367,
          10.250000238419,
          10.075000047684,
          10.999999761581,
          10.450000047684,
          10.200000047684,
          10.75,
          10.5,
          10.799999952316,
          10.499999761581,
          9.5249998569489,
          8.299999833107,
          8,
          8.325000166893,
          9.7000000476837,
          9.7750000953674,
          10.349999904633,
          9.6500000953674,
          9.6499998569489,
          9.125,
          8.1750001907349,
          8.2499998807907,
          8.3250002861023,
          7.7250001430511,
          7.125,
          6.9750000238419,
          6.1000000238419,
          6.2749999761581,
          6.75,
          6.4499999284744,
          7.3250000476837,
          9.2250000238419,
          13.224999904633,
          14.325000047684,
          15.025000095367,
          16.100000143051,
          16.275000572205,
          15.825000047684,
          15.874999761581,
          16.875000238419,
          15.149999856949,
          14.399999856949,
          12.875,
          12.149999856949,
          10.975000143051,
          9.6749999523163,
          9.4500002861023,
          9.1499998569489,
          8.7999999523163,
          7.8000000715256,
          7,
          8.2999999523163,
          7.2000000476837,
          6.3499999046326,
          6.450000166893,
          9.5666666030884,
          12.375,
          15.649999856949,
          18.400000095367,
          19.35000038147,
          18.02499961853,
          18.375,
          17.625,
          16.675000190735,
          16.099999904633,
          15.825000047684,
          15.650000095367,
          15.325000047684,
          14.649999856949,
          14.700000286102,
          13.949999809265,
          14.649999856949,
          12.549999952316,
          11.649999856949,
          12.099999904633,
          11.475000143051,
          11.599999904633,
          10.399999856949,
          11.574999809265,
          12.424999952316,
          14.525000095367,
          16.875000476837,
          19.300000190735,
          21.174999713898,
          21.424999713898,
          21.925000190735,
          22.224999904633,
          21.299999713898,
          19.650000095367,
          18.374999523163,
          17.625,
          16.650000095367,
          16.25,
          14.725000143051,
          14.825000047684,
          14.049999952316,
          13.350000143051,
          12.599999904633,
          12.349999904633,
          11.899999856949,
          11.375,
          11.324999809265,
          12.400000095367,
          14.774999856949,
          17.400000095367,
          19.800000190735,
          22.025000095367,
          23.324999809265,
          23.875,
          24.449999809265,
          24.375,
          23.849999904633,
          22.549999237061,
          20.425000667572,
          18.275000095367,
          16.650000095367,
          15.699999809265,
          15.250000238419,
          14.066666603088,
          14.825000047684,
          14.75,
          13.624999761581,
          12.324999809265,
          12.75,
          11.174999952316,
          10.975000143051,
          11.674999952316,
          13.625,
          17.824999332428,
          21.449999809265,
          24.375,
          25.250000476837,
          25.825000286102,
          27,
          28.249999523163,
          27.974999904633,
          23.900000095367,
          21.349999904633,
          20.425000190735,
          19.025000095367,
          17.925000190735,
          16.700000286102,
          15.524999856949,
          15.475000143051,
          14.125,
          13.050000190735,
          12.650000333786,
          11.824999809265,
          11.900000095367,
          9.9000000953674,
          11.125,
          14.124999761581,
          17.699999809265,
          21.10000038147,
          24.300000190735,
          25.575000286102,
          25.85000038147,
          26.824999809265,
          29.275000095367,
          28.5,
          25.85000038147,
          23.125,
          20.52499961853,
          19.050000190735,
          17.150000095367,
          16.025000095367
         ],
         "yaxis": "y"
        },
        {
         "hovertemplate": "variable=del_T<br>Date=%{x}<br>value=%{y}<extra></extra>",
         "legendgroup": "del_T",
         "line": {
          "color": "#EF553B",
          "dash": "solid"
         },
         "mode": "lines",
         "name": "del_T",
         "orientation": "v",
         "showlegend": true,
         "type": "scatter",
         "x": [
          "2004-03-11T00:00:00",
          "2004-03-11T01:00:00",
          "2004-03-11T02:00:00",
          "2004-03-11T03:00:00",
          "2004-03-11T04:00:00",
          "2004-03-11T05:00:00",
          "2004-03-11T06:00:00",
          "2004-03-11T07:00:00",
          "2004-03-11T08:00:00",
          "2004-03-11T09:00:00",
          "2004-03-11T10:00:00",
          "2004-03-11T11:00:00",
          "2004-03-11T12:00:00",
          "2004-03-11T13:00:00",
          "2004-03-11T14:00:00",
          "2004-03-11T15:00:00",
          "2004-03-11T16:00:00",
          "2004-03-11T17:00:00",
          "2004-03-11T18:00:00",
          "2004-03-11T19:00:00",
          "2004-03-11T20:00:00",
          "2004-03-11T21:00:00",
          "2004-03-11T22:00:00",
          "2004-03-11T23:00:00",
          "2004-03-12T00:00:00",
          "2004-03-12T01:00:00",
          "2004-03-12T02:00:00",
          "2004-03-12T03:00:00",
          "2004-03-12T04:00:00",
          "2004-03-12T05:00:00",
          "2004-03-12T06:00:00",
          "2004-03-12T07:00:00",
          "2004-03-12T08:00:00",
          "2004-03-12T09:00:00",
          "2004-03-12T10:00:00",
          "2004-03-12T11:00:00",
          "2004-03-12T12:00:00",
          "2004-03-12T13:00:00",
          "2004-03-12T14:00:00",
          "2004-03-12T15:00:00",
          "2004-03-12T16:00:00",
          "2004-03-12T17:00:00",
          "2004-03-12T18:00:00",
          "2004-03-12T19:00:00",
          "2004-03-12T20:00:00",
          "2004-03-12T21:00:00",
          "2004-03-12T22:00:00",
          "2004-03-12T23:00:00",
          "2004-03-13T00:00:00",
          "2004-03-13T01:00:00",
          "2004-03-13T02:00:00",
          "2004-03-13T03:00:00",
          "2004-03-13T04:00:00",
          "2004-03-13T05:00:00",
          "2004-03-13T06:00:00",
          "2004-03-13T07:00:00",
          "2004-03-13T08:00:00",
          "2004-03-13T09:00:00",
          "2004-03-13T10:00:00",
          "2004-03-13T11:00:00",
          "2004-03-13T12:00:00",
          "2004-03-13T13:00:00",
          "2004-03-13T14:00:00",
          "2004-03-13T15:00:00",
          "2004-03-13T16:00:00",
          "2004-03-13T17:00:00",
          "2004-03-13T18:00:00",
          "2004-03-13T19:00:00",
          "2004-03-13T20:00:00",
          "2004-03-13T21:00:00",
          "2004-03-13T22:00:00",
          "2004-03-13T23:00:00",
          "2004-03-14T00:00:00",
          "2004-03-14T01:00:00",
          "2004-03-14T02:00:00",
          "2004-03-14T03:00:00",
          "2004-03-14T04:00:00",
          "2004-03-14T05:00:00",
          "2004-03-14T06:00:00",
          "2004-03-14T07:00:00",
          "2004-03-14T08:00:00",
          "2004-03-14T09:00:00",
          "2004-03-14T10:00:00",
          "2004-03-14T11:00:00",
          "2004-03-14T12:00:00",
          "2004-03-14T13:00:00",
          "2004-03-14T14:00:00",
          "2004-03-14T15:00:00",
          "2004-03-14T16:00:00",
          "2004-03-14T17:00:00",
          "2004-03-14T18:00:00",
          "2004-03-14T19:00:00",
          "2004-03-14T20:00:00",
          "2004-03-14T21:00:00",
          "2004-03-14T22:00:00",
          "2004-03-14T23:00:00",
          "2004-03-15T00:00:00",
          "2004-03-15T01:00:00",
          "2004-03-15T02:00:00",
          "2004-03-15T03:00:00",
          "2004-03-15T04:00:00",
          "2004-03-15T05:00:00",
          "2004-03-15T06:00:00",
          "2004-03-15T07:00:00",
          "2004-03-15T08:00:00",
          "2004-03-15T09:00:00",
          "2004-03-15T10:00:00",
          "2004-03-15T11:00:00",
          "2004-03-15T12:00:00",
          "2004-03-15T13:00:00",
          "2004-03-15T14:00:00",
          "2004-03-15T15:00:00",
          "2004-03-15T16:00:00",
          "2004-03-15T17:00:00",
          "2004-03-15T18:00:00",
          "2004-03-15T19:00:00",
          "2004-03-15T20:00:00",
          "2004-03-15T21:00:00",
          "2004-03-15T22:00:00",
          "2004-03-15T23:00:00",
          "2004-03-16T00:00:00",
          "2004-03-16T01:00:00",
          "2004-03-16T02:00:00",
          "2004-03-16T03:00:00",
          "2004-03-16T04:00:00",
          "2004-03-16T05:00:00",
          "2004-03-16T06:00:00",
          "2004-03-16T07:00:00",
          "2004-03-16T08:00:00",
          "2004-03-16T09:00:00",
          "2004-03-16T10:00:00",
          "2004-03-16T11:00:00",
          "2004-03-16T12:00:00",
          "2004-03-16T13:00:00",
          "2004-03-16T14:00:00",
          "2004-03-16T15:00:00",
          "2004-03-16T16:00:00",
          "2004-03-16T17:00:00",
          "2004-03-16T18:00:00",
          "2004-03-16T19:00:00",
          "2004-03-16T20:00:00",
          "2004-03-16T21:00:00",
          "2004-03-16T22:00:00",
          "2004-03-16T23:00:00",
          "2004-03-17T00:00:00",
          "2004-03-17T01:00:00",
          "2004-03-17T02:00:00",
          "2004-03-17T03:00:00",
          "2004-03-17T04:00:00",
          "2004-03-17T05:00:00",
          "2004-03-17T06:00:00",
          "2004-03-17T07:00:00",
          "2004-03-17T08:00:00",
          "2004-03-17T09:00:00",
          "2004-03-17T10:00:00",
          "2004-03-17T11:00:00",
          "2004-03-17T12:00:00",
          "2004-03-17T13:00:00",
          "2004-03-17T14:00:00",
          "2004-03-17T15:00:00",
          "2004-03-17T16:00:00",
          "2004-03-17T17:00:00",
          "2004-03-17T18:00:00",
          "2004-03-17T19:00:00",
          "2004-03-17T20:00:00",
          "2004-03-17T21:00:00",
          "2004-03-17T22:00:00",
          "2004-03-17T23:00:00"
         ],
         "xaxis": "x",
         "y": [
          -0.649999856949,
          -0.024999856948999977,
          -0.3999998569479999,
          -0.17500019073500006,
          0.9249997138969999,
          -0.5499997138969999,
          -0.25,
          0.549999952316,
          -0.25,
          0.29999995231599996,
          -0.30000019073500006,
          -0.9749999046320994,
          -1.2250000238419005,
          -0.29999983310699996,
          0.32500016689300004,
          1.3749998807906998,
          0.07500004768369983,
          0.5749998092656003,
          -0.6999998092656003,
          -2.3841849916550473e-07,
          -0.5249998569489005,
          -0.9499998092650994,
          0.0749996900557992,
          0.07500040531160046,
          -0.6000001430511999,
          -0.6000001430511004,
          -0.14999997615810035,
          -0.875,
          0.1749999523162007,
          0.47500002384189965,
          -0.3000000715256004,
          0.8750001192093002,
          1.8999999761582007,
          3.9999998807910995,
          1.100000143051,
          0.700000047683,
          1.0750000476839983,
          0.17500042915400016,
          -0.45000052452099837,
          0.049999713896999864,
          1.0000004768379984,
          -1.7250003814699983,
          -0.75,
          -1.524999856949,
          -0.725000143051,
          -1.174999713898,
          -1.3000001907346999,
          -0.22499966621399992,
          -0.30000042915339975,
          -0.34999990463260033,
          -0.9999998807906998,
          -0.8000000715256004,
          1.2999999523163002,
          -1.0999999046326003,
          -0.8500001430510995,
          0.10000026226039971,
          3.1166664361954,
          2.8083333969115998,
          3.274999856949,
          2.750000238418002,
          0.9500002861029984,
          -1.3250007629400002,
          0.3500003814700001,
          -0.75,
          -0.9499998092650017,
          -0.575000286102,
          -0.2749998569489982,
          -0.17499995231700005,
          -0.32500004768299995,
          -0.6750001907350001,
          0.05000042915300007,
          -0.7500004768370001,
          0.700000047684,
          -2.099999904633,
          -0.900000095367,
          0.45000004768400004,
          -0.624999761582,
          0.12499976158199999,
          -1.200000047684,
          1.174999952316,
          0.850000143051,
          2.100000143051,
          2.3500003814699983,
          2.424999713898,
          1.8749995231630017,
          0.25,
          0.5000004768369983,
          0.29999971389799995,
          -0.9250001907349983,
          -1.6499996185309982,
          -1.275000572204,
          -0.7499995231630017,
          -0.9749999046329982,
          -0.40000009536700176,
          -1.524999856949,
          0.09999990463300001,
          -0.7750000953680001,
          -0.6999998092649999,
          -0.750000238418,
          -0.25,
          -0.45000004768400004,
          -0.524999856949,
          -0.05000019073500006,
          1.075000286102,
          2.374999761582,
          2.625000238418002,
          2.4000000953679965,
          2.2249999046320035,
          1.299999713898,
          0.5500001907349983,
          0.5749998092650017,
          -0.07499980926500172,
          -0.5250000953670018,
          -1.3000006675719966,
          -2.1249985694890015,
          -2.1500005722049984,
          -1.625,
          -0.9500002861020018,
          -0.44999957084599984,
          -1.1833336353309996,
          0.7583334445959995,
          -0.07500004768400004,
          -1.125000238419,
          -1.299999952316,
          0.42500019073500006,
          -1.575000047684,
          -0.19999980926499994,
          0.6999998092649999,
          1.950000047684,
          4.199999332428,
          3.625000476837002,
          2.9250001907349983,
          0.8750004768369983,
          0.5749998092650017,
          1.174999713898,
          1.2499995231630017,
          -0.27499961853000343,
          -4.0749998092659965,
          -2.5500001907340035,
          -0.924999713898,
          -1.4000000953679965,
          -1.0999999046320035,
          -1.2249999046329982,
          -1.175000429153,
          -0.04999971389799995,
          -1.350000143051,
          -1.074999809265,
          -0.399999856949,
          -0.8250005245210001,
          0.07500028610200005,
          -1.9999999999996003,
          1.2249999046326003,
          2.999999761581,
          3.575000047684002,
          3.4000005722049984,
          3.199999809264998,
          1.2750000953670018,
          0.2750000953680001,
          0.9749994277950016,
          2.450000286102,
          -0.7750000953670018,
          -2.64999961853,
          -2.72500038147,
          -2.60000038147,
          -1.4749994277950016,
          -1.9000000953679965,
          -1.125,
          null
         ],
         "yaxis": "y"
        }
       ],
       "layout": {
        "legend": {
         "title": {
          "text": "variable"
         },
         "tracegroupgap": 0
        },
        "margin": {
         "t": 60
        },
        "template": {
         "data": {
          "bar": [
           {
            "error_x": {
             "color": "#2a3f5f"
            },
            "error_y": {
             "color": "#2a3f5f"
            },
            "marker": {
             "line": {
              "color": "#E5ECF6",
              "width": 0.5
             }
            },
            "type": "bar"
           }
          ],
          "barpolar": [
           {
            "marker": {
             "line": {
              "color": "#E5ECF6",
              "width": 0.5
             }
            },
            "type": "barpolar"
           }
          ],
          "carpet": [
           {
            "aaxis": {
             "endlinecolor": "#2a3f5f",
             "gridcolor": "white",
             "linecolor": "white",
             "minorgridcolor": "white",
             "startlinecolor": "#2a3f5f"
            },
            "baxis": {
             "endlinecolor": "#2a3f5f",
             "gridcolor": "white",
             "linecolor": "white",
             "minorgridcolor": "white",
             "startlinecolor": "#2a3f5f"
            },
            "type": "carpet"
           }
          ],
          "choropleth": [
           {
            "colorbar": {
             "outlinewidth": 0,
             "ticks": ""
            },
            "type": "choropleth"
           }
          ],
          "contour": [
           {
            "colorbar": {
             "outlinewidth": 0,
             "ticks": ""
            },
            "colorscale": [
             [
              0,
              "#0d0887"
             ],
             [
              0.1111111111111111,
              "#46039f"
             ],
             [
              0.2222222222222222,
              "#7201a8"
             ],
             [
              0.3333333333333333,
              "#9c179e"
             ],
             [
              0.4444444444444444,
              "#bd3786"
             ],
             [
              0.5555555555555556,
              "#d8576b"
             ],
             [
              0.6666666666666666,
              "#ed7953"
             ],
             [
              0.7777777777777778,
              "#fb9f3a"
             ],
             [
              0.8888888888888888,
              "#fdca26"
             ],
             [
              1,
              "#f0f921"
             ]
            ],
            "type": "contour"
           }
          ],
          "contourcarpet": [
           {
            "colorbar": {
             "outlinewidth": 0,
             "ticks": ""
            },
            "type": "contourcarpet"
           }
          ],
          "heatmap": [
           {
            "colorbar": {
             "outlinewidth": 0,
             "ticks": ""
            },
            "colorscale": [
             [
              0,
              "#0d0887"
             ],
             [
              0.1111111111111111,
              "#46039f"
             ],
             [
              0.2222222222222222,
              "#7201a8"
             ],
             [
              0.3333333333333333,
              "#9c179e"
             ],
             [
              0.4444444444444444,
              "#bd3786"
             ],
             [
              0.5555555555555556,
              "#d8576b"
             ],
             [
              0.6666666666666666,
              "#ed7953"
             ],
             [
              0.7777777777777778,
              "#fb9f3a"
             ],
             [
              0.8888888888888888,
              "#fdca26"
             ],
             [
              1,
              "#f0f921"
             ]
            ],
            "type": "heatmap"
           }
          ],
          "heatmapgl": [
           {
            "colorbar": {
             "outlinewidth": 0,
             "ticks": ""
            },
            "colorscale": [
             [
              0,
              "#0d0887"
             ],
             [
              0.1111111111111111,
              "#46039f"
             ],
             [
              0.2222222222222222,
              "#7201a8"
             ],
             [
              0.3333333333333333,
              "#9c179e"
             ],
             [
              0.4444444444444444,
              "#bd3786"
             ],
             [
              0.5555555555555556,
              "#d8576b"
             ],
             [
              0.6666666666666666,
              "#ed7953"
             ],
             [
              0.7777777777777778,
              "#fb9f3a"
             ],
             [
              0.8888888888888888,
              "#fdca26"
             ],
             [
              1,
              "#f0f921"
             ]
            ],
            "type": "heatmapgl"
           }
          ],
          "histogram": [
           {
            "marker": {
             "colorbar": {
              "outlinewidth": 0,
              "ticks": ""
             }
            },
            "type": "histogram"
           }
          ],
          "histogram2d": [
           {
            "colorbar": {
             "outlinewidth": 0,
             "ticks": ""
            },
            "colorscale": [
             [
              0,
              "#0d0887"
             ],
             [
              0.1111111111111111,
              "#46039f"
             ],
             [
              0.2222222222222222,
              "#7201a8"
             ],
             [
              0.3333333333333333,
              "#9c179e"
             ],
             [
              0.4444444444444444,
              "#bd3786"
             ],
             [
              0.5555555555555556,
              "#d8576b"
             ],
             [
              0.6666666666666666,
              "#ed7953"
             ],
             [
              0.7777777777777778,
              "#fb9f3a"
             ],
             [
              0.8888888888888888,
              "#fdca26"
             ],
             [
              1,
              "#f0f921"
             ]
            ],
            "type": "histogram2d"
           }
          ],
          "histogram2dcontour": [
           {
            "colorbar": {
             "outlinewidth": 0,
             "ticks": ""
            },
            "colorscale": [
             [
              0,
              "#0d0887"
             ],
             [
              0.1111111111111111,
              "#46039f"
             ],
             [
              0.2222222222222222,
              "#7201a8"
             ],
             [
              0.3333333333333333,
              "#9c179e"
             ],
             [
              0.4444444444444444,
              "#bd3786"
             ],
             [
              0.5555555555555556,
              "#d8576b"
             ],
             [
              0.6666666666666666,
              "#ed7953"
             ],
             [
              0.7777777777777778,
              "#fb9f3a"
             ],
             [
              0.8888888888888888,
              "#fdca26"
             ],
             [
              1,
              "#f0f921"
             ]
            ],
            "type": "histogram2dcontour"
           }
          ],
          "mesh3d": [
           {
            "colorbar": {
             "outlinewidth": 0,
             "ticks": ""
            },
            "type": "mesh3d"
           }
          ],
          "parcoords": [
           {
            "line": {
             "colorbar": {
              "outlinewidth": 0,
              "ticks": ""
             }
            },
            "type": "parcoords"
           }
          ],
          "pie": [
           {
            "automargin": true,
            "type": "pie"
           }
          ],
          "scatter": [
           {
            "marker": {
             "colorbar": {
              "outlinewidth": 0,
              "ticks": ""
             }
            },
            "type": "scatter"
           }
          ],
          "scatter3d": [
           {
            "line": {
             "colorbar": {
              "outlinewidth": 0,
              "ticks": ""
             }
            },
            "marker": {
             "colorbar": {
              "outlinewidth": 0,
              "ticks": ""
             }
            },
            "type": "scatter3d"
           }
          ],
          "scattercarpet": [
           {
            "marker": {
             "colorbar": {
              "outlinewidth": 0,
              "ticks": ""
             }
            },
            "type": "scattercarpet"
           }
          ],
          "scattergeo": [
           {
            "marker": {
             "colorbar": {
              "outlinewidth": 0,
              "ticks": ""
             }
            },
            "type": "scattergeo"
           }
          ],
          "scattergl": [
           {
            "marker": {
             "colorbar": {
              "outlinewidth": 0,
              "ticks": ""
             }
            },
            "type": "scattergl"
           }
          ],
          "scattermapbox": [
           {
            "marker": {
             "colorbar": {
              "outlinewidth": 0,
              "ticks": ""
             }
            },
            "type": "scattermapbox"
           }
          ],
          "scatterpolar": [
           {
            "marker": {
             "colorbar": {
              "outlinewidth": 0,
              "ticks": ""
             }
            },
            "type": "scatterpolar"
           }
          ],
          "scatterpolargl": [
           {
            "marker": {
             "colorbar": {
              "outlinewidth": 0,
              "ticks": ""
             }
            },
            "type": "scatterpolargl"
           }
          ],
          "scatterternary": [
           {
            "marker": {
             "colorbar": {
              "outlinewidth": 0,
              "ticks": ""
             }
            },
            "type": "scatterternary"
           }
          ],
          "surface": [
           {
            "colorbar": {
             "outlinewidth": 0,
             "ticks": ""
            },
            "colorscale": [
             [
              0,
              "#0d0887"
             ],
             [
              0.1111111111111111,
              "#46039f"
             ],
             [
              0.2222222222222222,
              "#7201a8"
             ],
             [
              0.3333333333333333,
              "#9c179e"
             ],
             [
              0.4444444444444444,
              "#bd3786"
             ],
             [
              0.5555555555555556,
              "#d8576b"
             ],
             [
              0.6666666666666666,
              "#ed7953"
             ],
             [
              0.7777777777777778,
              "#fb9f3a"
             ],
             [
              0.8888888888888888,
              "#fdca26"
             ],
             [
              1,
              "#f0f921"
             ]
            ],
            "type": "surface"
           }
          ],
          "table": [
           {
            "cells": {
             "fill": {
              "color": "#EBF0F8"
             },
             "line": {
              "color": "white"
             }
            },
            "header": {
             "fill": {
              "color": "#C8D4E3"
             },
             "line": {
              "color": "white"
             }
            },
            "type": "table"
           }
          ]
         },
         "layout": {
          "annotationdefaults": {
           "arrowcolor": "#2a3f5f",
           "arrowhead": 0,
           "arrowwidth": 1
          },
          "autotypenumbers": "strict",
          "coloraxis": {
           "colorbar": {
            "outlinewidth": 0,
            "ticks": ""
           }
          },
          "colorscale": {
           "diverging": [
            [
             0,
             "#8e0152"
            ],
            [
             0.1,
             "#c51b7d"
            ],
            [
             0.2,
             "#de77ae"
            ],
            [
             0.3,
             "#f1b6da"
            ],
            [
             0.4,
             "#fde0ef"
            ],
            [
             0.5,
             "#f7f7f7"
            ],
            [
             0.6,
             "#e6f5d0"
            ],
            [
             0.7,
             "#b8e186"
            ],
            [
             0.8,
             "#7fbc41"
            ],
            [
             0.9,
             "#4d9221"
            ],
            [
             1,
             "#276419"
            ]
           ],
           "sequential": [
            [
             0,
             "#0d0887"
            ],
            [
             0.1111111111111111,
             "#46039f"
            ],
            [
             0.2222222222222222,
             "#7201a8"
            ],
            [
             0.3333333333333333,
             "#9c179e"
            ],
            [
             0.4444444444444444,
             "#bd3786"
            ],
            [
             0.5555555555555556,
             "#d8576b"
            ],
            [
             0.6666666666666666,
             "#ed7953"
            ],
            [
             0.7777777777777778,
             "#fb9f3a"
            ],
            [
             0.8888888888888888,
             "#fdca26"
            ],
            [
             1,
             "#f0f921"
            ]
           ],
           "sequentialminus": [
            [
             0,
             "#0d0887"
            ],
            [
             0.1111111111111111,
             "#46039f"
            ],
            [
             0.2222222222222222,
             "#7201a8"
            ],
            [
             0.3333333333333333,
             "#9c179e"
            ],
            [
             0.4444444444444444,
             "#bd3786"
            ],
            [
             0.5555555555555556,
             "#d8576b"
            ],
            [
             0.6666666666666666,
             "#ed7953"
            ],
            [
             0.7777777777777778,
             "#fb9f3a"
            ],
            [
             0.8888888888888888,
             "#fdca26"
            ],
            [
             1,
             "#f0f921"
            ]
           ]
          },
          "colorway": [
           "#636efa",
           "#EF553B",
           "#00cc96",
           "#ab63fa",
           "#FFA15A",
           "#19d3f3",
           "#FF6692",
           "#B6E880",
           "#FF97FF",
           "#FECB52"
          ],
          "font": {
           "color": "#2a3f5f"
          },
          "geo": {
           "bgcolor": "white",
           "lakecolor": "white",
           "landcolor": "#E5ECF6",
           "showlakes": true,
           "showland": true,
           "subunitcolor": "white"
          },
          "hoverlabel": {
           "align": "left"
          },
          "hovermode": "closest",
          "mapbox": {
           "style": "light"
          },
          "paper_bgcolor": "white",
          "plot_bgcolor": "#E5ECF6",
          "polar": {
           "angularaxis": {
            "gridcolor": "white",
            "linecolor": "white",
            "ticks": ""
           },
           "bgcolor": "#E5ECF6",
           "radialaxis": {
            "gridcolor": "white",
            "linecolor": "white",
            "ticks": ""
           }
          },
          "scene": {
           "xaxis": {
            "backgroundcolor": "#E5ECF6",
            "gridcolor": "white",
            "gridwidth": 2,
            "linecolor": "white",
            "showbackground": true,
            "ticks": "",
            "zerolinecolor": "white"
           },
           "yaxis": {
            "backgroundcolor": "#E5ECF6",
            "gridcolor": "white",
            "gridwidth": 2,
            "linecolor": "white",
            "showbackground": true,
            "ticks": "",
            "zerolinecolor": "white"
           },
           "zaxis": {
            "backgroundcolor": "#E5ECF6",
            "gridcolor": "white",
            "gridwidth": 2,
            "linecolor": "white",
            "showbackground": true,
            "ticks": "",
            "zerolinecolor": "white"
           }
          },
          "shapedefaults": {
           "line": {
            "color": "#2a3f5f"
           }
          },
          "ternary": {
           "aaxis": {
            "gridcolor": "white",
            "linecolor": "white",
            "ticks": ""
           },
           "baxis": {
            "gridcolor": "white",
            "linecolor": "white",
            "ticks": ""
           },
           "bgcolor": "#E5ECF6",
           "caxis": {
            "gridcolor": "white",
            "linecolor": "white",
            "ticks": ""
           }
          },
          "title": {
           "x": 0.05
          },
          "xaxis": {
           "automargin": true,
           "gridcolor": "white",
           "linecolor": "white",
           "ticks": "",
           "title": {
            "standoff": 15
           },
           "zerolinecolor": "white",
           "zerolinewidth": 2
          },
          "yaxis": {
           "automargin": true,
           "gridcolor": "white",
           "linecolor": "white",
           "ticks": "",
           "title": {
            "standoff": 15
           },
           "zerolinecolor": "white",
           "zerolinewidth": 2
          }
         }
        },
        "xaxis": {
         "anchor": "y",
         "domain": [
          0,
          1
         ],
         "title": {
          "text": "Date"
         }
        },
        "yaxis": {
         "anchor": "x",
         "domain": [
          0,
          1
         ],
         "title": {
          "text": "value"
         }
        }
       }
      },
      "text/html": [
       "<div>                            <div id=\"675bfee8-f026-4ea0-9d25-c485ef60b925\" class=\"plotly-graph-div\" style=\"height:525px; width:100%;\"></div>            <script type=\"text/javascript\">                require([\"plotly\"], function(Plotly) {                    window.PLOTLYENV=window.PLOTLYENV || {};                                    if (document.getElementById(\"675bfee8-f026-4ea0-9d25-c485ef60b925\")) {                    Plotly.newPlot(                        \"675bfee8-f026-4ea0-9d25-c485ef60b925\",                        [{\"hovertemplate\": \"variable=T<br>Date=%{x}<br>value=%{y}<extra></extra>\", \"legendgroup\": \"T\", \"line\": {\"color\": \"#636efa\", \"dash\": \"solid\"}, \"mode\": \"lines\", \"name\": \"T\", \"orientation\": \"v\", \"showlegend\": true, \"type\": \"scatter\", \"x\": [\"2004-03-11T00:00:00\", \"2004-03-11T01:00:00\", \"2004-03-11T02:00:00\", \"2004-03-11T03:00:00\", \"2004-03-11T04:00:00\", \"2004-03-11T05:00:00\", \"2004-03-11T06:00:00\", \"2004-03-11T07:00:00\", \"2004-03-11T08:00:00\", \"2004-03-11T09:00:00\", \"2004-03-11T10:00:00\", \"2004-03-11T11:00:00\", \"2004-03-11T12:00:00\", \"2004-03-11T13:00:00\", \"2004-03-11T14:00:00\", \"2004-03-11T15:00:00\", \"2004-03-11T16:00:00\", \"2004-03-11T17:00:00\", \"2004-03-11T18:00:00\", \"2004-03-11T19:00:00\", \"2004-03-11T20:00:00\", \"2004-03-11T21:00:00\", \"2004-03-11T22:00:00\", \"2004-03-11T23:00:00\", \"2004-03-12T00:00:00\", \"2004-03-12T01:00:00\", \"2004-03-12T02:00:00\", \"2004-03-12T03:00:00\", \"2004-03-12T04:00:00\", \"2004-03-12T05:00:00\", \"2004-03-12T06:00:00\", \"2004-03-12T07:00:00\", \"2004-03-12T08:00:00\", \"2004-03-12T09:00:00\", \"2004-03-12T10:00:00\", \"2004-03-12T11:00:00\", \"2004-03-12T12:00:00\", \"2004-03-12T13:00:00\", \"2004-03-12T14:00:00\", \"2004-03-12T15:00:00\", \"2004-03-12T16:00:00\", \"2004-03-12T17:00:00\", \"2004-03-12T18:00:00\", \"2004-03-12T19:00:00\", \"2004-03-12T20:00:00\", \"2004-03-12T21:00:00\", \"2004-03-12T22:00:00\", \"2004-03-12T23:00:00\", \"2004-03-13T00:00:00\", \"2004-03-13T01:00:00\", \"2004-03-13T02:00:00\", \"2004-03-13T03:00:00\", \"2004-03-13T04:00:00\", \"2004-03-13T05:00:00\", \"2004-03-13T06:00:00\", \"2004-03-13T07:00:00\", \"2004-03-13T08:00:00\", \"2004-03-13T09:00:00\", \"2004-03-13T10:00:00\", \"2004-03-13T11:00:00\", \"2004-03-13T12:00:00\", \"2004-03-13T13:00:00\", \"2004-03-13T14:00:00\", \"2004-03-13T15:00:00\", \"2004-03-13T16:00:00\", \"2004-03-13T17:00:00\", \"2004-03-13T18:00:00\", \"2004-03-13T19:00:00\", \"2004-03-13T20:00:00\", \"2004-03-13T21:00:00\", \"2004-03-13T22:00:00\", \"2004-03-13T23:00:00\", \"2004-03-14T00:00:00\", \"2004-03-14T01:00:00\", \"2004-03-14T02:00:00\", \"2004-03-14T03:00:00\", \"2004-03-14T04:00:00\", \"2004-03-14T05:00:00\", \"2004-03-14T06:00:00\", \"2004-03-14T07:00:00\", \"2004-03-14T08:00:00\", \"2004-03-14T09:00:00\", \"2004-03-14T10:00:00\", \"2004-03-14T11:00:00\", \"2004-03-14T12:00:00\", \"2004-03-14T13:00:00\", \"2004-03-14T14:00:00\", \"2004-03-14T15:00:00\", \"2004-03-14T16:00:00\", \"2004-03-14T17:00:00\", \"2004-03-14T18:00:00\", \"2004-03-14T19:00:00\", \"2004-03-14T20:00:00\", \"2004-03-14T21:00:00\", \"2004-03-14T22:00:00\", \"2004-03-14T23:00:00\", \"2004-03-15T00:00:00\", \"2004-03-15T01:00:00\", \"2004-03-15T02:00:00\", \"2004-03-15T03:00:00\", \"2004-03-15T04:00:00\", \"2004-03-15T05:00:00\", \"2004-03-15T06:00:00\", \"2004-03-15T07:00:00\", \"2004-03-15T08:00:00\", \"2004-03-15T09:00:00\", \"2004-03-15T10:00:00\", \"2004-03-15T11:00:00\", \"2004-03-15T12:00:00\", \"2004-03-15T13:00:00\", \"2004-03-15T14:00:00\", \"2004-03-15T15:00:00\", \"2004-03-15T16:00:00\", \"2004-03-15T17:00:00\", \"2004-03-15T18:00:00\", \"2004-03-15T19:00:00\", \"2004-03-15T20:00:00\", \"2004-03-15T21:00:00\", \"2004-03-15T22:00:00\", \"2004-03-15T23:00:00\", \"2004-03-16T00:00:00\", \"2004-03-16T01:00:00\", \"2004-03-16T02:00:00\", \"2004-03-16T03:00:00\", \"2004-03-16T04:00:00\", \"2004-03-16T05:00:00\", \"2004-03-16T06:00:00\", \"2004-03-16T07:00:00\", \"2004-03-16T08:00:00\", \"2004-03-16T09:00:00\", \"2004-03-16T10:00:00\", \"2004-03-16T11:00:00\", \"2004-03-16T12:00:00\", \"2004-03-16T13:00:00\", \"2004-03-16T14:00:00\", \"2004-03-16T15:00:00\", \"2004-03-16T16:00:00\", \"2004-03-16T17:00:00\", \"2004-03-16T18:00:00\", \"2004-03-16T19:00:00\", \"2004-03-16T20:00:00\", \"2004-03-16T21:00:00\", \"2004-03-16T22:00:00\", \"2004-03-16T23:00:00\", \"2004-03-17T00:00:00\", \"2004-03-17T01:00:00\", \"2004-03-17T02:00:00\", \"2004-03-17T03:00:00\", \"2004-03-17T04:00:00\", \"2004-03-17T05:00:00\", \"2004-03-17T06:00:00\", \"2004-03-17T07:00:00\", \"2004-03-17T08:00:00\", \"2004-03-17T09:00:00\", \"2004-03-17T10:00:00\", \"2004-03-17T11:00:00\", \"2004-03-17T12:00:00\", \"2004-03-17T13:00:00\", \"2004-03-17T14:00:00\", \"2004-03-17T15:00:00\", \"2004-03-17T16:00:00\", \"2004-03-17T17:00:00\", \"2004-03-17T18:00:00\", \"2004-03-17T19:00:00\", \"2004-03-17T20:00:00\", \"2004-03-17T21:00:00\", \"2004-03-17T22:00:00\", \"2004-03-17T23:00:00\"], \"xaxis\": \"x\", \"y\": [11.324999809265, 10.674999952316, 10.650000095367, 10.250000238419, 10.075000047684, 10.999999761581, 10.450000047684, 10.200000047684, 10.75, 10.5, 10.799999952316, 10.499999761581, 9.5249998569489, 8.299999833107, 8.0, 8.325000166893, 9.7000000476837, 9.7750000953674, 10.349999904633, 9.6500000953674, 9.6499998569489, 9.125, 8.1750001907349, 8.2499998807907, 8.3250002861023, 7.7250001430511, 7.125, 6.9750000238419, 6.1000000238419, 6.2749999761581, 6.75, 6.4499999284744, 7.3250000476837, 9.2250000238419, 13.224999904633, 14.325000047684, 15.025000095367, 16.100000143051, 16.275000572205, 15.825000047684, 15.874999761581, 16.875000238419, 15.149999856949, 14.399999856949, 12.875, 12.149999856949, 10.975000143051, 9.6749999523163, 9.4500002861023, 9.1499998569489, 8.7999999523163, 7.8000000715256, 7.0, 8.2999999523163, 7.2000000476837, 6.3499999046326, 6.450000166893, 9.5666666030884, 12.375, 15.649999856949, 18.400000095367, 19.35000038147, 18.02499961853, 18.375, 17.625, 16.675000190735, 16.099999904633, 15.825000047684, 15.650000095367, 15.325000047684, 14.649999856949, 14.700000286102, 13.949999809265, 14.649999856949, 12.549999952316, 11.649999856949, 12.099999904633, 11.475000143051, 11.599999904633, 10.399999856949, 11.574999809265, 12.424999952316, 14.525000095367, 16.875000476837, 19.300000190735, 21.174999713898, 21.424999713898, 21.925000190735, 22.224999904633, 21.299999713898, 19.650000095367, 18.374999523163, 17.625, 16.650000095367, 16.25, 14.725000143051, 14.825000047684, 14.049999952316, 13.350000143051, 12.599999904633, 12.349999904633, 11.899999856949, 11.375, 11.324999809265, 12.400000095367, 14.774999856949, 17.400000095367, 19.800000190735, 22.025000095367, 23.324999809265, 23.875, 24.449999809265, 24.375, 23.849999904633, 22.549999237061, 20.425000667572, 18.275000095367, 16.650000095367, 15.699999809265, 15.250000238419, 14.066666603088, 14.825000047684, 14.75, 13.624999761581, 12.324999809265, 12.75, 11.174999952316, 10.975000143051, 11.674999952316, 13.625, 17.824999332428, 21.449999809265, 24.375, 25.250000476837, 25.825000286102, 27.0, 28.249999523163, 27.974999904633, 23.900000095367, 21.349999904633, 20.425000190735, 19.025000095367, 17.925000190735, 16.700000286102, 15.524999856949, 15.475000143051, 14.125, 13.050000190735, 12.650000333786, 11.824999809265, 11.900000095367, 9.9000000953674, 11.125, 14.124999761581, 17.699999809265, 21.10000038147, 24.300000190735, 25.575000286102, 25.85000038147, 26.824999809265, 29.275000095367, 28.5, 25.85000038147, 23.125, 20.52499961853, 19.050000190735, 17.150000095367, 16.025000095367], \"yaxis\": \"y\"}, {\"hovertemplate\": \"variable=del_T<br>Date=%{x}<br>value=%{y}<extra></extra>\", \"legendgroup\": \"del_T\", \"line\": {\"color\": \"#EF553B\", \"dash\": \"solid\"}, \"mode\": \"lines\", \"name\": \"del_T\", \"orientation\": \"v\", \"showlegend\": true, \"type\": \"scatter\", \"x\": [\"2004-03-11T00:00:00\", \"2004-03-11T01:00:00\", \"2004-03-11T02:00:00\", \"2004-03-11T03:00:00\", \"2004-03-11T04:00:00\", \"2004-03-11T05:00:00\", \"2004-03-11T06:00:00\", \"2004-03-11T07:00:00\", \"2004-03-11T08:00:00\", \"2004-03-11T09:00:00\", \"2004-03-11T10:00:00\", \"2004-03-11T11:00:00\", \"2004-03-11T12:00:00\", \"2004-03-11T13:00:00\", \"2004-03-11T14:00:00\", \"2004-03-11T15:00:00\", \"2004-03-11T16:00:00\", \"2004-03-11T17:00:00\", \"2004-03-11T18:00:00\", \"2004-03-11T19:00:00\", \"2004-03-11T20:00:00\", \"2004-03-11T21:00:00\", \"2004-03-11T22:00:00\", \"2004-03-11T23:00:00\", \"2004-03-12T00:00:00\", \"2004-03-12T01:00:00\", \"2004-03-12T02:00:00\", \"2004-03-12T03:00:00\", \"2004-03-12T04:00:00\", \"2004-03-12T05:00:00\", \"2004-03-12T06:00:00\", \"2004-03-12T07:00:00\", \"2004-03-12T08:00:00\", \"2004-03-12T09:00:00\", \"2004-03-12T10:00:00\", \"2004-03-12T11:00:00\", \"2004-03-12T12:00:00\", \"2004-03-12T13:00:00\", \"2004-03-12T14:00:00\", \"2004-03-12T15:00:00\", \"2004-03-12T16:00:00\", \"2004-03-12T17:00:00\", \"2004-03-12T18:00:00\", \"2004-03-12T19:00:00\", \"2004-03-12T20:00:00\", \"2004-03-12T21:00:00\", \"2004-03-12T22:00:00\", \"2004-03-12T23:00:00\", \"2004-03-13T00:00:00\", \"2004-03-13T01:00:00\", \"2004-03-13T02:00:00\", \"2004-03-13T03:00:00\", \"2004-03-13T04:00:00\", \"2004-03-13T05:00:00\", \"2004-03-13T06:00:00\", \"2004-03-13T07:00:00\", \"2004-03-13T08:00:00\", \"2004-03-13T09:00:00\", \"2004-03-13T10:00:00\", \"2004-03-13T11:00:00\", \"2004-03-13T12:00:00\", \"2004-03-13T13:00:00\", \"2004-03-13T14:00:00\", \"2004-03-13T15:00:00\", \"2004-03-13T16:00:00\", \"2004-03-13T17:00:00\", \"2004-03-13T18:00:00\", \"2004-03-13T19:00:00\", \"2004-03-13T20:00:00\", \"2004-03-13T21:00:00\", \"2004-03-13T22:00:00\", \"2004-03-13T23:00:00\", \"2004-03-14T00:00:00\", \"2004-03-14T01:00:00\", \"2004-03-14T02:00:00\", \"2004-03-14T03:00:00\", \"2004-03-14T04:00:00\", \"2004-03-14T05:00:00\", \"2004-03-14T06:00:00\", \"2004-03-14T07:00:00\", \"2004-03-14T08:00:00\", \"2004-03-14T09:00:00\", \"2004-03-14T10:00:00\", \"2004-03-14T11:00:00\", \"2004-03-14T12:00:00\", \"2004-03-14T13:00:00\", \"2004-03-14T14:00:00\", \"2004-03-14T15:00:00\", \"2004-03-14T16:00:00\", \"2004-03-14T17:00:00\", \"2004-03-14T18:00:00\", \"2004-03-14T19:00:00\", \"2004-03-14T20:00:00\", \"2004-03-14T21:00:00\", \"2004-03-14T22:00:00\", \"2004-03-14T23:00:00\", \"2004-03-15T00:00:00\", \"2004-03-15T01:00:00\", \"2004-03-15T02:00:00\", \"2004-03-15T03:00:00\", \"2004-03-15T04:00:00\", \"2004-03-15T05:00:00\", \"2004-03-15T06:00:00\", \"2004-03-15T07:00:00\", \"2004-03-15T08:00:00\", \"2004-03-15T09:00:00\", \"2004-03-15T10:00:00\", \"2004-03-15T11:00:00\", \"2004-03-15T12:00:00\", \"2004-03-15T13:00:00\", \"2004-03-15T14:00:00\", \"2004-03-15T15:00:00\", \"2004-03-15T16:00:00\", \"2004-03-15T17:00:00\", \"2004-03-15T18:00:00\", \"2004-03-15T19:00:00\", \"2004-03-15T20:00:00\", \"2004-03-15T21:00:00\", \"2004-03-15T22:00:00\", \"2004-03-15T23:00:00\", \"2004-03-16T00:00:00\", \"2004-03-16T01:00:00\", \"2004-03-16T02:00:00\", \"2004-03-16T03:00:00\", \"2004-03-16T04:00:00\", \"2004-03-16T05:00:00\", \"2004-03-16T06:00:00\", \"2004-03-16T07:00:00\", \"2004-03-16T08:00:00\", \"2004-03-16T09:00:00\", \"2004-03-16T10:00:00\", \"2004-03-16T11:00:00\", \"2004-03-16T12:00:00\", \"2004-03-16T13:00:00\", \"2004-03-16T14:00:00\", \"2004-03-16T15:00:00\", \"2004-03-16T16:00:00\", \"2004-03-16T17:00:00\", \"2004-03-16T18:00:00\", \"2004-03-16T19:00:00\", \"2004-03-16T20:00:00\", \"2004-03-16T21:00:00\", \"2004-03-16T22:00:00\", \"2004-03-16T23:00:00\", \"2004-03-17T00:00:00\", \"2004-03-17T01:00:00\", \"2004-03-17T02:00:00\", \"2004-03-17T03:00:00\", \"2004-03-17T04:00:00\", \"2004-03-17T05:00:00\", \"2004-03-17T06:00:00\", \"2004-03-17T07:00:00\", \"2004-03-17T08:00:00\", \"2004-03-17T09:00:00\", \"2004-03-17T10:00:00\", \"2004-03-17T11:00:00\", \"2004-03-17T12:00:00\", \"2004-03-17T13:00:00\", \"2004-03-17T14:00:00\", \"2004-03-17T15:00:00\", \"2004-03-17T16:00:00\", \"2004-03-17T17:00:00\", \"2004-03-17T18:00:00\", \"2004-03-17T19:00:00\", \"2004-03-17T20:00:00\", \"2004-03-17T21:00:00\", \"2004-03-17T22:00:00\", \"2004-03-17T23:00:00\"], \"xaxis\": \"x\", \"y\": [-0.649999856949, -0.024999856948999977, -0.3999998569479999, -0.17500019073500006, 0.9249997138969999, -0.5499997138969999, -0.25, 0.549999952316, -0.25, 0.29999995231599996, -0.30000019073500006, -0.9749999046320994, -1.2250000238419005, -0.29999983310699996, 0.32500016689300004, 1.3749998807906998, 0.07500004768369983, 0.5749998092656003, -0.6999998092656003, -2.3841849916550473e-07, -0.5249998569489005, -0.9499998092650994, 0.0749996900557992, 0.07500040531160046, -0.6000001430511999, -0.6000001430511004, -0.14999997615810035, -0.875, 0.1749999523162007, 0.47500002384189965, -0.3000000715256004, 0.8750001192093002, 1.8999999761582007, 3.9999998807910995, 1.100000143051, 0.700000047683, 1.0750000476839983, 0.17500042915400016, -0.45000052452099837, 0.049999713896999864, 1.0000004768379984, -1.7250003814699983, -0.75, -1.524999856949, -0.725000143051, -1.174999713898, -1.3000001907346999, -0.22499966621399992, -0.30000042915339975, -0.34999990463260033, -0.9999998807906998, -0.8000000715256004, 1.2999999523163002, -1.0999999046326003, -0.8500001430510995, 0.10000026226039971, 3.1166664361954, 2.8083333969115998, 3.274999856949, 2.750000238418002, 0.9500002861029984, -1.3250007629400002, 0.3500003814700001, -0.75, -0.9499998092650017, -0.575000286102, -0.2749998569489982, -0.17499995231700005, -0.32500004768299995, -0.6750001907350001, 0.05000042915300007, -0.7500004768370001, 0.700000047684, -2.099999904633, -0.900000095367, 0.45000004768400004, -0.624999761582, 0.12499976158199999, -1.200000047684, 1.174999952316, 0.850000143051, 2.100000143051, 2.3500003814699983, 2.424999713898, 1.8749995231630017, 0.25, 0.5000004768369983, 0.29999971389799995, -0.9250001907349983, -1.6499996185309982, -1.275000572204, -0.7499995231630017, -0.9749999046329982, -0.40000009536700176, -1.524999856949, 0.09999990463300001, -0.7750000953680001, -0.6999998092649999, -0.750000238418, -0.25, -0.45000004768400004, -0.524999856949, -0.05000019073500006, 1.075000286102, 2.374999761582, 2.625000238418002, 2.4000000953679965, 2.2249999046320035, 1.299999713898, 0.5500001907349983, 0.5749998092650017, -0.07499980926500172, -0.5250000953670018, -1.3000006675719966, -2.1249985694890015, -2.1500005722049984, -1.625, -0.9500002861020018, -0.44999957084599984, -1.1833336353309996, 0.7583334445959995, -0.07500004768400004, -1.125000238419, -1.299999952316, 0.42500019073500006, -1.575000047684, -0.19999980926499994, 0.6999998092649999, 1.950000047684, 4.199999332428, 3.625000476837002, 2.9250001907349983, 0.8750004768369983, 0.5749998092650017, 1.174999713898, 1.2499995231630017, -0.27499961853000343, -4.0749998092659965, -2.5500001907340035, -0.924999713898, -1.4000000953679965, -1.0999999046320035, -1.2249999046329982, -1.175000429153, -0.04999971389799995, -1.350000143051, -1.074999809265, -0.399999856949, -0.8250005245210001, 0.07500028610200005, -1.9999999999996003, 1.2249999046326003, 2.999999761581, 3.575000047684002, 3.4000005722049984, 3.199999809264998, 1.2750000953670018, 0.2750000953680001, 0.9749994277950016, 2.450000286102, -0.7750000953670018, -2.64999961853, -2.72500038147, -2.60000038147, -1.4749994277950016, -1.9000000953679965, -1.125, null], \"yaxis\": \"y\"}],                        {\"legend\": {\"title\": {\"text\": \"variable\"}, \"tracegroupgap\": 0}, \"margin\": {\"t\": 60}, \"template\": {\"data\": {\"bar\": [{\"error_x\": {\"color\": \"#2a3f5f\"}, \"error_y\": {\"color\": \"#2a3f5f\"}, \"marker\": {\"line\": {\"color\": \"#E5ECF6\", \"width\": 0.5}}, \"type\": \"bar\"}], \"barpolar\": [{\"marker\": {\"line\": {\"color\": \"#E5ECF6\", \"width\": 0.5}}, \"type\": \"barpolar\"}], \"carpet\": [{\"aaxis\": {\"endlinecolor\": \"#2a3f5f\", \"gridcolor\": \"white\", \"linecolor\": \"white\", \"minorgridcolor\": \"white\", \"startlinecolor\": \"#2a3f5f\"}, \"baxis\": {\"endlinecolor\": \"#2a3f5f\", \"gridcolor\": \"white\", \"linecolor\": \"white\", \"minorgridcolor\": \"white\", \"startlinecolor\": \"#2a3f5f\"}, \"type\": \"carpet\"}], \"choropleth\": [{\"colorbar\": {\"outlinewidth\": 0, \"ticks\": \"\"}, \"type\": \"choropleth\"}], \"contour\": [{\"colorbar\": {\"outlinewidth\": 0, \"ticks\": \"\"}, \"colorscale\": [[0.0, \"#0d0887\"], [0.1111111111111111, \"#46039f\"], [0.2222222222222222, \"#7201a8\"], [0.3333333333333333, \"#9c179e\"], [0.4444444444444444, \"#bd3786\"], [0.5555555555555556, \"#d8576b\"], [0.6666666666666666, \"#ed7953\"], [0.7777777777777778, \"#fb9f3a\"], [0.8888888888888888, \"#fdca26\"], [1.0, \"#f0f921\"]], \"type\": \"contour\"}], \"contourcarpet\": [{\"colorbar\": {\"outlinewidth\": 0, \"ticks\": \"\"}, \"type\": \"contourcarpet\"}], \"heatmap\": [{\"colorbar\": {\"outlinewidth\": 0, \"ticks\": \"\"}, \"colorscale\": [[0.0, \"#0d0887\"], [0.1111111111111111, \"#46039f\"], [0.2222222222222222, \"#7201a8\"], [0.3333333333333333, \"#9c179e\"], [0.4444444444444444, \"#bd3786\"], [0.5555555555555556, \"#d8576b\"], [0.6666666666666666, \"#ed7953\"], [0.7777777777777778, \"#fb9f3a\"], [0.8888888888888888, \"#fdca26\"], [1.0, \"#f0f921\"]], \"type\": \"heatmap\"}], \"heatmapgl\": [{\"colorbar\": {\"outlinewidth\": 0, \"ticks\": \"\"}, \"colorscale\": [[0.0, \"#0d0887\"], [0.1111111111111111, \"#46039f\"], [0.2222222222222222, \"#7201a8\"], [0.3333333333333333, \"#9c179e\"], [0.4444444444444444, \"#bd3786\"], [0.5555555555555556, \"#d8576b\"], [0.6666666666666666, \"#ed7953\"], [0.7777777777777778, \"#fb9f3a\"], [0.8888888888888888, \"#fdca26\"], [1.0, \"#f0f921\"]], \"type\": \"heatmapgl\"}], \"histogram\": [{\"marker\": {\"colorbar\": {\"outlinewidth\": 0, \"ticks\": \"\"}}, \"type\": \"histogram\"}], \"histogram2d\": [{\"colorbar\": {\"outlinewidth\": 0, \"ticks\": \"\"}, \"colorscale\": [[0.0, \"#0d0887\"], [0.1111111111111111, \"#46039f\"], [0.2222222222222222, \"#7201a8\"], [0.3333333333333333, \"#9c179e\"], [0.4444444444444444, \"#bd3786\"], [0.5555555555555556, \"#d8576b\"], [0.6666666666666666, \"#ed7953\"], [0.7777777777777778, \"#fb9f3a\"], [0.8888888888888888, \"#fdca26\"], [1.0, \"#f0f921\"]], \"type\": \"histogram2d\"}], \"histogram2dcontour\": [{\"colorbar\": {\"outlinewidth\": 0, \"ticks\": \"\"}, \"colorscale\": [[0.0, \"#0d0887\"], [0.1111111111111111, \"#46039f\"], [0.2222222222222222, \"#7201a8\"], [0.3333333333333333, \"#9c179e\"], [0.4444444444444444, \"#bd3786\"], [0.5555555555555556, \"#d8576b\"], [0.6666666666666666, \"#ed7953\"], [0.7777777777777778, \"#fb9f3a\"], [0.8888888888888888, \"#fdca26\"], [1.0, \"#f0f921\"]], \"type\": \"histogram2dcontour\"}], \"mesh3d\": [{\"colorbar\": {\"outlinewidth\": 0, \"ticks\": \"\"}, \"type\": \"mesh3d\"}], \"parcoords\": [{\"line\": {\"colorbar\": {\"outlinewidth\": 0, \"ticks\": \"\"}}, \"type\": \"parcoords\"}], \"pie\": [{\"automargin\": true, \"type\": \"pie\"}], \"scatter\": [{\"marker\": {\"colorbar\": {\"outlinewidth\": 0, \"ticks\": \"\"}}, \"type\": \"scatter\"}], \"scatter3d\": [{\"line\": {\"colorbar\": {\"outlinewidth\": 0, \"ticks\": \"\"}}, \"marker\": {\"colorbar\": {\"outlinewidth\": 0, \"ticks\": \"\"}}, \"type\": \"scatter3d\"}], \"scattercarpet\": [{\"marker\": {\"colorbar\": {\"outlinewidth\": 0, \"ticks\": \"\"}}, \"type\": \"scattercarpet\"}], \"scattergeo\": [{\"marker\": {\"colorbar\": {\"outlinewidth\": 0, \"ticks\": \"\"}}, \"type\": \"scattergeo\"}], \"scattergl\": [{\"marker\": {\"colorbar\": {\"outlinewidth\": 0, \"ticks\": \"\"}}, \"type\": \"scattergl\"}], \"scattermapbox\": [{\"marker\": {\"colorbar\": {\"outlinewidth\": 0, \"ticks\": \"\"}}, \"type\": \"scattermapbox\"}], \"scatterpolar\": [{\"marker\": {\"colorbar\": {\"outlinewidth\": 0, \"ticks\": \"\"}}, \"type\": \"scatterpolar\"}], \"scatterpolargl\": [{\"marker\": {\"colorbar\": {\"outlinewidth\": 0, \"ticks\": \"\"}}, \"type\": \"scatterpolargl\"}], \"scatterternary\": [{\"marker\": {\"colorbar\": {\"outlinewidth\": 0, \"ticks\": \"\"}}, \"type\": \"scatterternary\"}], \"surface\": [{\"colorbar\": {\"outlinewidth\": 0, \"ticks\": \"\"}, \"colorscale\": [[0.0, \"#0d0887\"], [0.1111111111111111, \"#46039f\"], [0.2222222222222222, \"#7201a8\"], [0.3333333333333333, \"#9c179e\"], [0.4444444444444444, \"#bd3786\"], [0.5555555555555556, \"#d8576b\"], [0.6666666666666666, \"#ed7953\"], [0.7777777777777778, \"#fb9f3a\"], [0.8888888888888888, \"#fdca26\"], [1.0, \"#f0f921\"]], \"type\": \"surface\"}], \"table\": [{\"cells\": {\"fill\": {\"color\": \"#EBF0F8\"}, \"line\": {\"color\": \"white\"}}, \"header\": {\"fill\": {\"color\": \"#C8D4E3\"}, \"line\": {\"color\": \"white\"}}, \"type\": \"table\"}]}, \"layout\": {\"annotationdefaults\": {\"arrowcolor\": \"#2a3f5f\", \"arrowhead\": 0, \"arrowwidth\": 1}, \"autotypenumbers\": \"strict\", \"coloraxis\": {\"colorbar\": {\"outlinewidth\": 0, \"ticks\": \"\"}}, \"colorscale\": {\"diverging\": [[0, \"#8e0152\"], [0.1, \"#c51b7d\"], [0.2, \"#de77ae\"], [0.3, \"#f1b6da\"], [0.4, \"#fde0ef\"], [0.5, \"#f7f7f7\"], [0.6, \"#e6f5d0\"], [0.7, \"#b8e186\"], [0.8, \"#7fbc41\"], [0.9, \"#4d9221\"], [1, \"#276419\"]], \"sequential\": [[0.0, \"#0d0887\"], [0.1111111111111111, \"#46039f\"], [0.2222222222222222, \"#7201a8\"], [0.3333333333333333, \"#9c179e\"], [0.4444444444444444, \"#bd3786\"], [0.5555555555555556, \"#d8576b\"], [0.6666666666666666, \"#ed7953\"], [0.7777777777777778, \"#fb9f3a\"], [0.8888888888888888, \"#fdca26\"], [1.0, \"#f0f921\"]], \"sequentialminus\": [[0.0, \"#0d0887\"], [0.1111111111111111, \"#46039f\"], [0.2222222222222222, \"#7201a8\"], [0.3333333333333333, \"#9c179e\"], [0.4444444444444444, \"#bd3786\"], [0.5555555555555556, \"#d8576b\"], [0.6666666666666666, \"#ed7953\"], [0.7777777777777778, \"#fb9f3a\"], [0.8888888888888888, \"#fdca26\"], [1.0, \"#f0f921\"]]}, \"colorway\": [\"#636efa\", \"#EF553B\", \"#00cc96\", \"#ab63fa\", \"#FFA15A\", \"#19d3f3\", \"#FF6692\", \"#B6E880\", \"#FF97FF\", \"#FECB52\"], \"font\": {\"color\": \"#2a3f5f\"}, \"geo\": {\"bgcolor\": \"white\", \"lakecolor\": \"white\", \"landcolor\": \"#E5ECF6\", \"showlakes\": true, \"showland\": true, \"subunitcolor\": \"white\"}, \"hoverlabel\": {\"align\": \"left\"}, \"hovermode\": \"closest\", \"mapbox\": {\"style\": \"light\"}, \"paper_bgcolor\": \"white\", \"plot_bgcolor\": \"#E5ECF6\", \"polar\": {\"angularaxis\": {\"gridcolor\": \"white\", \"linecolor\": \"white\", \"ticks\": \"\"}, \"bgcolor\": \"#E5ECF6\", \"radialaxis\": {\"gridcolor\": \"white\", \"linecolor\": \"white\", \"ticks\": \"\"}}, \"scene\": {\"xaxis\": {\"backgroundcolor\": \"#E5ECF6\", \"gridcolor\": \"white\", \"gridwidth\": 2, \"linecolor\": \"white\", \"showbackground\": true, \"ticks\": \"\", \"zerolinecolor\": \"white\"}, \"yaxis\": {\"backgroundcolor\": \"#E5ECF6\", \"gridcolor\": \"white\", \"gridwidth\": 2, \"linecolor\": \"white\", \"showbackground\": true, \"ticks\": \"\", \"zerolinecolor\": \"white\"}, \"zaxis\": {\"backgroundcolor\": \"#E5ECF6\", \"gridcolor\": \"white\", \"gridwidth\": 2, \"linecolor\": \"white\", \"showbackground\": true, \"ticks\": \"\", \"zerolinecolor\": \"white\"}}, \"shapedefaults\": {\"line\": {\"color\": \"#2a3f5f\"}}, \"ternary\": {\"aaxis\": {\"gridcolor\": \"white\", \"linecolor\": \"white\", \"ticks\": \"\"}, \"baxis\": {\"gridcolor\": \"white\", \"linecolor\": \"white\", \"ticks\": \"\"}, \"bgcolor\": \"#E5ECF6\", \"caxis\": {\"gridcolor\": \"white\", \"linecolor\": \"white\", \"ticks\": \"\"}}, \"title\": {\"x\": 0.05}, \"xaxis\": {\"automargin\": true, \"gridcolor\": \"white\", \"linecolor\": \"white\", \"ticks\": \"\", \"title\": {\"standoff\": 15}, \"zerolinecolor\": \"white\", \"zerolinewidth\": 2}, \"yaxis\": {\"automargin\": true, \"gridcolor\": \"white\", \"linecolor\": \"white\", \"ticks\": \"\", \"title\": {\"standoff\": 15}, \"zerolinecolor\": \"white\", \"zerolinewidth\": 2}}}, \"xaxis\": {\"anchor\": \"y\", \"domain\": [0.0, 1.0], \"title\": {\"text\": \"Date\"}}, \"yaxis\": {\"anchor\": \"x\", \"domain\": [0.0, 1.0], \"title\": {\"text\": \"value\"}}},                        {\"responsive\": true}                    ).then(function(){\n",
       "                            \n",
       "var gd = document.getElementById('675bfee8-f026-4ea0-9d25-c485ef60b925');\n",
       "var x = new MutationObserver(function (mutations, observer) {{\n",
       "        var display = window.getComputedStyle(gd).display;\n",
       "        if (!display || display === 'none') {{\n",
       "            console.log([gd, 'removed!']);\n",
       "            Plotly.purge(gd);\n",
       "            observer.disconnect();\n",
       "        }}\n",
       "}});\n",
       "\n",
       "// Listen for the removal of the full notebook cells\n",
       "var notebookContainer = gd.closest('#notebook-container');\n",
       "if (notebookContainer) {{\n",
       "    x.observe(notebookContainer, {childList: true});\n",
       "}}\n",
       "\n",
       "// Listen for the clearing of the current output cell\n",
       "var outputEl = gd.closest('.output');\n",
       "if (outputEl) {{\n",
       "    x.observe(outputEl, {childList: true});\n",
       "}}\n",
       "\n",
       "                        })                };                });            </script>        </div>"
      ]
     },
     "metadata": {},
     "output_type": "display_data"
    }
   ],
   "source": [
    "px.line(train, y=['T','del_T'])"
   ]
  },
  {
   "cell_type": "code",
   "execution_count": 142,
   "id": "flexible-agriculture",
   "metadata": {},
   "outputs": [],
   "source": [
    "rng = [pd.Timestamp(\"2012-01-01\"),\n",
    "       pd.Timestamp(\"2012-01-02\"),\n",
    "       pd.Timestamp(\"2012-01-03\")]"
   ]
  },
  {
   "cell_type": "code",
   "execution_count": 144,
   "id": "dramatic-shape",
   "metadata": {},
   "outputs": [],
   "source": [
    "ts = pd.Series(range(len(rng)), index=rng)"
   ]
  },
  {
   "cell_type": "code",
   "execution_count": 145,
   "id": "neither-provider",
   "metadata": {},
   "outputs": [
    {
     "data": {
      "text/plain": [
       "2012-01-01    0\n",
       "2012-01-02    1\n",
       "2012-01-03    2\n",
       "dtype: int64"
      ]
     },
     "execution_count": 145,
     "metadata": {},
     "output_type": "execute_result"
    }
   ],
   "source": [
    "ts"
   ]
  },
  {
   "cell_type": "code",
   "execution_count": 147,
   "id": "official-compensation",
   "metadata": {},
   "outputs": [
    {
     "data": {
      "text/plain": [
       "2012-01-01    1.0\n",
       "2012-01-02    2.0\n",
       "2012-01-03    NaN\n",
       "dtype: float64"
      ]
     },
     "execution_count": 147,
     "metadata": {},
     "output_type": "execute_result"
    }
   ],
   "source": [
    "ts.shift(-1)"
   ]
  },
  {
   "cell_type": "code",
   "execution_count": 150,
   "id": "communist-statement",
   "metadata": {},
   "outputs": [
    {
     "data": {
      "text/plain": [
       "2012-01-06    0\n",
       "2012-01-07    1\n",
       "2012-01-08    2\n",
       "dtype: int64"
      ]
     },
     "execution_count": 150,
     "metadata": {},
     "output_type": "execute_result"
    }
   ],
   "source": [
    "ts.shift(5, freq=\"D\")"
   ]
  },
  {
   "cell_type": "code",
   "execution_count": 151,
   "id": "split-arkansas",
   "metadata": {},
   "outputs": [],
   "source": [
    "## Frequency Conversion "
   ]
  },
  {
   "cell_type": "code",
   "execution_count": 152,
   "id": "future-bracelet",
   "metadata": {},
   "outputs": [],
   "source": [
    "dr = pd.date_range(\"1/1/2010\", periods=3, freq=3 * pd.offsets.BDay())"
   ]
  },
  {
   "cell_type": "code",
   "execution_count": 153,
   "id": "legal-organizer",
   "metadata": {},
   "outputs": [
    {
     "data": {
      "text/plain": [
       "DatetimeIndex(['2010-01-01', '2010-01-06', '2010-01-11'], dtype='datetime64[ns]', freq='3B')"
      ]
     },
     "execution_count": 153,
     "metadata": {},
     "output_type": "execute_result"
    }
   ],
   "source": [
    "dr"
   ]
  },
  {
   "cell_type": "code",
   "execution_count": 155,
   "id": "textile-possible",
   "metadata": {},
   "outputs": [],
   "source": [
    "ts = pd.Series(np.random.randn(3), index=dr)"
   ]
  },
  {
   "cell_type": "code",
   "execution_count": 156,
   "id": "married-alfred",
   "metadata": {},
   "outputs": [
    {
     "data": {
      "text/plain": [
       "2010-01-01    0.414903\n",
       "2010-01-06   -0.177851\n",
       "2010-01-11    0.133315\n",
       "Freq: 3B, dtype: float64"
      ]
     },
     "execution_count": 156,
     "metadata": {},
     "output_type": "execute_result"
    }
   ],
   "source": [
    "ts"
   ]
  },
  {
   "cell_type": "code",
   "execution_count": 157,
   "id": "configured-reporter",
   "metadata": {},
   "outputs": [
    {
     "data": {
      "text/plain": [
       "<BusinessDay>"
      ]
     },
     "execution_count": 157,
     "metadata": {},
     "output_type": "execute_result"
    }
   ],
   "source": [
    "pd.offsets.BDay()"
   ]
  },
  {
   "cell_type": "code",
   "execution_count": 161,
   "id": "endless-edwards",
   "metadata": {},
   "outputs": [
    {
     "data": {
      "text/plain": [
       "2010-01-01    0.414903\n",
       "2010-01-04         NaN\n",
       "2010-01-05         NaN\n",
       "2010-01-06   -0.177851\n",
       "2010-01-07         NaN\n",
       "2010-01-08         NaN\n",
       "2010-01-11    0.133315\n",
       "Freq: B, dtype: float64"
      ]
     },
     "execution_count": 161,
     "metadata": {},
     "output_type": "execute_result"
    }
   ],
   "source": [
    "ts.asfreq(pd.offsets.BDay())"
   ]
  },
  {
   "cell_type": "code",
   "execution_count": 162,
   "id": "rubber-mathematics",
   "metadata": {},
   "outputs": [
    {
     "data": {
      "text/plain": [
       "2010-01-01    0.414903\n",
       "2010-01-03    0.414903\n",
       "2010-01-05    0.414903\n",
       "2010-01-07   -0.177851\n",
       "2010-01-09   -0.177851\n",
       "2010-01-11    0.133315\n",
       "Freq: 2D, dtype: float64"
      ]
     },
     "execution_count": 162,
     "metadata": {},
     "output_type": "execute_result"
    }
   ],
   "source": [
    "# We can also fill up upsampled values\n",
    "ts.asfreq(\"2D\", method=\"pad\")"
   ]
  },
  {
   "cell_type": "markdown",
   "id": "political-expense",
   "metadata": {},
   "source": [
    "**Resample**\n",
    "\n",
    "This is used for converting say, secondly data into 5-minutely data\n",
    "\n",
    "In a Nutshell\n",
    "\n",
    "1. `resample()` is time-based groupby, then followed by reduction method on each of it's groups"
   ]
  },
  {
   "cell_type": "code",
   "execution_count": 163,
   "id": "requested-enlargement",
   "metadata": {},
   "outputs": [],
   "source": [
    "# Basics # "
   ]
  },
  {
   "cell_type": "code",
   "execution_count": 166,
   "id": "given-malawi",
   "metadata": {},
   "outputs": [],
   "source": [
    "rng = pd.date_range(\"1/1/2012\", periods=100, freq=\"1S\")"
   ]
  },
  {
   "cell_type": "code",
   "execution_count": 169,
   "id": "white-japanese",
   "metadata": {},
   "outputs": [],
   "source": [
    "ts = pd.Series(np.random.randint(0,500,len(rng)), index=rng)"
   ]
  },
  {
   "cell_type": "code",
   "execution_count": 172,
   "id": "arabic-directory",
   "metadata": {},
   "outputs": [
    {
     "data": {
      "text/plain": [
       "2012-01-01 00:00:00    321.75\n",
       "2012-01-01 00:00:04     50.50\n",
       "2012-01-01 00:00:08    194.00\n",
       "2012-01-01 00:00:12    359.25\n",
       "2012-01-01 00:00:16    231.25\n",
       "2012-01-01 00:00:20    305.50\n",
       "2012-01-01 00:00:24    224.75\n",
       "2012-01-01 00:00:28    262.00\n",
       "2012-01-01 00:00:32    114.25\n",
       "2012-01-01 00:00:36    188.00\n",
       "2012-01-01 00:00:40    228.00\n",
       "2012-01-01 00:00:44    311.25\n",
       "2012-01-01 00:00:48    176.75\n",
       "2012-01-01 00:00:52    171.25\n",
       "2012-01-01 00:00:56    244.00\n",
       "2012-01-01 00:01:00    360.25\n",
       "2012-01-01 00:01:04    173.00\n",
       "2012-01-01 00:01:08    194.00\n",
       "2012-01-01 00:01:12    241.75\n",
       "2012-01-01 00:01:16    215.00\n",
       "2012-01-01 00:01:20    316.25\n",
       "2012-01-01 00:01:24    265.50\n",
       "2012-01-01 00:01:28    267.50\n",
       "2012-01-01 00:01:32    330.25\n",
       "2012-01-01 00:01:36    292.50\n",
       "Freq: 4S, dtype: float64"
      ]
     },
     "execution_count": 172,
     "metadata": {},
     "output_type": "execute_result"
    }
   ],
   "source": [
    "ts.resample(\"4s\").mean()"
   ]
  },
  {
   "cell_type": "code",
   "execution_count": 175,
   "id": "decreased-breathing",
   "metadata": {},
   "outputs": [
    {
     "data": {
      "text/plain": [
       "2011-12-31 23:55:00    167.000000\n",
       "2012-01-01 00:00:00    242.292929\n",
       "Freq: 5T, dtype: float64"
      ]
     },
     "execution_count": 175,
     "metadata": {},
     "output_type": "execute_result"
    }
   ],
   "source": [
    "ts.resample('5min', closed='right').mean()"
   ]
  },
  {
   "cell_type": "code",
   "execution_count": 177,
   "id": "patent-newsletter",
   "metadata": {},
   "outputs": [
    {
     "data": {
      "text/plain": [
       "{Timestamp('2011-12-31 23:55:00', freq='5T'): 1,\n",
       " Timestamp('2012-01-01 00:00:00', freq='5T'): 100}"
      ]
     },
     "execution_count": 177,
     "metadata": {},
     "output_type": "execute_result"
    }
   ],
   "source": [
    "ts.resample('5min', closed='right').groups"
   ]
  },
  {
   "cell_type": "code",
   "execution_count": 181,
   "id": "proof-guest",
   "metadata": {},
   "outputs": [
    {
     "data": {
      "text/plain": [
       "2012-01-01    167\n",
       "Freq: S, dtype: int64"
      ]
     },
     "execution_count": 181,
     "metadata": {},
     "output_type": "execute_result"
    }
   ],
   "source": [
    "ts.truncate(after='2012-01-01 00:00:00')"
   ]
  },
  {
   "cell_type": "code",
   "execution_count": 182,
   "id": "loaded-holiday",
   "metadata": {},
   "outputs": [],
   "source": [
    "## Upsampling ##"
   ]
  },
  {
   "cell_type": "code",
   "execution_count": 183,
   "id": "listed-walter",
   "metadata": {},
   "outputs": [
    {
     "data": {
      "text/plain": [
       "2012-01-01 00:00:00.000    167.0\n",
       "2012-01-01 00:00:00.250      NaN\n",
       "2012-01-01 00:00:00.500      NaN\n",
       "2012-01-01 00:00:00.750      NaN\n",
       "2012-01-01 00:00:01.000    160.0\n",
       "Freq: 250L, dtype: float64"
      ]
     },
     "execution_count": 183,
     "metadata": {},
     "output_type": "execute_result"
    }
   ],
   "source": [
    "ts[:2].resample(\"250L\").asfreq()"
   ]
  },
  {
   "cell_type": "code",
   "execution_count": 184,
   "id": "coordinated-question",
   "metadata": {},
   "outputs": [
    {
     "data": {
      "text/plain": [
       "2012-01-01 00:00:00.000    167.0\n",
       "2012-01-01 00:00:00.250    167.0\n",
       "2012-01-01 00:00:00.500    167.0\n",
       "2012-01-01 00:00:00.750      NaN\n",
       "2012-01-01 00:00:01.000    160.0\n",
       "Freq: 250L, dtype: float64"
      ]
     },
     "execution_count": 184,
     "metadata": {},
     "output_type": "execute_result"
    }
   ],
   "source": [
    "ts[:2].resample(\"250L\").ffill(limit=2)"
   ]
  },
  {
   "cell_type": "code",
   "execution_count": 185,
   "id": "hundred-programmer",
   "metadata": {},
   "outputs": [],
   "source": [
    "## Sparse Resampling ##"
   ]
  },
  {
   "cell_type": "code",
   "execution_count": 186,
   "id": "massive-equivalent",
   "metadata": {},
   "outputs": [],
   "source": [
    "rng = pd.date_range(\"2014-1-1\", periods=100, freq=\"D\") + pd.Timedelta(\"1s\")"
   ]
  },
  {
   "cell_type": "code",
   "execution_count": 188,
   "id": "smoking-november",
   "metadata": {},
   "outputs": [],
   "source": [
    "ts = pd.Series(range(100),index=rng)"
   ]
  },
  {
   "cell_type": "code",
   "execution_count": 190,
   "id": "interesting-region",
   "metadata": {},
   "outputs": [
    {
     "data": {
      "text/plain": [
       "2014-01-01 00:00:01     0\n",
       "2014-01-02 00:00:01     1\n",
       "2014-01-03 00:00:01     2\n",
       "2014-01-04 00:00:01     3\n",
       "2014-01-05 00:00:01     4\n",
       "                       ..\n",
       "2014-04-06 00:00:01    95\n",
       "2014-04-07 00:00:01    96\n",
       "2014-04-08 00:00:01    97\n",
       "2014-04-09 00:00:01    98\n",
       "2014-04-10 00:00:01    99\n",
       "Freq: D, Length: 100, dtype: int64"
      ]
     },
     "execution_count": 190,
     "metadata": {},
     "output_type": "execute_result"
    }
   ],
   "source": [
    "ts"
   ]
  },
  {
   "cell_type": "code",
   "execution_count": 189,
   "id": "polar-hydrogen",
   "metadata": {},
   "outputs": [
    {
     "data": {
      "text/plain": [
       "2014-01-01 00:00:00     0\n",
       "2014-01-01 00:03:00     0\n",
       "2014-01-01 00:06:00     0\n",
       "2014-01-01 00:09:00     0\n",
       "2014-01-01 00:12:00     0\n",
       "                       ..\n",
       "2014-04-09 23:48:00     0\n",
       "2014-04-09 23:51:00     0\n",
       "2014-04-09 23:54:00     0\n",
       "2014-04-09 23:57:00     0\n",
       "2014-04-10 00:00:00    99\n",
       "Freq: 3T, Length: 47521, dtype: int64"
      ]
     },
     "execution_count": 189,
     "metadata": {},
     "output_type": "execute_result"
    }
   ],
   "source": [
    "ts.resample(\"3T\").sum()"
   ]
  },
  {
   "cell_type": "code",
   "execution_count": 193,
   "id": "guilty-kentucky",
   "metadata": {},
   "outputs": [
    {
     "data": {
      "text/plain": [
       "Series([], Freq: D, dtype: int64)"
      ]
     },
     "execution_count": 193,
     "metadata": {},
     "output_type": "execute_result"
    }
   ],
   "source": [
    "ts.loc['2014-01-03 01:39']"
   ]
  },
  {
   "cell_type": "code",
   "execution_count": 195,
   "id": "latest-laptop",
   "metadata": {},
   "outputs": [],
   "source": [
    "from functools import partial\n",
    "from pandas.tseries.frequencies import to_offset"
   ]
  },
  {
   "cell_type": "code",
   "execution_count": 197,
   "id": "general-catalog",
   "metadata": {},
   "outputs": [],
   "source": [
    "def round(t, freq):\n",
    "    freq = to_offset(freq)\n",
    "    return pd.Timestamp((t.value // freq.delta.value ) * freq.delta.value)"
   ]
  },
  {
   "cell_type": "code",
   "execution_count": 198,
   "id": "strange-safety",
   "metadata": {},
   "outputs": [
    {
     "data": {
      "text/plain": [
       "2014-01-01     0\n",
       "2014-01-02     1\n",
       "2014-01-03     2\n",
       "2014-01-04     3\n",
       "2014-01-05     4\n",
       "              ..\n",
       "2014-04-06    95\n",
       "2014-04-07    96\n",
       "2014-04-08    97\n",
       "2014-04-09    98\n",
       "2014-04-10    99\n",
       "Length: 100, dtype: int64"
      ]
     },
     "execution_count": 198,
     "metadata": {},
     "output_type": "execute_result"
    }
   ],
   "source": [
    "ts.groupby(partial(round, freq=\"3T\")).sum()"
   ]
  },
  {
   "cell_type": "markdown",
   "id": "proved-income",
   "metadata": {},
   "source": [
    "## Aggregation "
   ]
  },
  {
   "cell_type": "code",
   "execution_count": 199,
   "id": "damaged-competition",
   "metadata": {},
   "outputs": [],
   "source": [
    "df = pd.DataFrame(np.random.randn(1000, 3),\n",
    "                  index=pd.date_range(\"1/1/2012\", freq=\"S\", periods=1000),\n",
    "                  columns=[\"A\",\"B\",\"C\"])"
   ]
  },
  {
   "cell_type": "code",
   "execution_count": 202,
   "id": "cardiovascular-romantic",
   "metadata": {},
   "outputs": [],
   "source": [
    "r = df.resample(\"3T\")"
   ]
  },
  {
   "cell_type": "code",
   "execution_count": 206,
   "id": "banned-greeting",
   "metadata": {},
   "outputs": [
    {
     "data": {
      "text/html": [
       "<div>\n",
       "<style scoped>\n",
       "    .dataframe tbody tr th:only-of-type {\n",
       "        vertical-align: middle;\n",
       "    }\n",
       "\n",
       "    .dataframe tbody tr th {\n",
       "        vertical-align: top;\n",
       "    }\n",
       "\n",
       "    .dataframe thead th {\n",
       "        text-align: right;\n",
       "    }\n",
       "</style>\n",
       "<table border=\"1\" class=\"dataframe\">\n",
       "  <thead>\n",
       "    <tr style=\"text-align: right;\">\n",
       "      <th></th>\n",
       "      <th>sum</th>\n",
       "      <th>mean</th>\n",
       "      <th>std</th>\n",
       "    </tr>\n",
       "  </thead>\n",
       "  <tbody>\n",
       "    <tr>\n",
       "      <th>2012-01-01 00:00:00</th>\n",
       "      <td>1.665910</td>\n",
       "      <td>0.009255</td>\n",
       "      <td>1.084272</td>\n",
       "    </tr>\n",
       "    <tr>\n",
       "      <th>2012-01-01 00:03:00</th>\n",
       "      <td>-20.807822</td>\n",
       "      <td>-0.115599</td>\n",
       "      <td>0.948541</td>\n",
       "    </tr>\n",
       "    <tr>\n",
       "      <th>2012-01-01 00:06:00</th>\n",
       "      <td>8.198445</td>\n",
       "      <td>0.045547</td>\n",
       "      <td>1.028515</td>\n",
       "    </tr>\n",
       "    <tr>\n",
       "      <th>2012-01-01 00:09:00</th>\n",
       "      <td>1.640726</td>\n",
       "      <td>0.009115</td>\n",
       "      <td>1.043631</td>\n",
       "    </tr>\n",
       "    <tr>\n",
       "      <th>2012-01-01 00:12:00</th>\n",
       "      <td>-9.063804</td>\n",
       "      <td>-0.050354</td>\n",
       "      <td>1.024056</td>\n",
       "    </tr>\n",
       "    <tr>\n",
       "      <th>2012-01-01 00:15:00</th>\n",
       "      <td>21.541166</td>\n",
       "      <td>0.215412</td>\n",
       "      <td>1.086177</td>\n",
       "    </tr>\n",
       "  </tbody>\n",
       "</table>\n",
       "</div>"
      ],
      "text/plain": [
       "                           sum      mean       std\n",
       "2012-01-01 00:00:00   1.665910  0.009255  1.084272\n",
       "2012-01-01 00:03:00 -20.807822 -0.115599  0.948541\n",
       "2012-01-01 00:06:00   8.198445  0.045547  1.028515\n",
       "2012-01-01 00:09:00   1.640726  0.009115  1.043631\n",
       "2012-01-01 00:12:00  -9.063804 -0.050354  1.024056\n",
       "2012-01-01 00:15:00  21.541166  0.215412  1.086177"
      ]
     },
     "execution_count": 206,
     "metadata": {},
     "output_type": "execute_result"
    }
   ],
   "source": [
    "r[\"A\"].agg([np.sum, np.mean, np.std])"
   ]
  },
  {
   "cell_type": "code",
   "execution_count": 207,
   "id": "vocal-sampling",
   "metadata": {},
   "outputs": [
    {
     "data": {
      "text/html": [
       "<div>\n",
       "<style scoped>\n",
       "    .dataframe tbody tr th:only-of-type {\n",
       "        vertical-align: middle;\n",
       "    }\n",
       "\n",
       "    .dataframe tbody tr th {\n",
       "        vertical-align: top;\n",
       "    }\n",
       "\n",
       "    .dataframe thead th {\n",
       "        text-align: right;\n",
       "    }\n",
       "</style>\n",
       "<table border=\"1\" class=\"dataframe\">\n",
       "  <thead>\n",
       "    <tr style=\"text-align: right;\">\n",
       "      <th></th>\n",
       "      <th>A</th>\n",
       "      <th>B</th>\n",
       "    </tr>\n",
       "  </thead>\n",
       "  <tbody>\n",
       "    <tr>\n",
       "      <th>2012-01-01 00:00:00</th>\n",
       "      <td>1.665910</td>\n",
       "      <td>0.953548</td>\n",
       "    </tr>\n",
       "    <tr>\n",
       "      <th>2012-01-01 00:03:00</th>\n",
       "      <td>-20.807822</td>\n",
       "      <td>0.932378</td>\n",
       "    </tr>\n",
       "    <tr>\n",
       "      <th>2012-01-01 00:06:00</th>\n",
       "      <td>8.198445</td>\n",
       "      <td>1.103660</td>\n",
       "    </tr>\n",
       "    <tr>\n",
       "      <th>2012-01-01 00:09:00</th>\n",
       "      <td>1.640726</td>\n",
       "      <td>0.945416</td>\n",
       "    </tr>\n",
       "    <tr>\n",
       "      <th>2012-01-01 00:12:00</th>\n",
       "      <td>-9.063804</td>\n",
       "      <td>0.976142</td>\n",
       "    </tr>\n",
       "    <tr>\n",
       "      <th>2012-01-01 00:15:00</th>\n",
       "      <td>21.541166</td>\n",
       "      <td>1.101913</td>\n",
       "    </tr>\n",
       "  </tbody>\n",
       "</table>\n",
       "</div>"
      ],
      "text/plain": [
       "                             A         B\n",
       "2012-01-01 00:00:00   1.665910  0.953548\n",
       "2012-01-01 00:03:00 -20.807822  0.932378\n",
       "2012-01-01 00:06:00   8.198445  1.103660\n",
       "2012-01-01 00:09:00   1.640726  0.945416\n",
       "2012-01-01 00:12:00  -9.063804  0.976142\n",
       "2012-01-01 00:15:00  21.541166  1.101913"
      ]
     },
     "execution_count": 207,
     "metadata": {},
     "output_type": "execute_result"
    }
   ],
   "source": [
    "r.agg({\"A\": np.sum,\n",
    "       \"B\": lambda x: np.std(x, ddof=1)})"
   ]
  },
  {
   "cell_type": "code",
   "execution_count": 208,
   "id": "dirty-payroll",
   "metadata": {},
   "outputs": [],
   "source": [
    "df = pd.DataFrame(\n",
    "\n",
    "    {\"date\": pd.date_range(\"2015-01-01\", freq=\"W\", periods=5), \"a\": np.arange(5)},\n",
    "\n",
    "    index=pd.MultiIndex.from_arrays(\n",
    "\n",
    "        [[1, 2, 3, 4, 5], pd.date_range(\"2015-01-01\", freq=\"W\", periods=5)],\n",
    "\n",
    "        names=[\"v\", \"d\"],\n",
    "\n",
    "    ),\n",
    "\n",
    ")"
   ]
  },
  {
   "cell_type": "code",
   "execution_count": 209,
   "id": "minus-password",
   "metadata": {},
   "outputs": [
    {
     "data": {
      "text/html": [
       "<div>\n",
       "<style scoped>\n",
       "    .dataframe tbody tr th:only-of-type {\n",
       "        vertical-align: middle;\n",
       "    }\n",
       "\n",
       "    .dataframe tbody tr th {\n",
       "        vertical-align: top;\n",
       "    }\n",
       "\n",
       "    .dataframe thead th {\n",
       "        text-align: right;\n",
       "    }\n",
       "</style>\n",
       "<table border=\"1\" class=\"dataframe\">\n",
       "  <thead>\n",
       "    <tr style=\"text-align: right;\">\n",
       "      <th></th>\n",
       "      <th></th>\n",
       "      <th>date</th>\n",
       "      <th>a</th>\n",
       "    </tr>\n",
       "    <tr>\n",
       "      <th>v</th>\n",
       "      <th>d</th>\n",
       "      <th></th>\n",
       "      <th></th>\n",
       "    </tr>\n",
       "  </thead>\n",
       "  <tbody>\n",
       "    <tr>\n",
       "      <th>1</th>\n",
       "      <th>2015-01-04</th>\n",
       "      <td>2015-01-04</td>\n",
       "      <td>0</td>\n",
       "    </tr>\n",
       "    <tr>\n",
       "      <th>2</th>\n",
       "      <th>2015-01-11</th>\n",
       "      <td>2015-01-11</td>\n",
       "      <td>1</td>\n",
       "    </tr>\n",
       "    <tr>\n",
       "      <th>3</th>\n",
       "      <th>2015-01-18</th>\n",
       "      <td>2015-01-18</td>\n",
       "      <td>2</td>\n",
       "    </tr>\n",
       "    <tr>\n",
       "      <th>4</th>\n",
       "      <th>2015-01-25</th>\n",
       "      <td>2015-01-25</td>\n",
       "      <td>3</td>\n",
       "    </tr>\n",
       "    <tr>\n",
       "      <th>5</th>\n",
       "      <th>2015-02-01</th>\n",
       "      <td>2015-02-01</td>\n",
       "      <td>4</td>\n",
       "    </tr>\n",
       "  </tbody>\n",
       "</table>\n",
       "</div>"
      ],
      "text/plain": [
       "                   date  a\n",
       "v d                       \n",
       "1 2015-01-04 2015-01-04  0\n",
       "2 2015-01-11 2015-01-11  1\n",
       "3 2015-01-18 2015-01-18  2\n",
       "4 2015-01-25 2015-01-25  3\n",
       "5 2015-02-01 2015-02-01  4"
      ]
     },
     "execution_count": 209,
     "metadata": {},
     "output_type": "execute_result"
    }
   ],
   "source": [
    "df"
   ]
  },
  {
   "cell_type": "code",
   "execution_count": 210,
   "id": "atlantic-boulder",
   "metadata": {},
   "outputs": [
    {
     "data": {
      "text/html": [
       "<div>\n",
       "<style scoped>\n",
       "    .dataframe tbody tr th:only-of-type {\n",
       "        vertical-align: middle;\n",
       "    }\n",
       "\n",
       "    .dataframe tbody tr th {\n",
       "        vertical-align: top;\n",
       "    }\n",
       "\n",
       "    .dataframe thead th {\n",
       "        text-align: right;\n",
       "    }\n",
       "</style>\n",
       "<table border=\"1\" class=\"dataframe\">\n",
       "  <thead>\n",
       "    <tr style=\"text-align: right;\">\n",
       "      <th></th>\n",
       "      <th>a</th>\n",
       "    </tr>\n",
       "    <tr>\n",
       "      <th>date</th>\n",
       "      <th></th>\n",
       "    </tr>\n",
       "  </thead>\n",
       "  <tbody>\n",
       "    <tr>\n",
       "      <th>2015-01-31</th>\n",
       "      <td>6</td>\n",
       "    </tr>\n",
       "    <tr>\n",
       "      <th>2015-02-28</th>\n",
       "      <td>4</td>\n",
       "    </tr>\n",
       "  </tbody>\n",
       "</table>\n",
       "</div>"
      ],
      "text/plain": [
       "            a\n",
       "date         \n",
       "2015-01-31  6\n",
       "2015-02-28  4"
      ]
     },
     "execution_count": 210,
     "metadata": {},
     "output_type": "execute_result"
    }
   ],
   "source": [
    "df.resample(\"M\", on=\"date\").sum()"
   ]
  },
  {
   "cell_type": "code",
   "execution_count": 217,
   "id": "bacterial-composite",
   "metadata": {},
   "outputs": [],
   "source": [
    "ind = pd.IndexSlice"
   ]
  },
  {
   "cell_type": "code",
   "execution_count": 218,
   "id": "monetary-century",
   "metadata": {},
   "outputs": [
    {
     "data": {
      "text/plain": [
       "date    2015-01-04 00:00:00\n",
       "a                         0\n",
       "Name: (1, 2015-01-04 00:00:00), dtype: object"
      ]
     },
     "execution_count": 218,
     "metadata": {},
     "output_type": "execute_result"
    }
   ],
   "source": [
    "df.loc[ind[1, \"2015-01-04\"]]"
   ]
  },
  {
   "cell_type": "markdown",
   "id": "timely-landscape",
   "metadata": {},
   "source": [
    "## Iterating through groups\n",
    "\n",
    "**Looping**\n",
    "With the `Resampler` object, we can iterate through the grouped data\n",
    "\n",
    "```\n",
    "for name, group in resampled:\n",
    "    print(\"Group: \", name)\n",
    "    print(\"-\" * 27)\n",
    "    print(group, end=\"\\n\\n\")\n",
    "\n",
    "```"
   ]
  },
  {
   "cell_type": "code",
   "execution_count": 219,
   "id": "regulated-chrome",
   "metadata": {},
   "outputs": [],
   "source": [
    "date_l = [\"2017-01-01T00:00:00\",\"2017-01-01T00:30:00\",\n",
    "          \"2017-01-01T00:31:00\",\"2017-01-01T01:00:00\",\n",
    "          \"2017-01-01T03:00:00\",\"2017-01-01T03:05:00\",]\n",
    "small = pd.Series(range(6),\n",
    "                  index=pd.to_datetime(date_l))"
   ]
  },
  {
   "cell_type": "code",
   "execution_count": 222,
   "id": "neither-tsunami",
   "metadata": {},
   "outputs": [],
   "source": [
    "resampled = small.resample(\"H\")"
   ]
  },
  {
   "cell_type": "code",
   "execution_count": 224,
   "id": "metric-consumption",
   "metadata": {},
   "outputs": [
    {
     "name": "stdout",
     "output_type": "stream",
     "text": [
      "Group:  2017-01-01 00:00:00\n",
      "---------------------------\n",
      "2017-01-01 00:00:00    0\n",
      "2017-01-01 00:30:00    1\n",
      "2017-01-01 00:31:00    2\n",
      "dtype: int64\n",
      "\n",
      "Group:  2017-01-01 01:00:00\n",
      "---------------------------\n",
      "2017-01-01 01:00:00    3\n",
      "dtype: int64\n",
      "\n",
      "Group:  2017-01-01 02:00:00\n",
      "---------------------------\n",
      "Series([], dtype: int64)\n",
      "\n",
      "Group:  2017-01-01 03:00:00\n",
      "---------------------------\n",
      "2017-01-01 03:00:00    4\n",
      "2017-01-01 03:05:00    5\n",
      "dtype: int64\n",
      "\n"
     ]
    }
   ],
   "source": [
    "for name, group in resampled:\n",
    "    print(\"Group: \", name)\n",
    "    print(\"-\" * 27)\n",
    "    print(group, end=\"\\n\\n\")"
   ]
  },
  {
   "cell_type": "code",
   "execution_count": 225,
   "id": "satellite-geology",
   "metadata": {},
   "outputs": [],
   "source": [
    "# Using origin or offset to adjust the start of the bins"
   ]
  },
  {
   "cell_type": "code",
   "execution_count": 226,
   "id": "million-casino",
   "metadata": {},
   "outputs": [],
   "source": [
    "start, end = \"2000-10-01 23:30:00\", \"2000-10-02 00:30:00\"\n",
    "middle = \"2000-10-02 00:00:00\""
   ]
  },
  {
   "cell_type": "code",
   "execution_count": 227,
   "id": "related-editor",
   "metadata": {},
   "outputs": [],
   "source": [
    "rng = pd.date_range(start, end, freq=\"7min\")"
   ]
  },
  {
   "cell_type": "code",
   "execution_count": 230,
   "id": "alien-adobe",
   "metadata": {},
   "outputs": [
    {
     "data": {
      "text/plain": [
       "DatetimeIndex(['2000-10-01 23:30:00', '2000-10-01 23:37:00',\n",
       "               '2000-10-01 23:44:00', '2000-10-01 23:51:00',\n",
       "               '2000-10-01 23:58:00', '2000-10-02 00:05:00',\n",
       "               '2000-10-02 00:12:00', '2000-10-02 00:19:00',\n",
       "               '2000-10-02 00:26:00'],\n",
       "              dtype='datetime64[ns]', freq='7T')"
      ]
     },
     "execution_count": 230,
     "metadata": {},
     "output_type": "execute_result"
    }
   ],
   "source": [
    "rng"
   ]
  },
  {
   "cell_type": "code",
   "execution_count": 228,
   "id": "french-sally",
   "metadata": {},
   "outputs": [],
   "source": [
    "ts = pd.Series(np.arange(len(rng)) * 3, index=rng)"
   ]
  },
  {
   "cell_type": "code",
   "execution_count": 229,
   "id": "undefined-ticket",
   "metadata": {},
   "outputs": [
    {
     "data": {
      "text/plain": [
       "2000-10-01 23:30:00     0\n",
       "2000-10-01 23:37:00     3\n",
       "2000-10-01 23:44:00     6\n",
       "2000-10-01 23:51:00     9\n",
       "2000-10-01 23:58:00    12\n",
       "2000-10-02 00:05:00    15\n",
       "2000-10-02 00:12:00    18\n",
       "2000-10-02 00:19:00    21\n",
       "2000-10-02 00:26:00    24\n",
       "Freq: 7T, dtype: int64"
      ]
     },
     "execution_count": 229,
     "metadata": {},
     "output_type": "execute_result"
    }
   ],
   "source": [
    "ts"
   ]
  },
  {
   "cell_type": "code",
   "execution_count": 231,
   "id": "judicial-clause",
   "metadata": {},
   "outputs": [
    {
     "data": {
      "text/plain": [
       "2000-10-01 23:14:00     0\n",
       "2000-10-01 23:31:00     9\n",
       "2000-10-01 23:48:00    21\n",
       "2000-10-02 00:05:00    54\n",
       "2000-10-02 00:22:00    24\n",
       "Freq: 17T, dtype: int64"
      ]
     },
     "execution_count": 231,
     "metadata": {},
     "output_type": "execute_result"
    }
   ],
   "source": [
    "# start_day is default origin\n",
    "ts.resample(\"17min\", origin=\"start_day\").sum()"
   ]
  },
  {
   "cell_type": "code",
   "execution_count": 232,
   "id": "southwest-coaching",
   "metadata": {},
   "outputs": [
    {
     "data": {
      "text/plain": [
       "2000-10-02 00:05:00    15\n",
       "2000-10-02 00:12:00    18\n",
       "2000-10-02 00:19:00    21\n",
       "2000-10-02 00:26:00    24\n",
       "Freq: 7T, dtype: int64"
      ]
     },
     "execution_count": 232,
     "metadata": {},
     "output_type": "execute_result"
    }
   ],
   "source": [
    "ts.loc[middle:end]"
   ]
  },
  {
   "cell_type": "code",
   "execution_count": 233,
   "id": "removed-direction",
   "metadata": {},
   "outputs": [
    {
     "data": {
      "text/plain": [
       "2000-10-02 00:00:00    33\n",
       "2000-10-02 00:17:00    45\n",
       "Freq: 17T, dtype: int64"
      ]
     },
     "execution_count": 233,
     "metadata": {},
     "output_type": "execute_result"
    }
   ],
   "source": [
    "ts.loc[middle:end].resample(\"17min\", origin=\"start_day\").sum()"
   ]
  },
  {
   "cell_type": "code",
   "execution_count": 234,
   "id": "textile-feeding",
   "metadata": {},
   "outputs": [
    {
     "data": {
      "text/plain": [
       "2000-10-01 23:18:00     0\n",
       "2000-10-01 23:35:00    18\n",
       "2000-10-01 23:52:00    27\n",
       "2000-10-02 00:09:00    39\n",
       "2000-10-02 00:26:00    24\n",
       "Freq: 17T, dtype: int64"
      ]
     },
     "execution_count": 234,
     "metadata": {},
     "output_type": "execute_result"
    }
   ],
   "source": [
    "# start_day is default origin\n",
    "ts.resample(\"17min\", origin=\"epoch\").sum()"
   ]
  },
  {
   "cell_type": "code",
   "execution_count": 235,
   "id": "heated-giant",
   "metadata": {},
   "outputs": [
    {
     "data": {
      "text/plain": [
       "2000-10-01 23:52:00    15\n",
       "2000-10-02 00:09:00    39\n",
       "2000-10-02 00:26:00    24\n",
       "Freq: 17T, dtype: int64"
      ]
     },
     "execution_count": 235,
     "metadata": {},
     "output_type": "execute_result"
    }
   ],
   "source": [
    "ts[middle:end].resample(\"17min\", origin=\"epoch\").sum()"
   ]
  },
  {
   "cell_type": "code",
   "execution_count": 237,
   "id": "intellectual-pulse",
   "metadata": {},
   "outputs": [
    {
     "data": {
      "text/plain": [
       "2000-10-02 00:05:00    15\n",
       "2000-10-02 00:12:00    18\n",
       "2000-10-02 00:19:00    21\n",
       "2000-10-02 00:26:00    24\n",
       "Freq: 7T, dtype: int64"
      ]
     },
     "execution_count": 237,
     "metadata": {},
     "output_type": "execute_result"
    }
   ],
   "source": [
    "ts[middle:end]"
   ]
  },
  {
   "cell_type": "code",
   "execution_count": 242,
   "id": "billion-subcommittee",
   "metadata": {},
   "outputs": [
    {
     "data": {
      "text/plain": [
       "2000-10-01 23:30:00     3\n",
       "2000-10-01 23:41:00    15\n",
       "2000-10-01 23:52:00    12\n",
       "2000-10-02 00:03:00    33\n",
       "2000-10-02 00:14:00    21\n",
       "2000-10-02 00:25:00    24\n",
       "Freq: 11T, dtype: int64"
      ]
     },
     "execution_count": 242,
     "metadata": {},
     "output_type": "execute_result"
    }
   ],
   "source": [
    "ts.resample(\"11min\", origin=\"2000-10-01 23:30:00\").sum()"
   ]
  },
  {
   "cell_type": "code",
   "execution_count": 239,
   "id": "auburn-potato",
   "metadata": {},
   "outputs": [
    {
     "data": {
      "text/plain": [
       "2000-10-01 23:30:00     0\n",
       "2000-10-01 23:37:00     3\n",
       "2000-10-01 23:44:00     6\n",
       "2000-10-01 23:51:00     9\n",
       "2000-10-01 23:58:00    12\n",
       "2000-10-02 00:05:00    15\n",
       "2000-10-02 00:12:00    18\n",
       "2000-10-02 00:19:00    21\n",
       "2000-10-02 00:26:00    24\n",
       "Freq: 7T, dtype: int64"
      ]
     },
     "execution_count": 239,
     "metadata": {},
     "output_type": "execute_result"
    }
   ],
   "source": [
    "ts"
   ]
  },
  {
   "cell_type": "code",
   "execution_count": 250,
   "id": "muslim-passion",
   "metadata": {},
   "outputs": [],
   "source": [
    "import pandas as pd\n",
    "index = pd.date_range('2013-1-1',periods=10,freq='15Min')\n",
    "data = pd.DataFrame(data=[1,2,3,4,5,6,7,8,9,0], columns=['value'], index=index)\n"
   ]
  },
  {
   "cell_type": "code",
   "execution_count": 255,
   "id": "lightweight-startup",
   "metadata": {},
   "outputs": [],
   "source": [
    "loc_arr = data.index.indexer_between_time(start_time='01:15',\n",
    "                                end_time='02:00')"
   ]
  },
  {
   "cell_type": "code",
   "execution_count": 256,
   "id": "equal-bibliography",
   "metadata": {},
   "outputs": [
    {
     "data": {
      "text/html": [
       "<div>\n",
       "<style scoped>\n",
       "    .dataframe tbody tr th:only-of-type {\n",
       "        vertical-align: middle;\n",
       "    }\n",
       "\n",
       "    .dataframe tbody tr th {\n",
       "        vertical-align: top;\n",
       "    }\n",
       "\n",
       "    .dataframe thead th {\n",
       "        text-align: right;\n",
       "    }\n",
       "</style>\n",
       "<table border=\"1\" class=\"dataframe\">\n",
       "  <thead>\n",
       "    <tr style=\"text-align: right;\">\n",
       "      <th></th>\n",
       "      <th>value</th>\n",
       "    </tr>\n",
       "  </thead>\n",
       "  <tbody>\n",
       "    <tr>\n",
       "      <th>2013-01-01 01:15:00</th>\n",
       "      <td>6</td>\n",
       "    </tr>\n",
       "    <tr>\n",
       "      <th>2013-01-01 01:30:00</th>\n",
       "      <td>7</td>\n",
       "    </tr>\n",
       "    <tr>\n",
       "      <th>2013-01-01 01:45:00</th>\n",
       "      <td>8</td>\n",
       "    </tr>\n",
       "    <tr>\n",
       "      <th>2013-01-01 02:00:00</th>\n",
       "      <td>9</td>\n",
       "    </tr>\n",
       "  </tbody>\n",
       "</table>\n",
       "</div>"
      ],
      "text/plain": [
       "                     value\n",
       "2013-01-01 01:15:00      6\n",
       "2013-01-01 01:30:00      7\n",
       "2013-01-01 01:45:00      8\n",
       "2013-01-01 02:00:00      9"
      ]
     },
     "execution_count": 256,
     "metadata": {},
     "output_type": "execute_result"
    }
   ],
   "source": [
    "data.iloc[loc_arr]"
   ]
  },
  {
   "cell_type": "code",
   "execution_count": null,
   "id": "adolescent-january",
   "metadata": {},
   "outputs": [],
   "source": []
  }
 ],
 "metadata": {
  "kernelspec": {
   "display_name": "Python 3",
   "language": "python",
   "name": "python3"
  },
  "language_info": {
   "codemirror_mode": {
    "name": "ipython",
    "version": 3
   },
   "file_extension": ".py",
   "mimetype": "text/x-python",
   "name": "python",
   "nbconvert_exporter": "python",
   "pygments_lexer": "ipython3",
   "version": "3.9.2"
  }
 },
 "nbformat": 4,
 "nbformat_minor": 5
}
